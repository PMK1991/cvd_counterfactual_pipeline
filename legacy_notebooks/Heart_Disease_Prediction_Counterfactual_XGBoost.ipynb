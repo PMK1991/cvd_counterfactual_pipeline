{
 "cells": [
  {
   "cell_type": "code",
   "execution_count": 3,
   "metadata": {},
   "outputs": [
    {
     "name": "stderr",
     "output_type": "stream",
     "text": [
      "c:\\Users\\praskulkarni\\AppData\\Local\\miniconda3\\Lib\\site-packages\\dice_ml\\utils\\exception.py:12: UserWarning: UserConfigValidationException will be deprecated from dice_ml.utils. Please import UserConfigValidationException from raiutils.exceptions.\n",
      "  warnings.warn(\"UserConfigValidationException will be deprecated from dice_ml.utils. \"\n"
     ]
    }
   ],
   "source": [
    "import pandas as pd\n",
    "from sklearn.model_selection import train_test_split, GridSearchCV\n",
    "from sklearn.pipeline import Pipeline\n",
    "from sklearn.preprocessing import StandardScaler\n",
    "from sklearn.preprocessing import OneHotEncoder\n",
    "from sklearn.compose import ColumnTransformer\n",
    "from sklearn.metrics import classification_report\n",
    "from sklearn.linear_model import LogisticRegression\n",
    "train_test_split\n",
    "from sklearn.tree import DecisionTreeClassifier\n",
    "import dice_ml\n",
    "from dice_ml.utils import helpers # helper functions\n",
    "from dice_ml import Data,Model,Dice\n",
    "import numpy as np\n",
    "from xgboost import XGBClassifier\n",
    "\n"
   ]
  },
  {
   "cell_type": "code",
   "execution_count": 4,
   "metadata": {},
   "outputs": [],
   "source": [
    "dataframe_heart_disease = pd.read_csv(\"heart_statlog_cleveland_hungary_final.csv\")\n",
    "\n",
    "dataframe_heart_disease =  dataframe_heart_disease.dropna()\n",
    "dataframe_heart_disease = dataframe_heart_disease[dataframe_heart_disease['chol'] !=0]\n",
    "dataframe_heart_disease = dataframe_heart_disease[dataframe_heart_disease['trestbps'] !=0]"
   ]
  },
  {
   "cell_type": "code",
   "execution_count": 5,
   "metadata": {},
   "outputs": [],
   "source": [
    "# Split the data into features and target label\n",
    "y = dataframe_heart_disease.target\n",
    "X = dataframe_heart_disease.drop(['target'], axis=1)"
   ]
  },
  {
   "cell_type": "code",
   "execution_count": 6,
   "metadata": {},
   "outputs": [],
   "source": [
    "# Split the data into training and testing sets\n",
    "X_train, X_test, y_train, y_test = train_test_split(X, y, test_size=0.2, random_state=42)"
   ]
  },
  {
   "cell_type": "code",
   "execution_count": 7,
   "metadata": {},
   "outputs": [],
   "source": [
    "numerical = ['age', 'trestbps', 'chol', 'thalach', 'oldpeak']\n",
    "\n",
    "categorical = X_train.columns.difference(numerical)"
   ]
  },
  {
   "cell_type": "code",
   "execution_count": 8,
   "metadata": {},
   "outputs": [
    {
     "data": {
      "text/plain": [
       "Index(['cp', 'exang', 'fbs', 'restecg', 'sex', 'slope'], dtype='object')"
      ]
     },
     "execution_count": 8,
     "metadata": {},
     "output_type": "execute_result"
    }
   ],
   "source": [
    "categorical"
   ]
  },
  {
   "cell_type": "code",
   "execution_count": 9,
   "metadata": {},
   "outputs": [
    {
     "data": {
      "text/plain": [
       "\"transformations = ColumnTransformer(\\n    transformers=[('num', numeric_transformer, numerical)])\""
      ]
     },
     "execution_count": 9,
     "metadata": {},
     "output_type": "execute_result"
    }
   ],
   "source": [
    "# We create the preprocessing pipelines for both numeric and categorical data.\n",
    "numeric_transformer = Pipeline(steps=[\n",
    "    ('scaler', StandardScaler())])\n",
    "\n",
    "categorical_transformer = Pipeline(steps=[\n",
    "    ('onehot', OneHotEncoder(handle_unknown='ignore'))])\n",
    "\n",
    "transformations = ColumnTransformer(\n",
    "    transformers=[\n",
    "        ('num', numeric_transformer, numerical),\n",
    "        ('cat', categorical_transformer, categorical)])\n",
    "\n",
    "\n",
    "'''transformations = ColumnTransformer(\n",
    "    transformers=[('num', numeric_transformer, numerical)])'''"
   ]
  },
  {
   "cell_type": "code",
   "execution_count": 10,
   "metadata": {},
   "outputs": [],
   "source": [
    "# Append classifier to preprocessing pipeline.\n",
    "# Now we have a full prediction pipeline.\n",
    "clf = Pipeline(steps=[('preprocessor', transformations),\n",
    "                      ('classifier', XGBClassifier())])\n",
    "xgb_model = clf.fit(X_train, y_train)\n"
   ]
  },
  {
   "cell_type": "code",
   "execution_count": 11,
   "metadata": {},
   "outputs": [],
   "source": [
    "param_grid = {\n",
    "    'classifier__max_depth': [3, 4, 5],\n",
    "    'classifier__learning_rate': [0.01, 0.1, 0.5],\n",
    "    'classifier__n_estimators': [100, 200, 300],\n",
    "    'classifier__gamma': [0, 0.1, 0.5]\n",
    "}\n"
   ]
  },
  {
   "cell_type": "code",
   "execution_count": 12,
   "metadata": {},
   "outputs": [
    {
     "name": "stdout",
     "output_type": "stream",
     "text": [
      "Best parameters:  {'classifier__gamma': 0, 'classifier__learning_rate': 0.5, 'classifier__max_depth': 5, 'classifier__n_estimators': 200}\n",
      "Test set score:  0.9166666666666666\n"
     ]
    }
   ],
   "source": [
    "# Use GridSearchCV to find the best hyperparameters\n",
    "grid_search = GridSearchCV(xgb_model, param_grid=param_grid)\n",
    "grid_search.fit(X_train, y_train)\n",
    "\n",
    "\n",
    "# Print the best parameters and the score on the test set\n",
    "print(\"Best parameters: \", grid_search.best_params_)\n",
    "print(\"Test set score: \", grid_search.score(X_test, y_test))"
   ]
  },
  {
   "cell_type": "code",
   "execution_count": 13,
   "metadata": {},
   "outputs": [
    {
     "data": {
      "text/plain": [
       "'from sklearn.metrics import make_scorer, recall_score\\nfrom sklearn.model_selection import GridSearchCV\\n\\n# Define the parameter grid\\nparam_grid = {\\n    \\'classifier__max_depth\\': [3, 4, 5],\\n    \\'classifier__learning_rate\\': [0.01, 0.1, 0.5],\\n    \\'classifier__n_estimators\\': [100, 200, 300],\\n    \\'classifier__gamma\\': [0, 0.1, 0.5]\\n}\\n\\n# Define the recall scorer\\nscorer = make_scorer(recall_score)\\n\\n# Use GridSearchCV to find the best hyperparameters\\ngrid_search = GridSearchCV(xgb_model, param_grid=param_grid, scoring=scorer)\\ngrid_search.fit(X_train, y_train)\\n\\n# Print the best parameters and the score on the test set\\nprint(\"Best parameters: \", grid_search.best_params_)\\nprint(\"Test set score: \", grid_search.score(X_test, y_test))'"
      ]
     },
     "execution_count": 13,
     "metadata": {},
     "output_type": "execute_result"
    }
   ],
   "source": [
    "'''from sklearn.metrics import make_scorer, recall_score\n",
    "from sklearn.model_selection import GridSearchCV\n",
    "\n",
    "# Define the parameter grid\n",
    "param_grid = {\n",
    "    'classifier__max_depth': [3, 4, 5],\n",
    "    'classifier__learning_rate': [0.01, 0.1, 0.5],\n",
    "    'classifier__n_estimators': [100, 200, 300],\n",
    "    'classifier__gamma': [0, 0.1, 0.5]\n",
    "}\n",
    "\n",
    "# Define the recall scorer\n",
    "scorer = make_scorer(recall_score)\n",
    "\n",
    "# Use GridSearchCV to find the best hyperparameters\n",
    "grid_search = GridSearchCV(xgb_model, param_grid=param_grid, scoring=scorer)\n",
    "grid_search.fit(X_train, y_train)\n",
    "\n",
    "# Print the best parameters and the score on the test set\n",
    "print(\"Best parameters: \", grid_search.best_params_)\n",
    "print(\"Test set score: \", grid_search.score(X_test, y_test))'''"
   ]
  },
  {
   "cell_type": "code",
   "execution_count": 14,
   "metadata": {},
   "outputs": [],
   "source": [
    "# create the pipeline with the XGBClassifier\n",
    "pipeline = Pipeline(steps=[\n",
    "    ('preprocessor', transformations),\n",
    "    ('classifier', XGBClassifier(max_depth=5, learning_rate=0.5, n_estimators=200, gamma=0))\n",
    "])\n"
   ]
  },
  {
   "cell_type": "code",
   "execution_count": 15,
   "metadata": {},
   "outputs": [
    {
     "name": "stdout",
     "output_type": "stream",
     "text": [
      "       Accuracy  Precision    Recall  F1 Score  ROC AUC Score\n",
      "Train  1.000000   1.000000  1.000000  1.000000       1.000000\n",
      "Test   0.916667   0.906542  0.932692  0.919431       0.916346\n"
     ]
    }
   ],
   "source": [
    "from sklearn.metrics import accuracy_score, precision_score, recall_score, f1_score, roc_auc_score, confusion_matrix\n",
    "\n",
    "# Fit the pipeline to the training data\n",
    "pipeline.fit(X_train, y_train)\n",
    "\n",
    "# Make predictions on the training and test data\n",
    "train_preds = pipeline.predict(X_train)\n",
    "test_preds = pipeline.predict(X_test)\n",
    "\n",
    "import pandas as pd\n",
    "\n",
    "# Compute various classification metrics\n",
    "metrics = {\n",
    "    'Accuracy': [accuracy_score(y_train, train_preds), accuracy_score(y_test, test_preds)],\n",
    "    'Precision': [precision_score(y_train, train_preds), precision_score(y_test, test_preds)],\n",
    "    'Recall': [recall_score(y_train, train_preds), recall_score(y_test, test_preds)],\n",
    "    'F1 Score': [f1_score(y_train, train_preds), f1_score(y_test, test_preds)],\n",
    "    'ROC AUC Score': [roc_auc_score(y_train, train_preds), roc_auc_score(y_test, test_preds)]\n",
    "}\n",
    "\n",
    "# Create a DataFrame from the metrics\n",
    "df_metrics = pd.DataFrame(metrics, index=['Train', 'Test'])\n",
    "\n",
    "df_metrics.to_clipboard()\n",
    "\n",
    "# Print the DataFrame\n",
    "print(df_metrics)"
   ]
  },
  {
   "cell_type": "code",
   "execution_count": 16,
   "metadata": {},
   "outputs": [
    {
     "ename": "NameError",
     "evalue": "name 'lr_model' is not defined",
     "output_type": "error",
     "traceback": [
      "\u001b[1;31m---------------------------------------------------------------------------\u001b[0m",
      "\u001b[1;31mNameError\u001b[0m                                 Traceback (most recent call last)",
      "Cell \u001b[1;32mIn[16], line 2\u001b[0m\n\u001b[0;32m      1\u001b[0m \u001b[38;5;66;03m# Use GridSearchCV to find the best hyperparameters\u001b[39;00m\n\u001b[1;32m----> 2\u001b[0m grid_search \u001b[38;5;241m=\u001b[39m GridSearchCV(\u001b[43mlr_model\u001b[49m, param_grid\u001b[38;5;241m=\u001b[39mparam_grid, error_score\u001b[38;5;241m=\u001b[39m\u001b[38;5;124m'\u001b[39m\u001b[38;5;124mraise\u001b[39m\u001b[38;5;124m'\u001b[39m)\n\u001b[0;32m      3\u001b[0m grid_search\u001b[38;5;241m.\u001b[39mfit(X_train, y_train)\n\u001b[0;32m      6\u001b[0m \u001b[38;5;66;03m# Print the best parameters and the score on the test set\u001b[39;00m\n",
      "\u001b[1;31mNameError\u001b[0m: name 'lr_model' is not defined"
     ]
    }
   ],
   "source": [
    "# Use GridSearchCV to find the best hyperparameters\n",
    "grid_search = GridSearchCV(lr_model, param_grid=param_grid, error_score='raise')\n",
    "grid_search.fit(X_train, y_train)\n",
    "\n",
    "\n",
    "# Print the best parameters and the score on the test set\n",
    "print(\"Best parameters: \", grid_search.best_params_)\n",
    "print(\"Test set score: \", grid_search.score(X_test, y_test))"
   ]
  },
  {
   "cell_type": "code",
   "execution_count": null,
   "metadata": {},
   "outputs": [
    {
     "data": {
      "image/png": "[encoded data removed]",
      "text/plain": [
       "<Figure size 1500x500 with 3 Axes>"
      ]
     },
     "metadata": {},
     "output_type": "display_data"
    }
   ],
   "source": [
    "import matplotlib.pyplot as plt\n",
    "from sklearn.metrics import roc_curve, precision_recall_curve, auc\n",
    "from sklearn.model_selection import learning_curve\n",
    "\n",
    "# Assuming pipeline is your trained classifier and X_test is your test data\n",
    "y_pred_proba = pipeline.predict_proba(X_test)[:, 1]\n",
    "\n",
    "# Compute the ROC curve\n",
    "fpr, tpr, _ = roc_curve(y_test, y_pred_proba)\n",
    "roc_auc = auc(fpr, tpr)\n",
    "\n",
    "# Compute the Precision-Recall curve\n",
    "precision, recall, _ = precision_recall_curve(y_test, y_pred_proba)\n",
    "\n",
    "# Compute the learning curve\n",
    "train_sizes, train_scores, test_scores = learning_curve(pipeline, X, y, train_sizes=np.linspace(0.1, 1.0, 10), cv=5)\n",
    "train_mean = np.mean(train_scores, axis=1)\n",
    "test_mean = np.mean(test_scores, axis=1)\n",
    "\n",
    "# Create a 1 by 3 grid of plots\n",
    "fig, (ax1, ax2, ax3) = plt.subplots(1, 3, figsize=(15, 5))\n",
    "\n",
    "# Plot the ROC curve\n",
    "ax1.plot(fpr, tpr, label='ROC curve (area = %0.2f)' % roc_auc)\n",
    "ax1.plot([0, 1], [0, 1], 'k--')\n",
    "ax1.set_xlim([0.0, 1.0])\n",
    "ax1.set_ylim([0.0, 1.05])\n",
    "ax1.set_xlabel('False Positive Rate')\n",
    "ax1.set_ylabel('True Positive Rate')\n",
    "ax1.set_title('Receiver Operating Characteristic')\n",
    "ax1.legend(loc=\"lower right\")\n",
    "\n",
    "# Plot the Precision-Recall curve\n",
    "ax2.plot(recall, precision)\n",
    "ax2.set_xlim([0.0, 1.0])\n",
    "ax2.set_ylim([0.0, 1.05])\n",
    "ax2.set_xlabel('Recall')\n",
    "ax2.set_ylabel('Precision')\n",
    "ax2.set_title('Precision-Recall Curve')\n",
    "\n",
    "# Plot the learning curve\n",
    "ax3.plot(train_sizes, train_mean, label='Training score')\n",
    "ax3.plot(train_sizes, test_mean, label='Cross-validation score')\n",
    "ax3.set_xlabel('Number of Training Examples')\n",
    "ax3.set_ylabel('Score')\n",
    "ax3.set_title('Learning Curve')\n",
    "ax3.legend(loc='best')\n",
    "\n",
    "# Display the plots\n",
    "plt.tight_layout()\n",
    "plt.show()"
   ]
  },
  {
   "cell_type": "code",
   "execution_count": null,
   "metadata": {},
   "outputs": [
    {
     "data": {
      "image/png": "[encoded data removed]",
      "text/plain": [
       "<Figure size 640x480 with 1 Axes>"
      ]
     },
     "metadata": {},
     "output_type": "display_data"
    }
   ],
   "source": [
    "from sklearn.metrics import precision_recall_curve\n",
    "import matplotlib.pyplot as plt\n",
    "\n",
    "# Fit the pipeline to the training data\n",
    "pipeline.fit(X_train, y_train)\n",
    "\n",
    "# Make predictions on the test data\n",
    "test_preds = pipeline.predict(X_test)\n",
    "\n",
    "# Compute the precision, recall, and thresholds\n",
    "precision, recall, thresholds = precision_recall_curve(y_test, test_preds)\n",
    "\n",
    "# Plot the precision-recall curve\n",
    "plt.plot(recall, precision)\n",
    "plt.title('Precision-Recall Curve')\n",
    "plt.xlabel('Recall')\n",
    "plt.ylabel('Precision')\n",
    "plt.show()"
   ]
  },
  {
   "cell_type": "code",
   "execution_count": null,
   "metadata": {},
   "outputs": [
    {
     "data": {
      "image/png": "[encoded data removed]",
      "text/plain": [
       "<Figure size 640x480 with 1 Axes>"
      ]
     },
     "metadata": {},
     "output_type": "display_data"
    }
   ],
   "source": [
    "from sklearn.metrics import roc_curve\n",
    "import matplotlib.pyplot as plt\n",
    "\n",
    "# Fit the pipeline to the training data\n",
    "pipeline.fit(X_train, y_train)\n",
    "\n",
    "# Make predictions on the test data\n",
    "test_preds = pipeline.predict(X_test)\n",
    "\n",
    "# Compute the false positive rate, true positive rate, and thresholds\n",
    "fpr, tpr, thresholds = roc_curve(y_test, test_preds)\n",
    "\n",
    "# Plot the ROC curve\n",
    "plt.plot(fpr, tpr)\n",
    "plt.title('ROC Curve')\n",
    "plt.xlabel('False Positive Rate')\n",
    "plt.ylabel('True Positive Rate')\n",
    "plt.show()"
   ]
  },
  {
   "cell_type": "code",
   "execution_count": null,
   "metadata": {},
   "outputs": [
    {
     "data": {
      "image/png": "[encoded data removed]",
      "text/plain": [
       "<Figure size 640x480 with 1 Axes>"
      ]
     },
     "metadata": {},
     "output_type": "display_data"
    }
   ],
   "source": [
    "from sklearn.model_selection import learning_curve\n",
    "import numpy as np\n",
    "import matplotlib.pyplot as plt\n",
    "\n",
    "# Define the number of training examples to use\n",
    "train_sizes = np.linspace(0.1, 1.0, 10)\n",
    "\n",
    "# Compute the learning curve\n",
    "train_sizes, train_scores, test_scores = learning_curve(pipeline, X, y, train_sizes=train_sizes, cv=5)\n",
    "\n",
    "# Compute the mean and standard deviation of the training and test scores\n",
    "train_mean = np.mean(train_scores, axis=1)\n",
    "train_std = np.std(train_scores, axis=1)\n",
    "test_mean = np.mean(test_scores, axis=1)\n",
    "test_std = np.std(test_scores, axis=1)\n",
    "\n",
    "# Plot the learning curve\n",
    "plt.plot(train_sizes, train_mean, label='Training score')\n",
    "plt.fill_between(train_sizes, train_mean - train_std, train_mean + train_std, alpha=0.2)\n",
    "plt.plot(train_sizes, test_mean, label='Cross-validation score')\n",
    "plt.fill_between(train_sizes, test_mean - test_std, test_mean + test_std, alpha=0.2)\n",
    "plt.title('Learning Curve')\n",
    "plt.xlabel('Number of Training Examples')\n",
    "plt.ylabel('Score')\n",
    "plt.legend(loc='best')\n",
    "plt.show()"
   ]
  },
  {
   "cell_type": "code",
   "execution_count": null,
   "metadata": {},
   "outputs": [
    {
     "data": {
      "text/plain": [
       "{'chol': 0.9764865197587098,\n",
       " 'thalach': 0.9347531700110796,\n",
       " 'age': 0.9297057737289179,\n",
       " 'trestbps': 0.8015511510525668,\n",
       " 'oldpeak': 0.44897205465960854,\n",
       " 'cp': 0.3046903853256186,\n",
       " 'restecg': 0.2611104271820756,\n",
       " 'slope': 0.19389388157084822,\n",
       " 'sex': 0.13997291641019327,\n",
       " 'exang': 0.12310722639418933,\n",
       " 'fbs': 0.11338175550904839}"
      ]
     },
     "execution_count": 20,
     "metadata": {},
     "output_type": "execute_result"
    }
   ],
   "source": [
    "{'chol': 0.9764865197587098, 'thalach': 0.9347531700110796, 'age': 0.9297057737289179, 'trestbps': 0.8015511510525668, 'oldpeak': 0.44897205465960854, 'cp': 0.3046903853256186, 'restecg': 0.2611104271820756, 'slope': 0.19389388157084822, 'sex': 0.13997291641019327, 'exang': 0.12310722639418933, 'fbs': 0.11338175550904839}\n"
   ]
  },
  {
   "cell_type": "code",
   "execution_count": null,
   "metadata": {},
   "outputs": [
    {
     "data": {
      "image/png": "[encoded data removed]",
      "text/plain": [
       "<Figure size 800x600 with 1 Axes>"
      ]
     },
     "metadata": {},
     "output_type": "display_data"
    }
   ],
   "source": [
    "import matplotlib.pyplot as plt\n",
    "import seaborn as sns\n",
    "\n",
    "# Define the dictionary\n",
    "data = {\n",
    "    'chol': 0.9764865197587098,\n",
    "    'thalach': 0.9347531700110796,\n",
    "    'age': 0.9297057737289179,\n",
    "    'trestbps': 0.8015511510525668,\n",
    "    'oldpeak': 0.44897205465960854,\n",
    "    'cp': 0.3046903853256186,\n",
    "    'restecg': 0.2611104271820756,\n",
    "    'slope': 0.19389388157084822,\n",
    "    'sex': 0.13997291641019327,\n",
    "    'exang': 0.12310722639418933,\n",
    "    'fbs': 0.11338175550904839\n",
    "}\n",
    "\n",
    "# Set the figure size and style\n",
    "plt.figure(figsize=(8, 6))\n",
    "\n",
    "\n",
    "# Create a horizontal bar chart\n",
    "plt.barh(list(data.keys()), list(data.values()), align='center', color='skyblue')\n",
    "plt.xlabel('Importance', fontsize=12)\n",
    "plt.ylabel('Feature', fontsize=12)\n",
    "plt.title('Feature Importance', fontsize=14)\n",
    "plt.xticks(fontsize=10)\n",
    "plt.yticks(fontsize=10)\n",
    "plt.gca().invert_yaxis()\n",
    "\n",
    "# Add annotations to the bars\n",
    "for i, v in enumerate(data.values()):\n",
    "    plt.text(v + 0.01, i, str(round(v, 2)), fontsize=10)\n",
    "\n",
    "# Show the plot\n",
    "plt.show()"
   ]
  },
  {
   "cell_type": "code",
   "execution_count": null,
   "metadata": {},
   "outputs": [
    {
     "data": {
      "image/png": "[encoded data removed]",
      "text/plain": [
       "<Figure size 640x480 with 1 Axes>"
      ]
     },
     "metadata": {},
     "output_type": "display_data"
    }
   ],
   "source": [
    "import matplotlib.pyplot as plt\n",
    "\n",
    "# Define the dictionary\n",
    "data = {'chol': 0.9764865197587098, 'thalach': 0.9347531700110796, 'age': 0.9297057737289179, 'trestbps': 0.8015511510525668, 'oldpeak': 0.44897205465960854, 'cp': 0.3046903853256186, 'restecg': 0.2611104271820756, 'slope': 0.19389388157084822, 'sex': 0.13997291641019327, 'exang': 0.12310722639418933, 'fbs': 0.11338175550904839}\n",
    "\n",
    "# Create a horizontal bar chart\n",
    "plt.barh(range(len(data)), list(data.values()), align='center')\n",
    "plt.yticks(range(len(data)), list(data.keys()))\n",
    "plt.xlabel('Importance')\n",
    "plt.ylabel('Feature')\n",
    "plt.title('Feature Importance')\n",
    "plt.show()"
   ]
  },
  {
   "cell_type": "code",
   "execution_count": null,
   "metadata": {},
   "outputs": [],
   "source": [
    "# train the model on the entire training set\n",
    "xgb_pipeline = pipeline.fit(X_train, y_train)\n",
    "\n",
    "# make predictions on the test set\n",
    "y_pred = xgb_pipeline.predict(X_test)\n"
   ]
  },
  {
   "cell_type": "code",
   "execution_count": null,
   "metadata": {},
   "outputs": [],
   "source": [
    "X_high_risk_tp = X_test[(y_pred == 1) & (y_test == 1)].reset_index().drop(['index'], axis=1)"
   ]
  },
  {
   "cell_type": "code",
   "execution_count": null,
   "metadata": {},
   "outputs": [],
   "source": [
    "train_data = pd.concat([X_train, y_train], axis=1)\n",
    "\n",
    "\n",
    "# Create a DICE data object\n",
    "d = Data(dataframe=pd.DataFrame(train_data, columns=dataframe_heart_disease.columns), continuous_features=['age', 'trestbps', 'chol', 'thalach', 'oldpeak'],outcome_name='target')\n",
    "\n",
    "# Create a DICE model object\n",
    "m = Model(model=xgb_pipeline, backend=\"sklearn\")"
   ]
  },
  {
   "cell_type": "code",
   "execution_count": null,
   "metadata": {},
   "outputs": [],
   "source": [
    "test_instance = X_high_risk_tp[10:11]\n"
   ]
  },
  {
   "cell_type": "code",
   "execution_count": null,
   "metadata": {},
   "outputs": [
    {
     "name": "stderr",
     "output_type": "stream",
     "text": [
      "100%|██████████| 1/1 [00:04<00:00,  4.35s/it]"
     ]
    },
    {
     "name": "stdout",
     "output_type": "stream",
     "text": [
      "Query instance (original outcome : 1)\n"
     ]
    },
    {
     "name": "stderr",
     "output_type": "stream",
     "text": [
      "\n"
     ]
    },
    {
     "data": {
      "text/html": [
       "<div>\n",
       "<style scoped>\n",
       "    .dataframe tbody tr th:only-of-type {\n",
       "        vertical-align: middle;\n",
       "    }\n",
       "\n",
       "    .dataframe tbody tr th {\n",
       "        vertical-align: top;\n",
       "    }\n",
       "\n",
       "    .dataframe thead th {\n",
       "        text-align: right;\n",
       "    }\n",
       "</style>\n",
       "<table border=\"1\" class=\"dataframe\">\n",
       "  <thead>\n",
       "    <tr style=\"text-align: right;\">\n",
       "      <th></th>\n",
       "      <th>age</th>\n",
       "      <th>sex</th>\n",
       "      <th>cp</th>\n",
       "      <th>trestbps</th>\n",
       "      <th>chol</th>\n",
       "      <th>fbs</th>\n",
       "      <th>restecg</th>\n",
       "      <th>thalach</th>\n",
       "      <th>exang</th>\n",
       "      <th>oldpeak</th>\n",
       "      <th>slope</th>\n",
       "      <th>target</th>\n",
       "    </tr>\n",
       "  </thead>\n",
       "  <tbody>\n",
       "    <tr>\n",
       "      <th>0</th>\n",
       "      <td>69.0</td>\n",
       "      <td>1</td>\n",
       "      <td>4</td>\n",
       "      <td>145.0</td>\n",
       "      <td>289.0</td>\n",
       "      <td>1</td>\n",
       "      <td>1</td>\n",
       "      <td>110.0</td>\n",
       "      <td>1</td>\n",
       "      <td>1.8</td>\n",
       "      <td>2</td>\n",
       "      <td>1</td>\n",
       "    </tr>\n",
       "  </tbody>\n",
       "</table>\n",
       "</div>"
      ],
      "text/plain": [
       "    age sex cp  trestbps   chol fbs restecg  thalach exang  oldpeak slope  \\\n",
       "0  69.0   1  4     145.0  289.0   1       1    110.0     1      1.8     2   \n",
       "\n",
       "   target  \n",
       "0       1  "
      ]
     },
     "metadata": {},
     "output_type": "display_data"
    },
    {
     "name": "stdout",
     "output_type": "stream",
     "text": [
      "\n",
      "Diverse Counterfactual set (new outcome: 0)\n"
     ]
    },
    {
     "data": {
      "text/html": [
       "<div>\n",
       "<style scoped>\n",
       "    .dataframe tbody tr th:only-of-type {\n",
       "        vertical-align: middle;\n",
       "    }\n",
       "\n",
       "    .dataframe tbody tr th {\n",
       "        vertical-align: top;\n",
       "    }\n",
       "\n",
       "    .dataframe thead th {\n",
       "        text-align: right;\n",
       "    }\n",
       "</style>\n",
       "<table border=\"1\" class=\"dataframe\">\n",
       "  <thead>\n",
       "    <tr style=\"text-align: right;\">\n",
       "      <th></th>\n",
       "      <th>age</th>\n",
       "      <th>sex</th>\n",
       "      <th>cp</th>\n",
       "      <th>trestbps</th>\n",
       "      <th>chol</th>\n",
       "      <th>fbs</th>\n",
       "      <th>restecg</th>\n",
       "      <th>thalach</th>\n",
       "      <th>exang</th>\n",
       "      <th>oldpeak</th>\n",
       "      <th>slope</th>\n",
       "      <th>target</th>\n",
       "    </tr>\n",
       "  </thead>\n",
       "  <tbody>\n",
       "    <tr>\n",
       "      <th>0</th>\n",
       "      <td>69.0</td>\n",
       "      <td>1</td>\n",
       "      <td>4</td>\n",
       "      <td>120.0</td>\n",
       "      <td>192.0</td>\n",
       "      <td>1</td>\n",
       "      <td>1</td>\n",
       "      <td>146.0</td>\n",
       "      <td>1</td>\n",
       "      <td>1.8</td>\n",
       "      <td>2</td>\n",
       "      <td>0</td>\n",
       "    </tr>\n",
       "    <tr>\n",
       "      <th>0</th>\n",
       "      <td>69.0</td>\n",
       "      <td>1</td>\n",
       "      <td>4</td>\n",
       "      <td>120.0</td>\n",
       "      <td>187.0</td>\n",
       "      <td>1</td>\n",
       "      <td>1</td>\n",
       "      <td>147.0</td>\n",
       "      <td>1</td>\n",
       "      <td>1.8</td>\n",
       "      <td>2</td>\n",
       "      <td>0</td>\n",
       "    </tr>\n",
       "    <tr>\n",
       "      <th>0</th>\n",
       "      <td>69.0</td>\n",
       "      <td>1</td>\n",
       "      <td>4</td>\n",
       "      <td>120.0</td>\n",
       "      <td>174.0</td>\n",
       "      <td>1</td>\n",
       "      <td>1</td>\n",
       "      <td>146.0</td>\n",
       "      <td>1</td>\n",
       "      <td>1.8</td>\n",
       "      <td>2</td>\n",
       "      <td>0</td>\n",
       "    </tr>\n",
       "    <tr>\n",
       "      <th>0</th>\n",
       "      <td>69.0</td>\n",
       "      <td>1</td>\n",
       "      <td>4</td>\n",
       "      <td>120.0</td>\n",
       "      <td>175.0</td>\n",
       "      <td>1</td>\n",
       "      <td>1</td>\n",
       "      <td>148.0</td>\n",
       "      <td>1</td>\n",
       "      <td>1.8</td>\n",
       "      <td>2</td>\n",
       "      <td>0</td>\n",
       "    </tr>\n",
       "    <tr>\n",
       "      <th>0</th>\n",
       "      <td>69.0</td>\n",
       "      <td>1</td>\n",
       "      <td>4</td>\n",
       "      <td>120.0</td>\n",
       "      <td>196.0</td>\n",
       "      <td>1</td>\n",
       "      <td>1</td>\n",
       "      <td>151.0</td>\n",
       "      <td>1</td>\n",
       "      <td>1.8</td>\n",
       "      <td>2</td>\n",
       "      <td>0</td>\n",
       "    </tr>\n",
       "    <tr>\n",
       "      <th>0</th>\n",
       "      <td>69.0</td>\n",
       "      <td>1</td>\n",
       "      <td>4</td>\n",
       "      <td>120.0</td>\n",
       "      <td>178.0</td>\n",
       "      <td>1</td>\n",
       "      <td>1</td>\n",
       "      <td>151.0</td>\n",
       "      <td>1</td>\n",
       "      <td>1.8</td>\n",
       "      <td>2</td>\n",
       "      <td>0</td>\n",
       "    </tr>\n",
       "    <tr>\n",
       "      <th>0</th>\n",
       "      <td>69.0</td>\n",
       "      <td>1</td>\n",
       "      <td>4</td>\n",
       "      <td>103.0</td>\n",
       "      <td>196.0</td>\n",
       "      <td>1</td>\n",
       "      <td>1</td>\n",
       "      <td>127.0</td>\n",
       "      <td>1</td>\n",
       "      <td>1.8</td>\n",
       "      <td>2</td>\n",
       "      <td>0</td>\n",
       "    </tr>\n",
       "    <tr>\n",
       "      <th>0</th>\n",
       "      <td>69.0</td>\n",
       "      <td>1</td>\n",
       "      <td>4</td>\n",
       "      <td>111.0</td>\n",
       "      <td>194.0</td>\n",
       "      <td>1</td>\n",
       "      <td>1</td>\n",
       "      <td>142.0</td>\n",
       "      <td>1</td>\n",
       "      <td>1.8</td>\n",
       "      <td>2</td>\n",
       "      <td>0</td>\n",
       "    </tr>\n",
       "    <tr>\n",
       "      <th>0</th>\n",
       "      <td>69.0</td>\n",
       "      <td>1</td>\n",
       "      <td>4</td>\n",
       "      <td>110.0</td>\n",
       "      <td>197.0</td>\n",
       "      <td>1</td>\n",
       "      <td>1</td>\n",
       "      <td>142.0</td>\n",
       "      <td>1</td>\n",
       "      <td>1.8</td>\n",
       "      <td>2</td>\n",
       "      <td>0</td>\n",
       "    </tr>\n",
       "    <tr>\n",
       "      <th>0</th>\n",
       "      <td>69.0</td>\n",
       "      <td>1</td>\n",
       "      <td>4</td>\n",
       "      <td>110.0</td>\n",
       "      <td>197.0</td>\n",
       "      <td>1</td>\n",
       "      <td>1</td>\n",
       "      <td>142.0</td>\n",
       "      <td>1</td>\n",
       "      <td>1.8</td>\n",
       "      <td>2</td>\n",
       "      <td>0</td>\n",
       "    </tr>\n",
       "    <tr>\n",
       "      <th>0</th>\n",
       "      <td>69.0</td>\n",
       "      <td>1</td>\n",
       "      <td>4</td>\n",
       "      <td>111.0</td>\n",
       "      <td>190.0</td>\n",
       "      <td>1</td>\n",
       "      <td>1</td>\n",
       "      <td>143.0</td>\n",
       "      <td>1</td>\n",
       "      <td>1.8</td>\n",
       "      <td>2</td>\n",
       "      <td>0</td>\n",
       "    </tr>\n",
       "    <tr>\n",
       "      <th>0</th>\n",
       "      <td>69.0</td>\n",
       "      <td>1</td>\n",
       "      <td>4</td>\n",
       "      <td>114.0</td>\n",
       "      <td>155.0</td>\n",
       "      <td>1</td>\n",
       "      <td>1</td>\n",
       "      <td>146.0</td>\n",
       "      <td>1</td>\n",
       "      <td>1.8</td>\n",
       "      <td>2</td>\n",
       "      <td>0</td>\n",
       "    </tr>\n",
       "    <tr>\n",
       "      <th>0</th>\n",
       "      <td>69.0</td>\n",
       "      <td>1</td>\n",
       "      <td>4</td>\n",
       "      <td>113.0</td>\n",
       "      <td>198.0</td>\n",
       "      <td>1</td>\n",
       "      <td>1</td>\n",
       "      <td>150.0</td>\n",
       "      <td>1</td>\n",
       "      <td>1.8</td>\n",
       "      <td>2</td>\n",
       "      <td>0</td>\n",
       "    </tr>\n",
       "    <tr>\n",
       "      <th>0</th>\n",
       "      <td>69.0</td>\n",
       "      <td>1</td>\n",
       "      <td>4</td>\n",
       "      <td>110.0</td>\n",
       "      <td>186.0</td>\n",
       "      <td>1</td>\n",
       "      <td>1</td>\n",
       "      <td>142.0</td>\n",
       "      <td>1</td>\n",
       "      <td>1.8</td>\n",
       "      <td>2</td>\n",
       "      <td>0</td>\n",
       "    </tr>\n",
       "    <tr>\n",
       "      <th>0</th>\n",
       "      <td>69.0</td>\n",
       "      <td>1</td>\n",
       "      <td>4</td>\n",
       "      <td>112.0</td>\n",
       "      <td>169.0</td>\n",
       "      <td>1</td>\n",
       "      <td>1</td>\n",
       "      <td>144.0</td>\n",
       "      <td>1</td>\n",
       "      <td>1.8</td>\n",
       "      <td>2</td>\n",
       "      <td>0</td>\n",
       "    </tr>\n",
       "    <tr>\n",
       "      <th>0</th>\n",
       "      <td>69.0</td>\n",
       "      <td>1</td>\n",
       "      <td>4</td>\n",
       "      <td>115.0</td>\n",
       "      <td>173.0</td>\n",
       "      <td>1</td>\n",
       "      <td>1</td>\n",
       "      <td>151.0</td>\n",
       "      <td>1</td>\n",
       "      <td>1.8</td>\n",
       "      <td>2</td>\n",
       "      <td>0</td>\n",
       "    </tr>\n",
       "    <tr>\n",
       "      <th>0</th>\n",
       "      <td>69.0</td>\n",
       "      <td>1</td>\n",
       "      <td>4</td>\n",
       "      <td>110.0</td>\n",
       "      <td>153.0</td>\n",
       "      <td>1</td>\n",
       "      <td>1</td>\n",
       "      <td>143.0</td>\n",
       "      <td>1</td>\n",
       "      <td>1.8</td>\n",
       "      <td>2</td>\n",
       "      <td>0</td>\n",
       "    </tr>\n",
       "    <tr>\n",
       "      <th>0</th>\n",
       "      <td>69.0</td>\n",
       "      <td>1</td>\n",
       "      <td>4</td>\n",
       "      <td>105.0</td>\n",
       "      <td>183.0</td>\n",
       "      <td>1</td>\n",
       "      <td>1</td>\n",
       "      <td>137.0</td>\n",
       "      <td>1</td>\n",
       "      <td>1.8</td>\n",
       "      <td>2</td>\n",
       "      <td>0</td>\n",
       "    </tr>\n",
       "    <tr>\n",
       "      <th>0</th>\n",
       "      <td>69.0</td>\n",
       "      <td>1</td>\n",
       "      <td>4</td>\n",
       "      <td>111.0</td>\n",
       "      <td>191.0</td>\n",
       "      <td>1</td>\n",
       "      <td>1</td>\n",
       "      <td>150.0</td>\n",
       "      <td>1</td>\n",
       "      <td>1.8</td>\n",
       "      <td>2</td>\n",
       "      <td>0</td>\n",
       "    </tr>\n",
       "    <tr>\n",
       "      <th>0</th>\n",
       "      <td>69.0</td>\n",
       "      <td>1</td>\n",
       "      <td>4</td>\n",
       "      <td>104.0</td>\n",
       "      <td>198.0</td>\n",
       "      <td>1</td>\n",
       "      <td>1</td>\n",
       "      <td>137.0</td>\n",
       "      <td>1</td>\n",
       "      <td>1.8</td>\n",
       "      <td>2</td>\n",
       "      <td>0</td>\n",
       "    </tr>\n",
       "  </tbody>\n",
       "</table>\n",
       "</div>"
      ],
      "text/plain": [
       "    age sex cp  trestbps   chol fbs restecg  thalach exang  oldpeak slope  \\\n",
       "0  69.0   1  4     120.0  192.0   1       1    146.0     1      1.8     2   \n",
       "0  69.0   1  4     120.0  187.0   1       1    147.0     1      1.8     2   \n",
       "0  69.0   1  4     120.0  174.0   1       1    146.0     1      1.8     2   \n",
       "0  69.0   1  4     120.0  175.0   1       1    148.0     1      1.8     2   \n",
       "0  69.0   1  4     120.0  196.0   1       1    151.0     1      1.8     2   \n",
       "0  69.0   1  4     120.0  178.0   1       1    151.0     1      1.8     2   \n",
       "0  69.0   1  4     103.0  196.0   1       1    127.0     1      1.8     2   \n",
       "0  69.0   1  4     111.0  194.0   1       1    142.0     1      1.8     2   \n",
       "0  69.0   1  4     110.0  197.0   1       1    142.0     1      1.8     2   \n",
       "0  69.0   1  4     110.0  197.0   1       1    142.0     1      1.8     2   \n",
       "0  69.0   1  4     111.0  190.0   1       1    143.0     1      1.8     2   \n",
       "0  69.0   1  4     114.0  155.0   1       1    146.0     1      1.8     2   \n",
       "0  69.0   1  4     113.0  198.0   1       1    150.0     1      1.8     2   \n",
       "0  69.0   1  4     110.0  186.0   1       1    142.0     1      1.8     2   \n",
       "0  69.0   1  4     112.0  169.0   1       1    144.0     1      1.8     2   \n",
       "0  69.0   1  4     115.0  173.0   1       1    151.0     1      1.8     2   \n",
       "0  69.0   1  4     110.0  153.0   1       1    143.0     1      1.8     2   \n",
       "0  69.0   1  4     105.0  183.0   1       1    137.0     1      1.8     2   \n",
       "0  69.0   1  4     111.0  191.0   1       1    150.0     1      1.8     2   \n",
       "0  69.0   1  4     104.0  198.0   1       1    137.0     1      1.8     2   \n",
       "\n",
       "   target  \n",
       "0       0  \n",
       "0       0  \n",
       "0       0  \n",
       "0       0  \n",
       "0       0  \n",
       "0       0  \n",
       "0       0  \n",
       "0       0  \n",
       "0       0  \n",
       "0       0  \n",
       "0       0  \n",
       "0       0  \n",
       "0       0  \n",
       "0       0  \n",
       "0       0  \n",
       "0       0  \n",
       "0       0  \n",
       "0       0  \n",
       "0       0  \n",
       "0       0  "
      ]
     },
     "metadata": {},
     "output_type": "display_data"
    },
    {
     "name": "stdout",
     "output_type": "stream",
     "text": [
      "None\n"
     ]
    }
   ],
   "source": [
    "# Create a DICE explainer object and generate an explanation\n",
    "\n",
    "exp_dice = Dice(d, m,method='genetic').generate_counterfactuals(test_instance, total_CFs=20, desired_class=\"opposite\",\n",
    "                                                            features_to_vary=[\"trestbps\", \"chol\", \"thalach\"],permitted_range={\"trestbps\": [80,120],\n",
    "                                                            \"chol\": [150, 200],\n",
    "                                                            \"thalach\": [120, 220 - test_instance['age'].values[0]]}\n",
    "                                                            )\n",
    " \n",
    "# Print the explanation\n",
    "print(exp_dice.visualize_as_dataframe())\n",
    "\n"
   ]
  },
  {
   "cell_type": "code",
   "execution_count": null,
   "metadata": {},
   "outputs": [
    {
     "data": {
      "text/plain": [
       "'\\nexp = Dice(d, m,method = \"genetic\").generate_counterfactuals(test_instance, total_CFs=20, desired_class=\"opposite\",\\n                                                            features_to_vary=[\"trestbps\", \"chol\", \"thalach\"],algorithm = \"DiverseCF\",feature_weights=\"inverse_mad\",permitted_range = {\"trestbps\": [80, test_instance[\\'trestbps\\'].values[0]-1], \"chol\": [100, test_instance[\\'chol\\'].values[0]-1], \"thalach\": [70,220- test_instance[\\'age\\'].values[0]]},\\n                                                            proximity_weight=2,diversity_weight=3, sparsity_weight = 2,posthoc_sparsity_algorithm=\"binary\",posthoc_sparsity_param =0.1,maxiterations=10)\\n \\n# Print the explanation\\nprint(exp.visualize_as_dataframe())'"
      ]
     },
     "execution_count": 28,
     "metadata": {},
     "output_type": "execute_result"
    }
   ],
   "source": [
    "# Create a DICE explainer object and generate an explanation\n",
    "'''\n",
    "exp = Dice(d, m,method = \"genetic\").generate_counterfactuals(test_instance, total_CFs=20, desired_class=\"opposite\",\n",
    "                                                            features_to_vary=[\"trestbps\", \"chol\", \"thalach\"],algorithm = \"DiverseCF\",feature_weights=\"inverse_mad\",permitted_range = {\"trestbps\": [80, test_instance['trestbps'].values[0]-1], \"chol\": [100, test_instance['chol'].values[0]-1], \"thalach\": [70,220- test_instance['age'].values[0]]},\n",
    "                                                            proximity_weight=2,diversity_weight=3, sparsity_weight = 2,posthoc_sparsity_algorithm=\"binary\",posthoc_sparsity_param =0.1,maxiterations=10)\n",
    " \n",
    "# Print the explanation\n",
    "print(exp.visualize_as_dataframe())'''\n"
   ]
  },
  {
   "cell_type": "code",
   "execution_count": null,
   "metadata": {},
   "outputs": [
    {
     "ename": "NameError",
     "evalue": "name 'pd' is not defined",
     "output_type": "error",
     "traceback": [
      "\u001b[1;31m---------------------------------------------------------------------------\u001b[0m",
      "\u001b[1;31mNameError\u001b[0m                                 Traceback (most recent call last)",
      "Cell \u001b[1;32mIn[1], line 3\u001b[0m\n\u001b[0;32m      1\u001b[0m \u001b[38;5;28;01mfrom\u001b[39;00m \u001b[38;5;21;01mjoblib\u001b[39;00m \u001b[38;5;28;01mimport\u001b[39;00m Parallel, delayed\n\u001b[1;32m----> 3\u001b[0m df_no_counterfactuals \u001b[38;5;241m=\u001b[39m \u001b[43mpd\u001b[49m\u001b[38;5;241m.\u001b[39mDataFrame(columns\u001b[38;5;241m=\u001b[39mX_high_risk_tp\u001b[38;5;241m.\u001b[39mcolumns)\n\u001b[0;32m      5\u001b[0m \u001b[38;5;66;03m# Define a function to generate a single counterfactual example\u001b[39;00m\n\u001b[0;32m      6\u001b[0m \u001b[38;5;28;01mdef\u001b[39;00m \u001b[38;5;21mgenerate_cf\u001b[39m(test_instance):\n",
      "\u001b[1;31mNameError\u001b[0m: name 'pd' is not defined"
     ]
    }
   ],
   "source": [
    "from joblib import Parallel, delayed\n",
    "\n",
    "df_no_counterfactuals = pd.DataFrame(columns=X_high_risk_tp.columns)\n",
    "\n",
    "# Define a function to generate a single counterfactual example\n",
    "def generate_cf(test_instance):\n",
    "    try:\n",
    "        return Dice(d, m, method=\"genetic\").generate_counterfactuals(test_instance, total_CFs=1, desired_class=\"opposite\",\n",
    "                                                                     features_to_vary=[\"trestbps\", \"chol\", \"thalach\"],\n",
    "                                                                     permitted_range={\"trestbps\": [80,120],\n",
    "                                                                                      \"chol\": [150, 200],\n",
    "                                                                                      \"thalach\": [120, 220 - test_instance['age'].values[0]]},\n",
    "                                                                     maxiterations=10)\n",
    "    except Exception as e:\n",
    "        print(\"No counterfactuals found for test instance:\", test_instance)\n",
    "        df_no_counterfactuals.append(test_instance)\n",
    "        return None\n",
    "\n",
    "# Generate counterfactual examples in parallel using joblib\n",
    "num_cores = 8  # Set the number of CPU cores to use\n",
    "results = Parallel(n_jobs=num_cores)(delayed(generate_cf)(test_instance) for i in range(5))\n",
    "\n",
    "# Print the explanations\n",
    "for exp in results:\n",
    "    if exp is not None:\n",
    "        print(exp.visualize_as_dataframe())"
   ]
  },
  {
   "cell_type": "markdown",
   "metadata": {},
   "source": [
    "\n",
    "All Countefactuals Found"
   ]
  },
  {
   "cell_type": "code",
   "execution_count": null,
   "metadata": {},
   "outputs": [],
   "source": [
    "def generate_cf(test_instance):\n",
    "    try:\n",
    "        return Dice(d, m,method='genetic').generate_counterfactuals(test_instance, total_CFs=20, desired_class=\"opposite\",\n",
    "                                                            features_to_vary=[\"trestbps\", \"chol\", \"thalach\"],\n",
    "                                                            diversity_weight = 5, proximity_weight = 2, sparsity_weight = 5   \n",
    "                                                            #permitted_range={\"trestbps\": [80,120],  \"chol\": [100, 200], \"thalach\": [70, 220 - test_instance['age'].values[0]]},\n",
    "                                                            )\n",
    " \n",
    "    except Exception as e:\n",
    "        print(\"No counterfactuals found for test instance:\", test_instance)\n",
    "        df_no_counterfactuals.append(test_instance)\n",
    "        return None"
   ]
  },
  {
   "cell_type": "markdown",
   "metadata": {},
   "source": [
    "With Ideal Constraints"
   ]
  },
  {
   "cell_type": "code",
   "execution_count": null,
   "metadata": {},
   "outputs": [],
   "source": [
    "def generate_cf(test_instance):\n",
    "    try:\n",
    "        return Dice(d, m,method='genetic').generate_counterfactuals(test_instance, total_CFs=1, desired_class=\"opposite\",\n",
    "                                                            features_to_vary=[\"trestbps\", \"chol\", \"thalach\"],\n",
    "                                                            diversity_weight = 5, proximity_weight = 2, sparsity_weight = 5,  \n",
    "                                                            permitted_range={\"trestbps\": [80,120],  \"chol\": [150, 200], \"thalach\": [120, 220 - test_instance['age'].values[0]]}\n",
    "                                                            )\n",
    " \n",
    "    except Exception as e:\n",
    "        print(\"No counterfactuals found for test instance:\", test_instance)\n",
    "        df_no_counterfactuals.append(test_instance)\n",
    "        return None"
   ]
  },
  {
   "cell_type": "markdown",
   "metadata": {},
   "source": [
    "With Feasible Constraints"
   ]
  },
  {
   "cell_type": "code",
   "execution_count": null,
   "metadata": {},
   "outputs": [],
   "source": [
    "def generate_cf(test_instance):\n",
    "    try:\n",
    "        return Dice(d, m,method='genetic').generate_counterfactuals(test_instance, total_CFs=1, desired_class=\"opposite\",\n",
    "                                                            features_to_vary=[\"trestbps\", \"chol\", \"thalach\"],\n",
    "                                                            diversity_weight = 5, proximity_weight = 2, sparsity_weight = 5,  \n",
    "                                                            permitted_range={\"trestbps\": [80, test_instance['trestbps'].values[0]-10],\n",
    "                                                                                    \"chol\": [100, test_instance['chol'].values[0]-0.1*test_instance['chol'].values[0]],\n",
    "                                                                                    \"thalach\": [120, 220 - test_instance['age'].values[0]]}\n",
    "                                                            )\n",
    " \n",
    "    except Exception as e:\n",
    "        print(\"No counterfactuals found for test instance:\", test_instance)\n",
    "        df_no_counterfactuals.append(test_instance)\n",
    "        return None"
   ]
  },
  {
   "cell_type": "markdown",
   "metadata": {},
   "source": [
    "Finding CF's"
   ]
  },
  {
   "cell_type": "code",
   "execution_count": null,
   "metadata": {},
   "outputs": [],
   "source": [
    "exps_ = []\n",
    "num_cores = -1\n",
    "df_no_counterfactuals = pd.DataFrame(columns=X_high_risk_tp.columns)\n",
    "# Iterate over each instance of X_high_risk and generate counterfactuals\n",
    "for i in range(len(X_high_risk_tp)):\n",
    "    test_instance = X_high_risk_tp.iloc[[i]]\n",
    "    print(i)\n",
    "    #exp = generate_cf(test_instance)\n",
    "    # Generate counterfactual examples in parallel using joblib\n",
    "    #num_cores = 8  # Set the number of CPU cores to use\n",
    "    exp = Parallel(n_jobs=num_cores)(delayed(generate_cf)(test_instance) for i in range(1))\n",
    "    exps_.append(exp)"
   ]
  },
  {
   "cell_type": "code",
   "execution_count": null,
   "metadata": {},
   "outputs": [],
   "source": [
    "df_no_counterfactuals = X_high_risk_tp.loc[[exp[0] is None for exp in exps_]]"
   ]
  },
  {
   "cell_type": "code",
   "execution_count": null,
   "metadata": {},
   "outputs": [],
   "source": [
    "df_no_counterfactuals"
   ]
  },
  {
   "cell_type": "code",
   "execution_count": null,
   "metadata": {},
   "outputs": [],
   "source": [
    "test_instance = X_high_risk[45:46]"
   ]
  },
  {
   "cell_type": "code",
   "execution_count": null,
   "metadata": {},
   "outputs": [],
   "source": [
    "test_instance"
   ]
  },
  {
   "cell_type": "code",
   "execution_count": null,
   "metadata": {},
   "outputs": [],
   "source": [
    "imp = Dice(d, m,method='genetic').local_feature_importance(test_instance, posthoc_sparsity_param=None)"
   ]
  },
  {
   "cell_type": "code",
   "execution_count": null,
   "metadata": {},
   "outputs": [],
   "source": [
    "imp.local_importance"
   ]
  },
  {
   "cell_type": "code",
   "execution_count": null,
   "metadata": {},
   "outputs": [],
   "source": [
    "cobj = Dice(d, m,method='genetic').global_feature_importance(X_train, total_CFs=10, posthoc_sparsity_param=None)\n",
    "print(cobj.summary_importance)"
   ]
  },
  {
   "cell_type": "code",
   "execution_count": null,
   "metadata": {},
   "outputs": [],
   "source": [
    "xgb_pipeline.predict(test_instance)"
   ]
  },
  {
   "cell_type": "code",
   "execution_count": null,
   "metadata": {},
   "outputs": [],
   "source": [
    "# Generate counterfactual examples in parallel using joblib\n",
    "num_cores = 8  # Set the number of CPU cores to use\n",
    "results = Parallel(n_jobs=num_cores)(delayed(generate_cf)(test_instance) for i in range(5))\n",
    "\n",
    "# Print the explanations\n",
    "for exp in results:\n",
    "    if exp is not None:\n",
    "        print(exp.visualize_as_dataframe())"
   ]
  },
  {
   "cell_type": "code",
   "execution_count": null,
   "metadata": {},
   "outputs": [],
   "source": [
    "from joblib import Parallel, delayed\n",
    "\n",
    "# Define a function to generate a single counterfactual example\n",
    "def generate_cf(test_instance):\n",
    "   \n",
    "    return Dice(d, m, method=\"genetic\").generate_counterfactuals(test_instance, total_CFs=1, desired_class=\"opposite\",\n",
    "                                                                    features_to_vary=[\"trestbps\", \"chol\", \"thalach\"],\n",
    "                                                                    permitted_range={\"trestbps\": [80,120],\n",
    "                                                                                    \"chol\": [100, 200],\n",
    "                                                                                    \"thalach\": [70, 220 - test_instance['age'].values[0]]},\n",
    "                                                                    maxiterations=100)\n",
    "\n",
    "# Generate counterfactual examples in parallel using joblib\n",
    "num_cores = 8  # Set the number of CPU cores to use\n",
    "results = Parallel(n_jobs=num_cores)(delayed(generate_cf)(test_instance) for i in range(5))\n",
    "\n",
    "# Print the explanations\n",
    "for exp in results:\n",
    "    print(exp.visualize_as_dataframe())"
   ]
  },
  {
   "cell_type": "code",
   "execution_count": null,
   "metadata": {},
   "outputs": [],
   "source": [
    "from joblib import Parallel, delayed\n",
    "import pandas as pd\n",
    "# Generate counterfactual examples in parallel using joblib\n",
    "num_cores = 8  # Set the number of CPU cores to use\n",
    "# Define a function to generate a single counterfactual example\n",
    "def generate_cf(test_instance):\n",
    "    try:\n",
    "        print(\"finding counterfactuals with permitted range...\")\n",
    "        return Dice(d, m, method=\"genetic\").generate_counterfactuals(test_instance, total_CFs=1, desired_class=\"opposite\",\n",
    "                                                                     features_to_vary=[\"trestbps\", \"chol\", \"thalach\"],\n",
    "                                                                     permitted_range={\"trestbps\": [80, test_instance['trestbps'].values[0]-1],\n",
    "                                                                                      \"chol\": [100, test_instance['chol'].values[0]-1],\n",
    "                                                                                      \"thalach\": [70, 220 - test_instance['age'].values[0]]},\n",
    "                                                                     proximity_weight=10,diversity_weight=2, sparsity_weight = 2,posthoc_sparsity_algorithm=\"binary\",posthoc_sparsity_param =0.1,\n",
    "                                                                     maxiterations=100)\n",
    "    except Exception as e:\n",
    "        print(\"No counterfactuals found with permitted range. Generating counterfactuals without permitted range...\")\n",
    "        return Dice(d, m, method=\"genetic\").generate_counterfactuals(test_instance, total_CFs=1 , desired_class=\"opposite\",\n",
    "                                                                     features_to_vary=[\"trestbps\", \"chol\", \"thalach\"],proximity_weight=10,diversity_weight=2, sparsity_weight = 2,posthoc_sparsity_algorithm=\"binary\",posthoc_sparsity_param =0.1,\n",
    "                                                                     maxiterations=10)\n",
    "\n",
    "\n",
    "results = Parallel(n_jobs=num_cores)(delayed(generate_cf)(test_instance) for i in range(20))\n",
    "\n",
    "# Merge the explanations into one dataframe\n",
    "df = pd.concat([exp.cf_examples_list[0].final_cfs_df for exp in results]).drop_duplicates()\n",
    "\n",
    "# Print the merged dataframe\n"
   ]
  },
  {
   "cell_type": "code",
   "execution_count": null,
   "metadata": {},
   "outputs": [],
   "source": [
    "# Create a DICE explainer object and generate an explanation\n",
    "\n",
    "exp = Dice(d, m,method='genetic').generate_counterfactuals(test_instance, total_CFs=20, desired_class=\"opposite\",\n",
    "                                                            features_to_vary=[\"trestbps\", \"chol\", \"thalach\"],permitted_range = {\"trestbps\": [80, 120], \"chol\": [100, 200], \"thalach\": [70,220- test_instance['age'].values[0]]}\n",
    "                                                           )\n",
    " \n",
    "# Print the explanation\n",
    "print(exp.visualize_as_dataframe())\n"
   ]
  },
  {
   "cell_type": "code",
   "execution_count": null,
   "metadata": {},
   "outputs": [],
   "source": [
    "# Load the dataset and create a machine learning model\n",
    "# ...\n",
    "\n",
    "# Create a Dice explainer object with the Genetic method\n",
    "dice = Dice(d, m, method='genetic')\n",
    "\n",
    "exps_ = []\n",
    "\n",
    "# Iterate over each instance of X_high_risk and generate counterfactuals\n",
    "for i in range(len(X_high_risk)):\n",
    "    test_instance = X_high_risk.iloc[[i]]\n",
    "    try:\n",
    "        exp = dice.generate_counterfactuals(test_instance, total_CFs=5, desired_class=\"opposite\",\n",
    "                                            features_to_vary=[\"trestbps\", \"chol\", \"thalach\"], \n",
    "                                            permitted_range={\"trestbps\": [80, 130],\n",
    "                                                            \"chol\": [100,200],\n",
    "                                                            \"thalach\": [70, 220 - test_instance['age'].values[0]]},\n",
    "                                            maxiterations=100)\n",
    "    except Exception as e:\n",
    "        exp =  Dice(d, m, method=\"genetic\").generate_counterfactuals(test_instance, total_CFs=5, desired_class=\"opposite\",\n",
    "                                                                     features_to_vary=[\"trestbps\", \"chol\", \"thalach\"],\n",
    "                                                                     maxiterations=100)\n",
    "        \n",
    "    # Print the explanation\n",
    "    print(f\"Counterfactuals for instance {i}:\")\n",
    "    #print(exp.visualize_as_dataframe())\n",
    "    exps_.append(exp)"
   ]
  },
  {
   "cell_type": "code",
   "execution_count": null,
   "metadata": {},
   "outputs": [],
   "source": [
    "exp_dice"
   ]
  },
  {
   "cell_type": "code",
   "execution_count": null,
   "metadata": {},
   "outputs": [],
   "source": [
    "\n",
    "exp_dfs = exp_dice.cf_examples_list[0].final_cfs_df"
   ]
  },
  {
   "cell_type": "code",
   "execution_count": null,
   "metadata": {},
   "outputs": [],
   "source": [
    "exp_dfs.drop(['target'], axis=1, inplace=True)"
   ]
  },
  {
   "cell_type": "code",
   "execution_count": null,
   "metadata": {},
   "outputs": [],
   "source": [
    "xgb_pipeline.predict(exp_dfs)"
   ]
  },
  {
   "cell_type": "code",
   "execution_count": null,
   "metadata": {},
   "outputs": [],
   "source": [
    "test_instance['target'] = 1"
   ]
  },
  {
   "cell_type": "code",
   "execution_count": null,
   "metadata": {},
   "outputs": [],
   "source": [
    "chol_test = test_instance['chol'].values[0]\n",
    "tres_test = test_instance['trestbps'].values[0]\n",
    "thalach_test = test_instance['thalach'].values[0]"
   ]
  },
  {
   "cell_type": "code",
   "execution_count": null,
   "metadata": {},
   "outputs": [],
   "source": [
    "feasible_counterfactuals = exp_dfs[((exp_dfs['thalach'] > thalach_test) & (exp_dfs['thalach']< 220 - exp_dfs['age'])) & (exp_dfs['chol'] < chol_test) & (exp_dfs['trestbps'] < tres_test)]"
   ]
  },
  {
   "cell_type": "markdown",
   "metadata": {},
   "source": [
    "For subjects with cholestestoral in range … and have target=0, their target would be 1 if cholesterol were greater than …\n",
    "For subjects with cholesterol in range … and thalac in range … and target = 0, their target would be 1 if cholesterol were in range …. thalac were in range …\n",
    "Monotonicity\n",
    "Shape of the Curve between variables \n",
    "Cholestrol can either increase the chance or it has no effect\n",
    "(Constrained XgBoost, Normalizing flows,Linear Models)"
   ]
  },
  {
   "cell_type": "markdown",
   "metadata": {},
   "source": []
  },
  {
   "cell_type": "code",
   "execution_count": null,
   "metadata": {},
   "outputs": [],
   "source": [
    "exp_dfs['target']=0"
   ]
  },
  {
   "cell_type": "code",
   "execution_count": null,
   "metadata": {},
   "outputs": [],
   "source": [
    "fact_and_counterfactual = pd.concat([test_instance,exp_dfs])"
   ]
  },
  {
   "cell_type": "code",
   "execution_count": null,
   "metadata": {},
   "outputs": [],
   "source": []
  }
 ],
 "metadata": {
  "kernelspec": {
   "display_name": "Python 3",
   "language": "python",
   "name": "python3"
  },
  "language_info": {
   "codemirror_mode": {
    "name": "ipython",
    "version": 3
   },
   "file_extension": ".py",
   "mimetype": "text/x-python",
   "name": "python",
   "nbconvert_exporter": "python",
   "pygments_lexer": "ipython3",
   "version": "3.11.9"
  },
  "orig_nbformat": 4
 },
 "nbformat": 4,
 "nbformat_minor": 2
}
