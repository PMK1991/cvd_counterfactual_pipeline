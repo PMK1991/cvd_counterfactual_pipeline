{
 "cells": [
  {
   "cell_type": "code",
   "execution_count": 1,
   "metadata": {},
   "outputs": [
    {
     "name": "stderr",
     "output_type": "stream",
     "text": [
      "c:\\Users\\praskulkarni\\AppData\\Local\\miniconda3\\Lib\\site-packages\\dice_ml\\utils\\exception.py:12: UserWarning: UserConfigValidationException will be deprecated from dice_ml.utils. Please import UserConfigValidationException from raiutils.exceptions.\n",
      "  warnings.warn(\"UserConfigValidationException will be deprecated from dice_ml.utils. \"\n"
     ]
    }
   ],
   "source": [
    "import pandas as pd\n",
    "from sklearn.model_selection import train_test_split, GridSearchCV\n",
    "from sklearn.pipeline import Pipeline\n",
    "from sklearn.preprocessing import StandardScaler\n",
    "from sklearn.preprocessing import OneHotEncoder\n",
    "from sklearn.compose import ColumnTransformer\n",
    "from sklearn.metrics import classification_report\n",
    "from sklearn.linear_model import LogisticRegression\n",
    "train_test_split\n",
    "from sklearn.tree import DecisionTreeClassifier\n",
    "import dice_ml\n",
    "from dice_ml.utils import helpers # helper functions\n",
    "from dice_ml import Data,Model,Dice\n",
    "import numpy as np\n",
    "from xgboost import XGBClassifier\n",
    "\n"
   ]
  },
  {
   "cell_type": "code",
   "execution_count": 2,
   "metadata": {},
   "outputs": [],
   "source": [
    "dataframe_heart_disease = pd.read_csv(\"heart_statlog_cleveland_hungary_final.csv\")\n",
    "\n",
    "dataframe_heart_disease =  dataframe_heart_disease.dropna()\n",
    "dataframe_heart_disease = dataframe_heart_disease[dataframe_heart_disease['chol'] !=0]\n",
    "dataframe_heart_disease = dataframe_heart_disease[dataframe_heart_disease['trestbps'] !=0]"
   ]
  },
  {
   "cell_type": "code",
   "execution_count": 3,
   "metadata": {},
   "outputs": [],
   "source": [
    "# Split the data into features and target label\n",
    "y = dataframe_heart_disease.target\n",
    "X = dataframe_heart_disease.drop(['target'], axis=1)"
   ]
  },
  {
   "cell_type": "code",
   "execution_count": 4,
   "metadata": {},
   "outputs": [],
   "source": [
    "# Split the data into training and testing sets\n",
    "X_train, X_test, y_train, y_test = train_test_split(X, y, test_size=0.2, random_state=42)"
   ]
  },
  {
   "cell_type": "code",
   "execution_count": 5,
   "metadata": {},
   "outputs": [],
   "source": [
    "numerical = ['age', 'trestbps', 'chol', 'thalach', 'oldpeak']\n",
    "\n",
    "categorical = X_train.columns.difference(numerical)"
   ]
  },
  {
   "cell_type": "code",
   "execution_count": 6,
   "metadata": {},
   "outputs": [
    {
     "data": {
      "text/plain": [
       "Index(['cp', 'exang', 'fbs', 'restecg', 'sex', 'slope'], dtype='object')"
      ]
     },
     "execution_count": 6,
     "metadata": {},
     "output_type": "execute_result"
    }
   ],
   "source": [
    "categorical"
   ]
  },
  {
   "cell_type": "code",
   "execution_count": 7,
   "metadata": {},
   "outputs": [
    {
     "data": {
      "text/plain": [
       "\"transformations = ColumnTransformer(\\n    transformers=[('num', numeric_transformer, numerical)])\""
      ]
     },
     "execution_count": 7,
     "metadata": {},
     "output_type": "execute_result"
    }
   ],
   "source": [
    "# We create the preprocessing pipelines for both numeric and categorical data.\n",
    "numeric_transformer = Pipeline(steps=[\n",
    "    ('scaler', StandardScaler())])\n",
    "\n",
    "categorical_transformer = Pipeline(steps=[\n",
    "    ('onehot', OneHotEncoder(handle_unknown='ignore'))])\n",
    "\n",
    "transformations = ColumnTransformer(\n",
    "    transformers=[\n",
    "        ('num', numeric_transformer, numerical),\n",
    "        ('cat', categorical_transformer, categorical)])\n",
    "\n",
    "\n",
    "'''transformations = ColumnTransformer(\n",
    "    transformers=[('num', numeric_transformer, numerical)])'''"
   ]
  },
  {
   "cell_type": "code",
   "execution_count": 8,
   "metadata": {},
   "outputs": [],
   "source": [
    "# Append classifier to preprocessing pipeline.\n",
    "# Now we have a full prediction pipeline.\n",
    "clf = Pipeline(steps=[('preprocessor', transformations),\n",
    "                      ('classifier', DecisionTreeClassifier())])\n",
    "dt_model = clf.fit(X_train, y_train)\n"
   ]
  },
  {
   "cell_type": "code",
   "execution_count": 11,
   "metadata": {},
   "outputs": [],
   "source": [
    "param_grid = {\n",
    "    'classifier__max_depth': [2, 3, 4, 5],\n",
    "    'classifier__min_samples_split': [2, 5, 10],\n",
    "    'classifier__min_samples_leaf': [1, 2, 4]\n",
    "}\n"
   ]
  },
  {
   "cell_type": "code",
   "execution_count": 12,
   "metadata": {},
   "outputs": [
    {
     "name": "stdout",
     "output_type": "stream",
     "text": [
      "Best parameters:  {'classifier__max_depth': 5, 'classifier__min_samples_leaf': 1, 'classifier__min_samples_split': 2}\n",
      "Test set score:  0.8186274509803921\n"
     ]
    }
   ],
   "source": [
    "# Use GridSearchCV to find the best hyperparameters\n",
    "grid_search = GridSearchCV(dt_model, param_grid=param_grid)\n",
    "grid_search.fit(X_train, y_train)\n",
    "\n",
    "\n",
    "# Print the best parameters and the score on the test set\n",
    "print(\"Best parameters: \", grid_search.best_params_)\n",
    "print(\"Test set score: \", grid_search.score(X_test, y_test))"
   ]
  },
  {
   "cell_type": "code",
   "execution_count": 13,
   "metadata": {},
   "outputs": [],
   "source": [
    "# create the pipeline with the XGBClassifier\n",
    "pipeline = Pipeline(steps=[\n",
    "    ('preprocessor', transformations),\n",
    "    ('classifier', DecisionTreeClassifier(max_depth=5, min_samples_leaf=1, min_samples_split=2))\n",
    "])\n"
   ]
  },
  {
   "cell_type": "code",
   "execution_count": null,
   "metadata": {},
   "outputs": [],
   "source": []
  },
  {
   "cell_type": "code",
   "execution_count": 21,
   "metadata": {},
   "outputs": [
    {
     "name": "stdout",
     "output_type": "stream",
     "text": [
      "       Accuracy  Precision    Recall  F1 Score  ROC AUC Score\n",
      "Train  0.905405   0.873737  0.927614  0.899870       0.907118\n",
      "Test   0.794118   0.816327  0.769231  0.792079       0.794615\n"
     ]
    }
   ],
   "source": [
    "from sklearn.metrics import accuracy_score, precision_score, recall_score, f1_score, roc_auc_score, confusion_matrix\n",
    "\n",
    "# Fit the pipeline to the training data\n",
    "pipeline.fit(X_train, y_train)\n",
    "\n",
    "# Make predictions on the training and test data\n",
    "train_preds = pipeline.predict(X_train)\n",
    "test_preds = pipeline.predict(X_test)\n",
    "\n",
    "import pandas as pd\n",
    "\n",
    "# Compute various classification metrics\n",
    "metrics = {\n",
    "    'Accuracy': [accuracy_score(y_train, train_preds), accuracy_score(y_test, test_preds)],\n",
    "    'Precision': [precision_score(y_train, train_preds), precision_score(y_test, test_preds)],\n",
    "    'Recall': [recall_score(y_train, train_preds), recall_score(y_test, test_preds)],\n",
    "    'F1 Score': [f1_score(y_train, train_preds), f1_score(y_test, test_preds)],\n",
    "    'ROC AUC Score': [roc_auc_score(y_train, train_preds), roc_auc_score(y_test, test_preds)]\n",
    "}\n",
    "\n",
    "# Create a DataFrame from the metrics\n",
    "df_metrics = pd.DataFrame(metrics, index=['Train', 'Test'])\n",
    "\n",
    "df_metrics.to_clipboard()\n",
    "\n",
    "# Print the DataFrame\n",
    "print(df_metrics)"
   ]
  },
  {
   "cell_type": "code",
   "execution_count": 22,
   "metadata": {},
   "outputs": [
    {
     "data": {
      "image/png": "[encoded data removed]",
      "text/plain": [
       "<Figure size 1500x500 with 3 Axes>"
      ]
     },
     "metadata": {},
     "output_type": "display_data"
    }
   ],
   "source": [
    "import matplotlib.pyplot as plt\n",
    "from sklearn.metrics import roc_curve, precision_recall_curve, auc\n",
    "from sklearn.model_selection import learning_curve\n",
    "\n",
    "# Assuming pipeline is your trained classifier and X_test is your test data\n",
    "y_pred_proba = pipeline.predict_proba(X_test)[:, 1]\n",
    "\n",
    "# Compute the ROC curve\n",
    "fpr, tpr, _ = roc_curve(y_test, y_pred_proba)\n",
    "roc_auc = auc(fpr, tpr)\n",
    "\n",
    "# Compute the Precision-Recall curve\n",
    "precision, recall, _ = precision_recall_curve(y_test, y_pred_proba)\n",
    "\n",
    "# Compute the learning curve\n",
    "train_sizes, train_scores, test_scores = learning_curve(pipeline, X, y, train_sizes=np.linspace(0.1, 1.0, 10), cv=5)\n",
    "train_mean = np.mean(train_scores, axis=1)\n",
    "test_mean = np.mean(test_scores, axis=1)\n",
    "\n",
    "# Create a 1 by 3 grid of plots\n",
    "fig, (ax1, ax2, ax3) = plt.subplots(1, 3, figsize=(15, 5))\n",
    "\n",
    "# Plot the ROC curve\n",
    "ax1.plot(fpr, tpr, label='ROC curve (area = %0.2f)' % roc_auc)\n",
    "ax1.plot([0, 1], [0, 1], 'k--')\n",
    "ax1.set_xlim([0.0, 1.0])\n",
    "ax1.set_ylim([0.0, 1.05])\n",
    "ax1.set_xlabel('False Positive Rate')\n",
    "ax1.set_ylabel('True Positive Rate')\n",
    "ax1.set_title('Receiver Operating Characteristic')\n",
    "ax1.legend(loc=\"lower right\")\n",
    "\n",
    "# Plot the Precision-Recall curve\n",
    "ax2.plot(recall, precision)\n",
    "ax2.set_xlim([0.0, 1.0])\n",
    "ax2.set_ylim([0.0, 1.05])\n",
    "ax2.set_xlabel('Recall')\n",
    "ax2.set_ylabel('Precision')\n",
    "ax2.set_title('Precision-Recall Curve')\n",
    "\n",
    "# Plot the learning curve\n",
    "ax3.plot(train_sizes, train_mean, label='Training score')\n",
    "ax3.plot(train_sizes, test_mean, label='Cross-validation score')\n",
    "ax3.set_xlabel('Number of Training Examples')\n",
    "ax3.set_ylabel('Score')\n",
    "ax3.set_title('Learning Curve')\n",
    "ax3.legend(loc='best')\n",
    "\n",
    "# Display the plots\n",
    "plt.tight_layout()\n",
    "plt.show()"
   ]
  },
  {
   "cell_type": "code",
   "execution_count": 15,
   "metadata": {},
   "outputs": [
    {
     "data": {
      "image/png": "[encoded data removed]",
      "text/plain": [
       "<Figure size 640x480 with 1 Axes>"
      ]
     },
     "metadata": {},
     "output_type": "display_data"
    }
   ],
   "source": [
    "from sklearn.metrics import precision_recall_curve\n",
    "import matplotlib.pyplot as plt\n",
    "\n",
    "# Fit the pipeline to the training data\n",
    "pipeline.fit(X_train, y_train)\n",
    "\n",
    "# Make predictions on the test data\n",
    "test_preds = pipeline.predict(X_test)\n",
    "\n",
    "# Compute the precision, recall, and thresholds\n",
    "precision, recall, thresholds = precision_recall_curve(y_test, test_preds)\n",
    "\n",
    "# Plot the precision-recall curve\n",
    "plt.plot(recall, precision)\n",
    "plt.title('Precision-Recall Curve')\n",
    "plt.xlabel('Recall')\n",
    "plt.ylabel('Precision')\n",
    "plt.show()"
   ]
  },
  {
   "cell_type": "code",
   "execution_count": 16,
   "metadata": {},
   "outputs": [
    {
     "data": {
      "image/png": "[encoded data removed]",
      "text/plain": [
       "<Figure size 640x480 with 1 Axes>"
      ]
     },
     "metadata": {},
     "output_type": "display_data"
    }
   ],
   "source": [
    "from sklearn.metrics import roc_curve\n",
    "import matplotlib.pyplot as plt\n",
    "\n",
    "# Fit the pipeline to the training data\n",
    "pipeline.fit(X_train, y_train)\n",
    "\n",
    "# Make predictions on the test data\n",
    "test_preds = pipeline.predict(X_test)\n",
    "\n",
    "# Compute the false positive rate, true positive rate, and thresholds\n",
    "fpr, tpr, thresholds = roc_curve(y_test, test_preds)\n",
    "\n",
    "# Plot the ROC curve\n",
    "plt.plot(fpr, tpr)\n",
    "plt.title('ROC Curve')\n",
    "plt.xlabel('False Positive Rate')\n",
    "plt.ylabel('True Positive Rate')\n",
    "plt.show()"
   ]
  },
  {
   "cell_type": "code",
   "execution_count": 17,
   "metadata": {},
   "outputs": [
    {
     "data": {
      "image/png": "[encoded data removed]",
      "text/plain": [
       "<Figure size 640x480 with 1 Axes>"
      ]
     },
     "metadata": {},
     "output_type": "display_data"
    }
   ],
   "source": [
    "from sklearn.model_selection import learning_curve\n",
    "import numpy as np\n",
    "import matplotlib.pyplot as plt\n",
    "\n",
    "# Define the number of training examples to use\n",
    "train_sizes = np.linspace(0.1, 1.0, 10)\n",
    "\n",
    "# Compute the learning curve\n",
    "train_sizes, train_scores, test_scores = learning_curve(pipeline, X, y, train_sizes=train_sizes, cv=5)\n",
    "\n",
    "# Compute the mean and standard deviation of the training and test scores\n",
    "train_mean = np.mean(train_scores, axis=1)\n",
    "train_std = np.std(train_scores, axis=1)\n",
    "test_mean = np.mean(test_scores, axis=1)\n",
    "test_std = np.std(test_scores, axis=1)\n",
    "\n",
    "# Plot the learning curve\n",
    "plt.plot(train_sizes, train_mean, label='Training score')\n",
    "plt.fill_between(train_sizes, train_mean - train_std, train_mean + train_std, alpha=0.2)\n",
    "plt.plot(train_sizes, test_mean, label='Cross-validation score')\n",
    "plt.fill_between(train_sizes, test_mean - test_std, test_mean + test_std, alpha=0.2)\n",
    "plt.title('Learning Curve')\n",
    "plt.xlabel('Number of Training Examples')\n",
    "plt.ylabel('Score')\n",
    "plt.legend(loc='best')\n",
    "plt.show()"
   ]
  },
  {
   "cell_type": "code",
   "execution_count": 12,
   "metadata": {},
   "outputs": [
    {
     "data": {
      "text/plain": [
       "{'chol': 0.9764865197587098,\n",
       " 'thalach': 0.9347531700110796,\n",
       " 'age': 0.9297057737289179,\n",
       " 'trestbps': 0.8015511510525668,\n",
       " 'oldpeak': 0.44897205465960854,\n",
       " 'cp': 0.3046903853256186,\n",
       " 'restecg': 0.2611104271820756,\n",
       " 'slope': 0.19389388157084822,\n",
       " 'sex': 0.13997291641019327,\n",
       " 'exang': 0.12310722639418933,\n",
       " 'fbs': 0.11338175550904839}"
      ]
     },
     "execution_count": 12,
     "metadata": {},
     "output_type": "execute_result"
    }
   ],
   "source": [
    "{'chol': 0.9764865197587098, 'thalach': 0.9347531700110796, 'age': 0.9297057737289179, 'trestbps': 0.8015511510525668, 'oldpeak': 0.44897205465960854, 'cp': 0.3046903853256186, 'restecg': 0.2611104271820756, 'slope': 0.19389388157084822, 'sex': 0.13997291641019327, 'exang': 0.12310722639418933, 'fbs': 0.11338175550904839}\n"
   ]
  },
  {
   "cell_type": "code",
   "execution_count": 2,
   "metadata": {},
   "outputs": [
    {
     "data": {
      "image/png": "[encoded data removed]",
      "text/plain": [
       "<Figure size 800x600 with 1 Axes>"
      ]
     },
     "metadata": {},
     "output_type": "display_data"
    }
   ],
   "source": [
    "import matplotlib.pyplot as plt\n",
    "import seaborn as sns\n",
    "\n",
    "# Define the dictionary\n",
    "data = {\n",
    "    'chol': 0.9764865197587098,\n",
    "    'thalach': 0.9347531700110796,\n",
    "    'age': 0.9297057737289179,\n",
    "    'trestbps': 0.8015511510525668,\n",
    "    'oldpeak': 0.44897205465960854,\n",
    "    'cp': 0.3046903853256186,\n",
    "    'restecg': 0.2611104271820756,\n",
    "    'slope': 0.19389388157084822,\n",
    "    'sex': 0.13997291641019327,\n",
    "    'exang': 0.12310722639418933,\n",
    "    'fbs': 0.11338175550904839\n",
    "}\n",
    "\n",
    "# Set the figure size and style\n",
    "plt.figure(figsize=(8, 6))\n",
    "sns.set_style('whitegrid')\n",
    "\n",
    "# Create a horizontal bar chart\n",
    "plt.barh(list(data.keys()), list(data.values()), align='center', color='skyblue')\n",
    "plt.xlabel('Importance', fontsize=12)\n",
    "plt.ylabel('Feature', fontsize=12)\n",
    "plt.title('Feature Importance', fontsize=14)\n",
    "plt.xticks(fontsize=10)\n",
    "plt.yticks(fontsize=10)\n",
    "plt.gca().invert_yaxis()\n",
    "\n",
    "# Add annotations to the bars\n",
    "for i, v in enumerate(data.values()):\n",
    "    plt.text(v + 0.01, i, str(round(v, 2)), fontsize=10)\n",
    "\n",
    "# Show the plot\n",
    "plt.show()"
   ]
  },
  {
   "cell_type": "code",
   "execution_count": 13,
   "metadata": {},
   "outputs": [
    {
     "data": {
      "image/png": "[encoded data removed]",
      "text/plain": [
       "<Figure size 640x480 with 1 Axes>"
      ]
     },
     "metadata": {},
     "output_type": "display_data"
    }
   ],
   "source": [
    "import matplotlib.pyplot as plt\n",
    "\n",
    "# Define the dictionary\n",
    "data = {'chol': 0.9764865197587098, 'thalach': 0.9347531700110796, 'age': 0.9297057737289179, 'trestbps': 0.8015511510525668, 'oldpeak': 0.44897205465960854, 'cp': 0.3046903853256186, 'restecg': 0.2611104271820756, 'slope': 0.19389388157084822, 'sex': 0.13997291641019327, 'exang': 0.12310722639418933, 'fbs': 0.11338175550904839}\n",
    "\n",
    "# Create a horizontal bar chart\n",
    "plt.barh(range(len(data)), list(data.values()), align='center')\n",
    "plt.yticks(range(len(data)), list(data.keys()))\n",
    "plt.xlabel('Importance')\n",
    "plt.ylabel('Feature')\n",
    "plt.title('Feature Importance')\n",
    "plt.show()"
   ]
  },
  {
   "cell_type": "code",
   "execution_count": 17,
   "metadata": {},
   "outputs": [],
   "source": [
    "# train the model on the entire training set\n",
    "xgb_pipeline = pipeline.fit(X_train, y_train)\n",
    "\n",
    "# make predictions on the test set\n",
    "y_pred = xgb_pipeline.predict(X_test)\n"
   ]
  },
  {
   "cell_type": "code",
   "execution_count": 18,
   "metadata": {},
   "outputs": [],
   "source": [
    "X_high_risk_tp = X_test[(y_pred == 1) & (y_test == 1)].reset_index().drop(['index'], axis=1)"
   ]
  },
  {
   "cell_type": "code",
   "execution_count": 19,
   "metadata": {},
   "outputs": [],
   "source": [
    "train_data = pd.concat([X_train, y_train], axis=1)\n",
    "\n",
    "\n",
    "# Create a DICE data object\n",
    "d = Data(dataframe=pd.DataFrame(train_data, columns=dataframe_heart_disease.columns), continuous_features=['age', 'trestbps', 'chol', 'thalach', 'oldpeak'],outcome_name='target')\n",
    "\n",
    "# Create a DICE model object\n",
    "m = Model(model=xgb_pipeline, backend=\"sklearn\")"
   ]
  },
  {
   "cell_type": "code",
   "execution_count": 44,
   "metadata": {},
   "outputs": [],
   "source": [
    "test_instance = X_high_risk_tp[10:11]\n"
   ]
  },
  {
   "cell_type": "code",
   "execution_count": 45,
   "metadata": {},
   "outputs": [
    {
     "name": "stderr",
     "output_type": "stream",
     "text": [
      "100%|██████████| 1/1 [00:00<00:00,  1.17it/s]"
     ]
    },
    {
     "name": "stdout",
     "output_type": "stream",
     "text": [
      "Query instance (original outcome : 1)\n"
     ]
    },
    {
     "name": "stderr",
     "output_type": "stream",
     "text": [
      "\n"
     ]
    },
    {
     "data": {
      "text/html": [
       "<div>\n",
       "<style scoped>\n",
       "    .dataframe tbody tr th:only-of-type {\n",
       "        vertical-align: middle;\n",
       "    }\n",
       "\n",
       "    .dataframe tbody tr th {\n",
       "        vertical-align: top;\n",
       "    }\n",
       "\n",
       "    .dataframe thead th {\n",
       "        text-align: right;\n",
       "    }\n",
       "</style>\n",
       "<table border=\"1\" class=\"dataframe\">\n",
       "  <thead>\n",
       "    <tr style=\"text-align: right;\">\n",
       "      <th></th>\n",
       "      <th>age</th>\n",
       "      <th>sex</th>\n",
       "      <th>cp</th>\n",
       "      <th>trestbps</th>\n",
       "      <th>chol</th>\n",
       "      <th>fbs</th>\n",
       "      <th>restecg</th>\n",
       "      <th>thalach</th>\n",
       "      <th>exang</th>\n",
       "      <th>oldpeak</th>\n",
       "      <th>slope</th>\n",
       "      <th>target</th>\n",
       "    </tr>\n",
       "  </thead>\n",
       "  <tbody>\n",
       "    <tr>\n",
       "      <th>0</th>\n",
       "      <td>69.0</td>\n",
       "      <td>1</td>\n",
       "      <td>4</td>\n",
       "      <td>145.0</td>\n",
       "      <td>289.0</td>\n",
       "      <td>1</td>\n",
       "      <td>1</td>\n",
       "      <td>110.0</td>\n",
       "      <td>1</td>\n",
       "      <td>1.8</td>\n",
       "      <td>2</td>\n",
       "      <td>1</td>\n",
       "    </tr>\n",
       "  </tbody>\n",
       "</table>\n",
       "</div>"
      ],
      "text/plain": [
       "    age sex cp  trestbps   chol fbs restecg  thalach exang  oldpeak slope  \\\n",
       "0  69.0   1  4     145.0  289.0   1       1    110.0     1      1.8     2   \n",
       "\n",
       "   target  \n",
       "0       1  "
      ]
     },
     "metadata": {},
     "output_type": "display_data"
    },
    {
     "name": "stdout",
     "output_type": "stream",
     "text": [
      "\n",
      "Diverse Counterfactual set (new outcome: 0)\n"
     ]
    },
    {
     "data": {
      "text/html": [
       "<div>\n",
       "<style scoped>\n",
       "    .dataframe tbody tr th:only-of-type {\n",
       "        vertical-align: middle;\n",
       "    }\n",
       "\n",
       "    .dataframe tbody tr th {\n",
       "        vertical-align: top;\n",
       "    }\n",
       "\n",
       "    .dataframe thead th {\n",
       "        text-align: right;\n",
       "    }\n",
       "</style>\n",
       "<table border=\"1\" class=\"dataframe\">\n",
       "  <thead>\n",
       "    <tr style=\"text-align: right;\">\n",
       "      <th></th>\n",
       "      <th>age</th>\n",
       "      <th>sex</th>\n",
       "      <th>cp</th>\n",
       "      <th>trestbps</th>\n",
       "      <th>chol</th>\n",
       "      <th>fbs</th>\n",
       "      <th>restecg</th>\n",
       "      <th>thalach</th>\n",
       "      <th>exang</th>\n",
       "      <th>oldpeak</th>\n",
       "      <th>slope</th>\n",
       "      <th>target</th>\n",
       "    </tr>\n",
       "  </thead>\n",
       "  <tbody>\n",
       "    <tr>\n",
       "      <th>0</th>\n",
       "      <td>69.0</td>\n",
       "      <td>1</td>\n",
       "      <td>4</td>\n",
       "      <td>120.0</td>\n",
       "      <td>196.0</td>\n",
       "      <td>1</td>\n",
       "      <td>1</td>\n",
       "      <td>147.0</td>\n",
       "      <td>1</td>\n",
       "      <td>1.8</td>\n",
       "      <td>2</td>\n",
       "      <td>0</td>\n",
       "    </tr>\n",
       "    <tr>\n",
       "      <th>0</th>\n",
       "      <td>69.0</td>\n",
       "      <td>1</td>\n",
       "      <td>4</td>\n",
       "      <td>120.0</td>\n",
       "      <td>172.0</td>\n",
       "      <td>1</td>\n",
       "      <td>1</td>\n",
       "      <td>151.0</td>\n",
       "      <td>1</td>\n",
       "      <td>1.8</td>\n",
       "      <td>2</td>\n",
       "      <td>0</td>\n",
       "    </tr>\n",
       "    <tr>\n",
       "      <th>0</th>\n",
       "      <td>69.0</td>\n",
       "      <td>1</td>\n",
       "      <td>4</td>\n",
       "      <td>118.0</td>\n",
       "      <td>182.0</td>\n",
       "      <td>1</td>\n",
       "      <td>1</td>\n",
       "      <td>149.0</td>\n",
       "      <td>1</td>\n",
       "      <td>1.8</td>\n",
       "      <td>2</td>\n",
       "      <td>0</td>\n",
       "    </tr>\n",
       "    <tr>\n",
       "      <th>0</th>\n",
       "      <td>69.0</td>\n",
       "      <td>1</td>\n",
       "      <td>4</td>\n",
       "      <td>118.0</td>\n",
       "      <td>179.0</td>\n",
       "      <td>1</td>\n",
       "      <td>1</td>\n",
       "      <td>149.0</td>\n",
       "      <td>1</td>\n",
       "      <td>1.8</td>\n",
       "      <td>2</td>\n",
       "      <td>0</td>\n",
       "    </tr>\n",
       "    <tr>\n",
       "      <th>0</th>\n",
       "      <td>69.0</td>\n",
       "      <td>1</td>\n",
       "      <td>4</td>\n",
       "      <td>120.0</td>\n",
       "      <td>162.0</td>\n",
       "      <td>1</td>\n",
       "      <td>1</td>\n",
       "      <td>151.0</td>\n",
       "      <td>1</td>\n",
       "      <td>1.8</td>\n",
       "      <td>2</td>\n",
       "      <td>0</td>\n",
       "    </tr>\n",
       "    <tr>\n",
       "      <th>0</th>\n",
       "      <td>69.0</td>\n",
       "      <td>1</td>\n",
       "      <td>4</td>\n",
       "      <td>117.0</td>\n",
       "      <td>176.0</td>\n",
       "      <td>1</td>\n",
       "      <td>1</td>\n",
       "      <td>151.0</td>\n",
       "      <td>1</td>\n",
       "      <td>1.8</td>\n",
       "      <td>2</td>\n",
       "      <td>0</td>\n",
       "    </tr>\n",
       "    <tr>\n",
       "      <th>0</th>\n",
       "      <td>69.0</td>\n",
       "      <td>1</td>\n",
       "      <td>4</td>\n",
       "      <td>110.0</td>\n",
       "      <td>194.0</td>\n",
       "      <td>1</td>\n",
       "      <td>1</td>\n",
       "      <td>142.0</td>\n",
       "      <td>1</td>\n",
       "      <td>1.8</td>\n",
       "      <td>2</td>\n",
       "      <td>0</td>\n",
       "    </tr>\n",
       "    <tr>\n",
       "      <th>0</th>\n",
       "      <td>69.0</td>\n",
       "      <td>1</td>\n",
       "      <td>4</td>\n",
       "      <td>110.0</td>\n",
       "      <td>172.0</td>\n",
       "      <td>1</td>\n",
       "      <td>1</td>\n",
       "      <td>142.0</td>\n",
       "      <td>1</td>\n",
       "      <td>1.8</td>\n",
       "      <td>2</td>\n",
       "      <td>0</td>\n",
       "    </tr>\n",
       "    <tr>\n",
       "      <th>0</th>\n",
       "      <td>69.0</td>\n",
       "      <td>1</td>\n",
       "      <td>4</td>\n",
       "      <td>110.0</td>\n",
       "      <td>172.0</td>\n",
       "      <td>1</td>\n",
       "      <td>1</td>\n",
       "      <td>142.0</td>\n",
       "      <td>1</td>\n",
       "      <td>1.8</td>\n",
       "      <td>2</td>\n",
       "      <td>0</td>\n",
       "    </tr>\n",
       "    <tr>\n",
       "      <th>0</th>\n",
       "      <td>69.0</td>\n",
       "      <td>1</td>\n",
       "      <td>4</td>\n",
       "      <td>113.0</td>\n",
       "      <td>175.0</td>\n",
       "      <td>1</td>\n",
       "      <td>1</td>\n",
       "      <td>150.0</td>\n",
       "      <td>1</td>\n",
       "      <td>1.8</td>\n",
       "      <td>2</td>\n",
       "      <td>0</td>\n",
       "    </tr>\n",
       "    <tr>\n",
       "      <th>0</th>\n",
       "      <td>69.0</td>\n",
       "      <td>1</td>\n",
       "      <td>4</td>\n",
       "      <td>100.0</td>\n",
       "      <td>197.0</td>\n",
       "      <td>1</td>\n",
       "      <td>1</td>\n",
       "      <td>128.0</td>\n",
       "      <td>1</td>\n",
       "      <td>1.8</td>\n",
       "      <td>2</td>\n",
       "      <td>0</td>\n",
       "    </tr>\n",
       "    <tr>\n",
       "      <th>0</th>\n",
       "      <td>69.0</td>\n",
       "      <td>1</td>\n",
       "      <td>4</td>\n",
       "      <td>112.0</td>\n",
       "      <td>155.0</td>\n",
       "      <td>1</td>\n",
       "      <td>1</td>\n",
       "      <td>146.0</td>\n",
       "      <td>1</td>\n",
       "      <td>1.8</td>\n",
       "      <td>2</td>\n",
       "      <td>0</td>\n",
       "    </tr>\n",
       "    <tr>\n",
       "      <th>0</th>\n",
       "      <td>69.0</td>\n",
       "      <td>1</td>\n",
       "      <td>4</td>\n",
       "      <td>110.0</td>\n",
       "      <td>161.0</td>\n",
       "      <td>1</td>\n",
       "      <td>1</td>\n",
       "      <td>145.0</td>\n",
       "      <td>1</td>\n",
       "      <td>1.8</td>\n",
       "      <td>2</td>\n",
       "      <td>0</td>\n",
       "    </tr>\n",
       "    <tr>\n",
       "      <th>0</th>\n",
       "      <td>69.0</td>\n",
       "      <td>1</td>\n",
       "      <td>4</td>\n",
       "      <td>100.0</td>\n",
       "      <td>179.0</td>\n",
       "      <td>1</td>\n",
       "      <td>1</td>\n",
       "      <td>128.0</td>\n",
       "      <td>1</td>\n",
       "      <td>1.8</td>\n",
       "      <td>2</td>\n",
       "      <td>0</td>\n",
       "    </tr>\n",
       "    <tr>\n",
       "      <th>0</th>\n",
       "      <td>69.0</td>\n",
       "      <td>1</td>\n",
       "      <td>4</td>\n",
       "      <td>99.0</td>\n",
       "      <td>197.0</td>\n",
       "      <td>1</td>\n",
       "      <td>1</td>\n",
       "      <td>128.0</td>\n",
       "      <td>1</td>\n",
       "      <td>1.8</td>\n",
       "      <td>2</td>\n",
       "      <td>0</td>\n",
       "    </tr>\n",
       "    <tr>\n",
       "      <th>0</th>\n",
       "      <td>69.0</td>\n",
       "      <td>1</td>\n",
       "      <td>4</td>\n",
       "      <td>108.0</td>\n",
       "      <td>195.0</td>\n",
       "      <td>1</td>\n",
       "      <td>1</td>\n",
       "      <td>147.0</td>\n",
       "      <td>1</td>\n",
       "      <td>1.8</td>\n",
       "      <td>2</td>\n",
       "      <td>0</td>\n",
       "    </tr>\n",
       "    <tr>\n",
       "      <th>0</th>\n",
       "      <td>69.0</td>\n",
       "      <td>1</td>\n",
       "      <td>4</td>\n",
       "      <td>106.0</td>\n",
       "      <td>190.0</td>\n",
       "      <td>1</td>\n",
       "      <td>1</td>\n",
       "      <td>142.0</td>\n",
       "      <td>1</td>\n",
       "      <td>1.8</td>\n",
       "      <td>2</td>\n",
       "      <td>0</td>\n",
       "    </tr>\n",
       "    <tr>\n",
       "      <th>0</th>\n",
       "      <td>69.0</td>\n",
       "      <td>1</td>\n",
       "      <td>4</td>\n",
       "      <td>108.0</td>\n",
       "      <td>191.0</td>\n",
       "      <td>1</td>\n",
       "      <td>1</td>\n",
       "      <td>147.0</td>\n",
       "      <td>1</td>\n",
       "      <td>1.8</td>\n",
       "      <td>2</td>\n",
       "      <td>0</td>\n",
       "    </tr>\n",
       "    <tr>\n",
       "      <th>0</th>\n",
       "      <td>69.0</td>\n",
       "      <td>1</td>\n",
       "      <td>4</td>\n",
       "      <td>108.0</td>\n",
       "      <td>187.0</td>\n",
       "      <td>1</td>\n",
       "      <td>1</td>\n",
       "      <td>147.0</td>\n",
       "      <td>1</td>\n",
       "      <td>1.8</td>\n",
       "      <td>2</td>\n",
       "      <td>0</td>\n",
       "    </tr>\n",
       "    <tr>\n",
       "      <th>0</th>\n",
       "      <td>69.0</td>\n",
       "      <td>1</td>\n",
       "      <td>4</td>\n",
       "      <td>104.0</td>\n",
       "      <td>197.0</td>\n",
       "      <td>1</td>\n",
       "      <td>1</td>\n",
       "      <td>140.0</td>\n",
       "      <td>1</td>\n",
       "      <td>1.8</td>\n",
       "      <td>2</td>\n",
       "      <td>0</td>\n",
       "    </tr>\n",
       "  </tbody>\n",
       "</table>\n",
       "</div>"
      ],
      "text/plain": [
       "    age sex cp  trestbps   chol fbs restecg  thalach exang  oldpeak slope  \\\n",
       "0  69.0   1  4     120.0  196.0   1       1    147.0     1      1.8     2   \n",
       "0  69.0   1  4     120.0  172.0   1       1    151.0     1      1.8     2   \n",
       "0  69.0   1  4     118.0  182.0   1       1    149.0     1      1.8     2   \n",
       "0  69.0   1  4     118.0  179.0   1       1    149.0     1      1.8     2   \n",
       "0  69.0   1  4     120.0  162.0   1       1    151.0     1      1.8     2   \n",
       "0  69.0   1  4     117.0  176.0   1       1    151.0     1      1.8     2   \n",
       "0  69.0   1  4     110.0  194.0   1       1    142.0     1      1.8     2   \n",
       "0  69.0   1  4     110.0  172.0   1       1    142.0     1      1.8     2   \n",
       "0  69.0   1  4     110.0  172.0   1       1    142.0     1      1.8     2   \n",
       "0  69.0   1  4     113.0  175.0   1       1    150.0     1      1.8     2   \n",
       "0  69.0   1  4     100.0  197.0   1       1    128.0     1      1.8     2   \n",
       "0  69.0   1  4     112.0  155.0   1       1    146.0     1      1.8     2   \n",
       "0  69.0   1  4     110.0  161.0   1       1    145.0     1      1.8     2   \n",
       "0  69.0   1  4     100.0  179.0   1       1    128.0     1      1.8     2   \n",
       "0  69.0   1  4      99.0  197.0   1       1    128.0     1      1.8     2   \n",
       "0  69.0   1  4     108.0  195.0   1       1    147.0     1      1.8     2   \n",
       "0  69.0   1  4     106.0  190.0   1       1    142.0     1      1.8     2   \n",
       "0  69.0   1  4     108.0  191.0   1       1    147.0     1      1.8     2   \n",
       "0  69.0   1  4     108.0  187.0   1       1    147.0     1      1.8     2   \n",
       "0  69.0   1  4     104.0  197.0   1       1    140.0     1      1.8     2   \n",
       "\n",
       "   target  \n",
       "0       0  \n",
       "0       0  \n",
       "0       0  \n",
       "0       0  \n",
       "0       0  \n",
       "0       0  \n",
       "0       0  \n",
       "0       0  \n",
       "0       0  \n",
       "0       0  \n",
       "0       0  \n",
       "0       0  \n",
       "0       0  \n",
       "0       0  \n",
       "0       0  \n",
       "0       0  \n",
       "0       0  \n",
       "0       0  \n",
       "0       0  \n",
       "0       0  "
      ]
     },
     "metadata": {},
     "output_type": "display_data"
    },
    {
     "name": "stdout",
     "output_type": "stream",
     "text": [
      "None\n"
     ]
    }
   ],
   "source": [
    "# Create a DICE explainer object and generate an explanation\n",
    "\n",
    "exp_dice = Dice(d, m,method='genetic').generate_counterfactuals(test_instance, total_CFs=20, desired_class=\"opposite\",\n",
    "                                                            features_to_vary=[\"trestbps\", \"chol\", \"thalach\"],permitted_range={\"trestbps\": [80,120],\n",
    "                                                            \"chol\": [150, 200],\n",
    "                                                            \"thalach\": [120, 220 - test_instance['age'].values[0]]}\n",
    "                                                            )\n",
    " \n",
    "# Print the explanation\n",
    "print(exp_dice.visualize_as_dataframe())\n",
    "\n"
   ]
  },
  {
   "cell_type": "code",
   "execution_count": 27,
   "metadata": {},
   "outputs": [
    {
     "data": {
      "text/plain": [
       "'\\nexp = Dice(d, m,method = \"genetic\").generate_counterfactuals(test_instance, total_CFs=20, desired_class=\"opposite\",\\n                                                            features_to_vary=[\"trestbps\", \"chol\", \"thalach\"],algorithm = \"DiverseCF\",feature_weights=\"inverse_mad\",permitted_range = {\"trestbps\": [80, test_instance[\\'trestbps\\'].values[0]-1], \"chol\": [100, test_instance[\\'chol\\'].values[0]-1], \"thalach\": [70,220- test_instance[\\'age\\'].values[0]]},\\n                                                            proximity_weight=2,diversity_weight=3, sparsity_weight = 2,posthoc_sparsity_algorithm=\"binary\",posthoc_sparsity_param =0.1,maxiterations=10)\\n \\n# Print the explanation\\nprint(exp.visualize_as_dataframe())'"
      ]
     },
     "execution_count": 27,
     "metadata": {},
     "output_type": "execute_result"
    }
   ],
   "source": [
    "# Create a DICE explainer object and generate an explanation\n",
    "'''\n",
    "exp = Dice(d, m,method = \"genetic\").generate_counterfactuals(test_instance, total_CFs=20, desired_class=\"opposite\",\n",
    "                                                            features_to_vary=[\"trestbps\", \"chol\", \"thalach\"],algorithm = \"DiverseCF\",feature_weights=\"inverse_mad\",permitted_range = {\"trestbps\": [80, test_instance['trestbps'].values[0]-1], \"chol\": [100, test_instance['chol'].values[0]-1], \"thalach\": [70,220- test_instance['age'].values[0]]},\n",
    "                                                            proximity_weight=2,diversity_weight=3, sparsity_weight = 2,posthoc_sparsity_algorithm=\"binary\",posthoc_sparsity_param =0.1,maxiterations=10)\n",
    " \n",
    "# Print the explanation\n",
    "print(exp.visualize_as_dataframe())'''\n"
   ]
  },
  {
   "cell_type": "code",
   "execution_count": 69,
   "metadata": {},
   "outputs": [],
   "source": [
    "from joblib import Parallel, delayed\n",
    "\n",
    "df_no_counterfactuals = pd.DataFrame(columns=X_high_risk.columns)\n",
    "\n",
    "# Define a function to generate a single counterfactual example\n",
    "def generate_cf(test_instance):\n",
    "    try:\n",
    "        return Dice(d, m, method=\"genetic\").generate_counterfactuals(test_instance, total_CFs=1, desired_class=\"opposite\",\n",
    "                                                                     features_to_vary=[\"trestbps\", \"chol\", \"thalach\"],\n",
    "                                                                     permitted_range={\"trestbps\": [80,120],\n",
    "                                                                                      \"chol\": [150, 200],\n",
    "                                                                                      \"thalach\": [120, 220 - test_instance['age'].values[0]]},\n",
    "                                                                     maxiterations=10)\n",
    "    except Exception as e:\n",
    "        print(\"No counterfactuals found for test instance:\", test_instance)\n",
    "        df_no_counterfactuals.append(test_instance)\n",
    "        return None\n",
    "\n",
    "# Generate counterfactual examples in parallel using joblib\n",
    "num_cores = 8  # Set the number of CPU cores to use\n",
    "results = Parallel(n_jobs=num_cores)(delayed(generate_cf)(test_instance) for i in range(5))\n",
    "\n",
    "# Print the explanations\n",
    "for exp in results:\n",
    "    if exp is not None:\n",
    "        print(exp.visualize_as_dataframe())"
   ]
  },
  {
   "cell_type": "markdown",
   "metadata": {},
   "source": [
    "\n",
    "All Countefactuals Found"
   ]
  },
  {
   "cell_type": "code",
   "execution_count": 86,
   "metadata": {},
   "outputs": [],
   "source": [
    "def generate_cf(test_instance):\n",
    "    try:\n",
    "        return Dice(d, m,method='genetic').generate_counterfactuals(test_instance, total_CFs=20, desired_class=\"opposite\",\n",
    "                                                            features_to_vary=[\"trestbps\", \"chol\", \"thalach\"],\n",
    "                                                            diversity_weight = 5, proximity_weight = 2, sparsity_weight = 5   \n",
    "                                                            #permitted_range={\"trestbps\": [80,120],  \"chol\": [100, 200], \"thalach\": [70, 220 - test_instance['age'].values[0]]},\n",
    "                                                            )\n",
    " \n",
    "    except Exception as e:\n",
    "        print(\"No counterfactuals found for test instance:\", test_instance)\n",
    "        df_no_counterfactuals.append(test_instance)\n",
    "        return None"
   ]
  },
  {
   "cell_type": "markdown",
   "metadata": {},
   "source": [
    "With Ideal Constraints"
   ]
  },
  {
   "cell_type": "code",
   "execution_count": 72,
   "metadata": {},
   "outputs": [],
   "source": [
    "def generate_cf(test_instance):\n",
    "    try:\n",
    "        return Dice(d, m,method='genetic').generate_counterfactuals(test_instance, total_CFs=1, desired_class=\"opposite\",\n",
    "                                                            features_to_vary=[\"trestbps\", \"chol\", \"thalach\"],\n",
    "                                                            diversity_weight = 5, proximity_weight = 2, sparsity_weight = 5,  \n",
    "                                                            permitted_range={\"trestbps\": [80,120],  \"chol\": [150, 200], \"thalach\": [120, 220 - test_instance['age'].values[0]]}\n",
    "                                                            )\n",
    " \n",
    "    except Exception as e:\n",
    "        print(\"No counterfactuals found for test instance:\", test_instance)\n",
    "        df_no_counterfactuals.append(test_instance)\n",
    "        return None"
   ]
  },
  {
   "cell_type": "markdown",
   "metadata": {},
   "source": [
    "With Feasible Constraints"
   ]
  },
  {
   "cell_type": "code",
   "execution_count": 85,
   "metadata": {},
   "outputs": [],
   "source": [
    "def generate_cf(test_instance):\n",
    "    try:\n",
    "        return Dice(d, m,method='genetic').generate_counterfactuals(test_instance, total_CFs=1, desired_class=\"opposite\",\n",
    "                                                            features_to_vary=[\"trestbps\", \"chol\", \"thalach\"],\n",
    "                                                            diversity_weight = 5, proximity_weight = 2, sparsity_weight = 5,  \n",
    "                                                            permitted_range={\"trestbps\": [80, test_instance['trestbps'].values[0]-10],\n",
    "                                                                                    \"chol\": [100, test_instance['chol'].values[0]-0.1*test_instance['chol'].values[0]],\n",
    "                                                                                    \"thalach\": [120, 220 - test_instance['age'].values[0]]}\n",
    "                                                            )\n",
    " \n",
    "    except Exception as e:\n",
    "        print(\"No counterfactuals found for test instance:\", test_instance)\n",
    "        df_no_counterfactuals.append(test_instance)\n",
    "        return None"
   ]
  },
  {
   "cell_type": "markdown",
   "metadata": {},
   "source": [
    "Finding CF's"
   ]
  },
  {
   "cell_type": "code",
   "execution_count": 87,
   "metadata": {},
   "outputs": [
    {
     "name": "stdout",
     "output_type": "stream",
     "text": [
      "0\n",
      "1\n",
      "2\n",
      "3\n",
      "4\n",
      "5\n",
      "6\n",
      "7\n",
      "8\n",
      "9\n",
      "10\n",
      "11\n",
      "12\n",
      "13\n",
      "14\n",
      "15\n",
      "16\n",
      "17\n",
      "18\n",
      "19\n",
      "20\n",
      "21\n",
      "22\n",
      "23\n",
      "24\n",
      "25\n",
      "26\n",
      "27\n",
      "28\n",
      "29\n",
      "30\n",
      "31\n",
      "32\n",
      "33\n",
      "34\n",
      "35\n",
      "36\n",
      "37\n",
      "38\n",
      "39\n",
      "40\n",
      "41\n",
      "42\n",
      "43\n",
      "44\n",
      "45\n",
      "46\n",
      "47\n",
      "48\n",
      "49\n",
      "50\n",
      "51\n",
      "52\n",
      "53\n",
      "54\n",
      "55\n",
      "56\n",
      "57\n",
      "58\n",
      "59\n",
      "60\n",
      "61\n",
      "62\n",
      "63\n",
      "64\n",
      "65\n",
      "66\n",
      "67\n",
      "68\n",
      "69\n",
      "70\n",
      "71\n",
      "72\n",
      "73\n",
      "74\n",
      "75\n",
      "76\n",
      "77\n",
      "78\n",
      "79\n",
      "80\n",
      "81\n",
      "82\n",
      "83\n",
      "84\n",
      "85\n",
      "86\n",
      "87\n",
      "88\n",
      "89\n",
      "90\n",
      "91\n",
      "92\n",
      "93\n",
      "94\n",
      "95\n",
      "96\n"
     ]
    }
   ],
   "source": [
    "exps_ = []\n",
    "num_cores = -1\n",
    "df_no_counterfactuals = pd.DataFrame(columns=X_high_risk_tp.columns)\n",
    "# Iterate over each instance of X_high_risk and generate counterfactuals\n",
    "for i in range(len(X_high_risk_tp)):\n",
    "    test_instance = X_high_risk_tp.iloc[[i]]\n",
    "    print(i)\n",
    "    #exp = generate_cf(test_instance)\n",
    "    # Generate counterfactual examples in parallel using joblib\n",
    "    #num_cores = 8  # Set the number of CPU cores to use\n",
    "    exp = Parallel(n_jobs=num_cores)(delayed(generate_cf)(test_instance) for i in range(1))\n",
    "    exps_.append(exp)"
   ]
  },
  {
   "cell_type": "code",
   "execution_count": 88,
   "metadata": {},
   "outputs": [],
   "source": [
    "df_no_counterfactuals = X_high_risk_tp.loc[[exp[0] is None for exp in exps_]]"
   ]
  },
  {
   "cell_type": "code",
   "execution_count": 89,
   "metadata": {},
   "outputs": [
    {
     "data": {
      "text/html": [
       "<div>\n",
       "<style scoped>\n",
       "    .dataframe tbody tr th:only-of-type {\n",
       "        vertical-align: middle;\n",
       "    }\n",
       "\n",
       "    .dataframe tbody tr th {\n",
       "        vertical-align: top;\n",
       "    }\n",
       "\n",
       "    .dataframe thead th {\n",
       "        text-align: right;\n",
       "    }\n",
       "</style>\n",
       "<table border=\"1\" class=\"dataframe\">\n",
       "  <thead>\n",
       "    <tr style=\"text-align: right;\">\n",
       "      <th></th>\n",
       "      <th>age</th>\n",
       "      <th>sex</th>\n",
       "      <th>cp</th>\n",
       "      <th>trestbps</th>\n",
       "      <th>chol</th>\n",
       "      <th>fbs</th>\n",
       "      <th>restecg</th>\n",
       "      <th>thalach</th>\n",
       "      <th>exang</th>\n",
       "      <th>oldpeak</th>\n",
       "      <th>slope</th>\n",
       "    </tr>\n",
       "  </thead>\n",
       "  <tbody>\n",
       "  </tbody>\n",
       "</table>\n",
       "</div>"
      ],
      "text/plain": [
       "Empty DataFrame\n",
       "Columns: [age, sex, cp, trestbps, chol, fbs, restecg, thalach, exang, oldpeak, slope]\n",
       "Index: []"
      ]
     },
     "execution_count": 89,
     "metadata": {},
     "output_type": "execute_result"
    }
   ],
   "source": [
    "df_no_counterfactuals"
   ]
  },
  {
   "cell_type": "code",
   "execution_count": 125,
   "metadata": {},
   "outputs": [],
   "source": [
    "test_instance = X_high_risk[45:46]"
   ]
  },
  {
   "cell_type": "code",
   "execution_count": 127,
   "metadata": {},
   "outputs": [
    {
     "data": {
      "text/html": [
       "<div>\n",
       "<style scoped>\n",
       "    .dataframe tbody tr th:only-of-type {\n",
       "        vertical-align: middle;\n",
       "    }\n",
       "\n",
       "    .dataframe tbody tr th {\n",
       "        vertical-align: top;\n",
       "    }\n",
       "\n",
       "    .dataframe thead th {\n",
       "        text-align: right;\n",
       "    }\n",
       "</style>\n",
       "<table border=\"1\" class=\"dataframe\">\n",
       "  <thead>\n",
       "    <tr style=\"text-align: right;\">\n",
       "      <th></th>\n",
       "      <th>age</th>\n",
       "      <th>sex</th>\n",
       "      <th>cp</th>\n",
       "      <th>trestbps</th>\n",
       "      <th>chol</th>\n",
       "      <th>fbs</th>\n",
       "      <th>restecg</th>\n",
       "      <th>thalach</th>\n",
       "      <th>exang</th>\n",
       "      <th>oldpeak</th>\n",
       "      <th>slope</th>\n",
       "    </tr>\n",
       "  </thead>\n",
       "  <tbody>\n",
       "    <tr>\n",
       "      <th>45</th>\n",
       "      <td>60</td>\n",
       "      <td>1</td>\n",
       "      <td>4</td>\n",
       "      <td>130</td>\n",
       "      <td>186</td>\n",
       "      <td>1</td>\n",
       "      <td>1</td>\n",
       "      <td>140</td>\n",
       "      <td>1</td>\n",
       "      <td>0.5</td>\n",
       "      <td>2</td>\n",
       "    </tr>\n",
       "  </tbody>\n",
       "</table>\n",
       "</div>"
      ],
      "text/plain": [
       "    age  sex  cp  trestbps  chol  fbs  restecg  thalach  exang  oldpeak  slope\n",
       "45   60    1   4       130   186    1        1      140      1      0.5      2"
      ]
     },
     "execution_count": 127,
     "metadata": {},
     "output_type": "execute_result"
    }
   ],
   "source": [
    "test_instance"
   ]
  },
  {
   "cell_type": "code",
   "execution_count": 137,
   "metadata": {},
   "outputs": [
    {
     "name": "stderr",
     "output_type": "stream",
     "text": [
      "  0%|          | 0/1 [00:00<?, ?it/s]"
     ]
    },
    {
     "name": "stderr",
     "output_type": "stream",
     "text": [
      "100%|██████████| 1/1 [00:00<00:00,  1.19it/s]\n"
     ]
    }
   ],
   "source": [
    "imp = Dice(d, m,method='genetic').local_feature_importance(test_instance, posthoc_sparsity_param=None)"
   ]
  },
  {
   "cell_type": "code",
   "execution_count": 138,
   "metadata": {},
   "outputs": [
    {
     "data": {
      "text/plain": [
       "[{'age': 1.0,\n",
       "  'thalach': 1.0,\n",
       "  'oldpeak': 1.0,\n",
       "  'trestbps': 0.9,\n",
       "  'chol': 0.8,\n",
       "  'fbs': 0.3,\n",
       "  'restecg': 0.3,\n",
       "  'exang': 0.2,\n",
       "  'cp': 0.1,\n",
       "  'sex': 0.0,\n",
       "  'slope': 0.0}]"
      ]
     },
     "execution_count": 138,
     "metadata": {},
     "output_type": "execute_result"
    }
   ],
   "source": [
    "imp.local_importance"
   ]
  },
  {
   "cell_type": "code",
   "execution_count": 140,
   "metadata": {},
   "outputs": [
    {
     "name": "stderr",
     "output_type": "stream",
     "text": [
      "  0%|          | 0/814 [00:00<?, ?it/s]"
     ]
    },
    {
     "name": "stderr",
     "output_type": "stream",
     "text": [
      "100%|██████████| 814/814 [53:40<00:00,  3.96s/it]  \n"
     ]
    },
    {
     "name": "stdout",
     "output_type": "stream",
     "text": [
      "{'chol': 0.9764865197587098, 'thalach': 0.9347531700110796, 'age': 0.9297057737289179, 'trestbps': 0.8015511510525668, 'oldpeak': 0.44897205465960854, 'cp': 0.3046903853256186, 'restecg': 0.2611104271820756, 'slope': 0.19389388157084822, 'sex': 0.13997291641019327, 'exang': 0.12310722639418933, 'fbs': 0.11338175550904839}\n"
     ]
    }
   ],
   "source": [
    "cobj = Dice(d, m,method='genetic').global_feature_importance(X_train, total_CFs=10, posthoc_sparsity_param=None)\n",
    "print(cobj.summary_importance)"
   ]
  },
  {
   "cell_type": "code",
   "execution_count": 129,
   "metadata": {},
   "outputs": [
    {
     "data": {
      "text/plain": [
       "array([1])"
      ]
     },
     "execution_count": 129,
     "metadata": {},
     "output_type": "execute_result"
    }
   ],
   "source": [
    "xgb_pipeline.predict(test_instance)"
   ]
  },
  {
   "cell_type": "code",
   "execution_count": 128,
   "metadata": {},
   "outputs": [
    {
     "ename": "KeyboardInterrupt",
     "evalue": "",
     "output_type": "error",
     "traceback": [
      "\u001b[1;31m---------------------------------------------------------------------------\u001b[0m",
      "\u001b[1;31mKeyboardInterrupt\u001b[0m                         Traceback (most recent call last)",
      "\u001b[1;32mc:\\Users\\praskulkarni\\Downloads\\Counterfactual_Analysis\\Heart_Disease_Prediction_Counterfactual copy.ipynb Cell 31\u001b[0m line \u001b[0;36m3\n\u001b[0;32m      <a href='vscode-notebook-cell:/c%3A/Users/praskulkarni/Downloads/Counterfactual_Analysis/Heart_Disease_Prediction_Counterfactual%20copy.ipynb#X66sZmlsZQ%3D%3D?line=0'>1</a>\u001b[0m \u001b[39m# Generate counterfactual examples in parallel using joblib\u001b[39;00m\n\u001b[0;32m      <a href='vscode-notebook-cell:/c%3A/Users/praskulkarni/Downloads/Counterfactual_Analysis/Heart_Disease_Prediction_Counterfactual%20copy.ipynb#X66sZmlsZQ%3D%3D?line=1'>2</a>\u001b[0m num_cores \u001b[39m=\u001b[39m \u001b[39m8\u001b[39m  \u001b[39m# Set the number of CPU cores to use\u001b[39;00m\n\u001b[1;32m----> <a href='vscode-notebook-cell:/c%3A/Users/praskulkarni/Downloads/Counterfactual_Analysis/Heart_Disease_Prediction_Counterfactual%20copy.ipynb#X66sZmlsZQ%3D%3D?line=2'>3</a>\u001b[0m results \u001b[39m=\u001b[39m Parallel(n_jobs\u001b[39m=\u001b[39;49mnum_cores)(delayed(generate_cf)(test_instance) \u001b[39mfor\u001b[39;49;00m i \u001b[39min\u001b[39;49;00m \u001b[39mrange\u001b[39;49m(\u001b[39m5\u001b[39;49m))\n\u001b[0;32m      <a href='vscode-notebook-cell:/c%3A/Users/praskulkarni/Downloads/Counterfactual_Analysis/Heart_Disease_Prediction_Counterfactual%20copy.ipynb#X66sZmlsZQ%3D%3D?line=4'>5</a>\u001b[0m \u001b[39m# Print the explanations\u001b[39;00m\n\u001b[0;32m      <a href='vscode-notebook-cell:/c%3A/Users/praskulkarni/Downloads/Counterfactual_Analysis/Heart_Disease_Prediction_Counterfactual%20copy.ipynb#X66sZmlsZQ%3D%3D?line=5'>6</a>\u001b[0m \u001b[39mfor\u001b[39;00m exp \u001b[39min\u001b[39;00m results:\n",
      "File \u001b[1;32mc:\\Users\\praskulkarni\\AppData\\Local\\miniconda3\\Lib\\site-packages\\joblib\\parallel.py:1952\u001b[0m, in \u001b[0;36mParallel.__call__\u001b[1;34m(self, iterable)\u001b[0m\n\u001b[0;32m   1946\u001b[0m \u001b[39m# The first item from the output is blank, but it makes the interpreter\u001b[39;00m\n\u001b[0;32m   1947\u001b[0m \u001b[39m# progress until it enters the Try/Except block of the generator and\u001b[39;00m\n\u001b[0;32m   1948\u001b[0m \u001b[39m# reach the first `yield` statement. This starts the aynchronous\u001b[39;00m\n\u001b[0;32m   1949\u001b[0m \u001b[39m# dispatch of the tasks to the workers.\u001b[39;00m\n\u001b[0;32m   1950\u001b[0m \u001b[39mnext\u001b[39m(output)\n\u001b[1;32m-> 1952\u001b[0m \u001b[39mreturn\u001b[39;00m output \u001b[39mif\u001b[39;00m \u001b[39mself\u001b[39m\u001b[39m.\u001b[39mreturn_generator \u001b[39melse\u001b[39;00m \u001b[39mlist\u001b[39m(output)\n",
      "File \u001b[1;32mc:\\Users\\praskulkarni\\AppData\\Local\\miniconda3\\Lib\\site-packages\\joblib\\parallel.py:1595\u001b[0m, in \u001b[0;36mParallel._get_outputs\u001b[1;34m(self, iterator, pre_dispatch)\u001b[0m\n\u001b[0;32m   1592\u001b[0m     \u001b[39myield\u001b[39;00m\n\u001b[0;32m   1594\u001b[0m     \u001b[39mwith\u001b[39;00m \u001b[39mself\u001b[39m\u001b[39m.\u001b[39m_backend\u001b[39m.\u001b[39mretrieval_context():\n\u001b[1;32m-> 1595\u001b[0m         \u001b[39myield from\u001b[39;00m \u001b[39mself\u001b[39m\u001b[39m.\u001b[39m_retrieve()\n\u001b[0;32m   1597\u001b[0m \u001b[39mexcept\u001b[39;00m \u001b[39mGeneratorExit\u001b[39;00m:\n\u001b[0;32m   1598\u001b[0m     \u001b[39m# The generator has been garbage collected before being fully\u001b[39;00m\n\u001b[0;32m   1599\u001b[0m     \u001b[39m# consumed. This aborts the remaining tasks if possible and warn\u001b[39;00m\n\u001b[0;32m   1600\u001b[0m     \u001b[39m# the user if necessary.\u001b[39;00m\n\u001b[0;32m   1601\u001b[0m     \u001b[39mself\u001b[39m\u001b[39m.\u001b[39m_exception \u001b[39m=\u001b[39m \u001b[39mTrue\u001b[39;00m\n",
      "File \u001b[1;32mc:\\Users\\praskulkarni\\AppData\\Local\\miniconda3\\Lib\\site-packages\\joblib\\parallel.py:1707\u001b[0m, in \u001b[0;36mParallel._retrieve\u001b[1;34m(self)\u001b[0m\n\u001b[0;32m   1702\u001b[0m \u001b[39m# If the next job is not ready for retrieval yet, we just wait for\u001b[39;00m\n\u001b[0;32m   1703\u001b[0m \u001b[39m# async callbacks to progress.\u001b[39;00m\n\u001b[0;32m   1704\u001b[0m \u001b[39mif\u001b[39;00m ((\u001b[39mlen\u001b[39m(\u001b[39mself\u001b[39m\u001b[39m.\u001b[39m_jobs) \u001b[39m==\u001b[39m \u001b[39m0\u001b[39m) \u001b[39mor\u001b[39;00m\n\u001b[0;32m   1705\u001b[0m     (\u001b[39mself\u001b[39m\u001b[39m.\u001b[39m_jobs[\u001b[39m0\u001b[39m]\u001b[39m.\u001b[39mget_status(\n\u001b[0;32m   1706\u001b[0m         timeout\u001b[39m=\u001b[39m\u001b[39mself\u001b[39m\u001b[39m.\u001b[39mtimeout) \u001b[39m==\u001b[39m TASK_PENDING)):\n\u001b[1;32m-> 1707\u001b[0m     time\u001b[39m.\u001b[39msleep(\u001b[39m0.01\u001b[39m)\n\u001b[0;32m   1708\u001b[0m     \u001b[39mcontinue\u001b[39;00m\n\u001b[0;32m   1710\u001b[0m \u001b[39m# We need to be careful: the job list can be filling up as\u001b[39;00m\n\u001b[0;32m   1711\u001b[0m \u001b[39m# we empty it and Python list are not thread-safe by\u001b[39;00m\n\u001b[0;32m   1712\u001b[0m \u001b[39m# default hence the use of the lock\u001b[39;00m\n",
      "\u001b[1;31mKeyboardInterrupt\u001b[0m: "
     ]
    }
   ],
   "source": [
    "# Generate counterfactual examples in parallel using joblib\n",
    "num_cores = 8  # Set the number of CPU cores to use\n",
    "results = Parallel(n_jobs=num_cores)(delayed(generate_cf)(test_instance) for i in range(5))\n",
    "\n",
    "# Print the explanations\n",
    "for exp in results:\n",
    "    if exp is not None:\n",
    "        print(exp.visualize_as_dataframe())"
   ]
  },
  {
   "cell_type": "code",
   "execution_count": 23,
   "metadata": {},
   "outputs": [
    {
     "ename": "UserConfigValidationException",
     "evalue": "No counterfactuals found for any of the query points! Kindly check your configuration.",
     "output_type": "error",
     "traceback": [
      "\u001b[1;31m---------------------------------------------------------------------------\u001b[0m",
      "\u001b[1;31m_RemoteTraceback\u001b[0m                          Traceback (most recent call last)",
      "\u001b[1;31m_RemoteTraceback\u001b[0m: \n\"\"\"\nTraceback (most recent call last):\n  File \"c:\\Users\\praskulkarni\\AppData\\Local\\miniconda3\\Lib\\site-packages\\joblib\\externals\\loky\\process_executor.py\", line 463, in _process_worker\n    r = call_item()\n        ^^^^^^^^^^^\n  File \"c:\\Users\\praskulkarni\\AppData\\Local\\miniconda3\\Lib\\site-packages\\joblib\\externals\\loky\\process_executor.py\", line 291, in __call__\n    return self.fn(*self.args, **self.kwargs)\n           ^^^^^^^^^^^^^^^^^^^^^^^^^^^^^^^^^^\n  File \"c:\\Users\\praskulkarni\\AppData\\Local\\miniconda3\\Lib\\site-packages\\joblib\\parallel.py\", line 589, in __call__\n    return [func(*args, **kwargs)\n           ^^^^^^^^^^^^^^^^^^^^^^\n  File \"c:\\Users\\praskulkarni\\AppData\\Local\\miniconda3\\Lib\\site-packages\\joblib\\parallel.py\", line 589, in <listcomp>\n    return [func(*args, **kwargs)\n            ^^^^^^^^^^^^^^^^^^^^^\n  File \"C:\\Users\\praskulkarni\\AppData\\Local\\Temp\\ipykernel_9240\\3847171716.py\", line 6, in generate_cf\n  File \"c:\\Users\\praskulkarni\\AppData\\Local\\miniconda3\\Lib\\site-packages\\dice_ml\\explainer_interfaces\\explainer_base.py\", line 173, in generate_counterfactuals\n    self._check_any_counterfactuals_computed(cf_examples_arr=cf_examples_arr)\n  File \"c:\\Users\\praskulkarni\\AppData\\Local\\miniconda3\\Lib\\site-packages\\dice_ml\\explainer_interfaces\\explainer_base.py\", line 842, in _check_any_counterfactuals_computed\n    raise UserConfigValidationException(\nraiutils.exceptions.UserConfigValidationException: No counterfactuals found for any of the query points! Kindly check your configuration.\n\"\"\"",
      "\nThe above exception was the direct cause of the following exception:\n",
      "\u001b[1;31mUserConfigValidationException\u001b[0m             Traceback (most recent call last)",
      "\u001b[1;32mc:\\Users\\praskulkarni\\Downloads\\Counterfactual_Analysis\\Heart_Disease_Prediction_Counterfactual copy.ipynb Cell 20\u001b[0m line \u001b[0;36m1\n\u001b[0;32m     <a href='vscode-notebook-cell:/c%3A/Users/praskulkarni/Downloads/Counterfactual_Analysis/Heart_Disease_Prediction_Counterfactual%20copy.ipynb#X25sZmlsZQ%3D%3D?line=12'>13</a>\u001b[0m \u001b[39m# Generate counterfactual examples in parallel using joblib\u001b[39;00m\n\u001b[0;32m     <a href='vscode-notebook-cell:/c%3A/Users/praskulkarni/Downloads/Counterfactual_Analysis/Heart_Disease_Prediction_Counterfactual%20copy.ipynb#X25sZmlsZQ%3D%3D?line=13'>14</a>\u001b[0m num_cores \u001b[39m=\u001b[39m \u001b[39m8\u001b[39m  \u001b[39m# Set the number of CPU cores to use\u001b[39;00m\n\u001b[1;32m---> <a href='vscode-notebook-cell:/c%3A/Users/praskulkarni/Downloads/Counterfactual_Analysis/Heart_Disease_Prediction_Counterfactual%20copy.ipynb#X25sZmlsZQ%3D%3D?line=14'>15</a>\u001b[0m results \u001b[39m=\u001b[39m Parallel(n_jobs\u001b[39m=\u001b[39;49mnum_cores)(delayed(generate_cf)(test_instance) \u001b[39mfor\u001b[39;49;00m i \u001b[39min\u001b[39;49;00m \u001b[39mrange\u001b[39;49m(\u001b[39m5\u001b[39;49m))\n\u001b[0;32m     <a href='vscode-notebook-cell:/c%3A/Users/praskulkarni/Downloads/Counterfactual_Analysis/Heart_Disease_Prediction_Counterfactual%20copy.ipynb#X25sZmlsZQ%3D%3D?line=16'>17</a>\u001b[0m \u001b[39m# Print the explanations\u001b[39;00m\n\u001b[0;32m     <a href='vscode-notebook-cell:/c%3A/Users/praskulkarni/Downloads/Counterfactual_Analysis/Heart_Disease_Prediction_Counterfactual%20copy.ipynb#X25sZmlsZQ%3D%3D?line=17'>18</a>\u001b[0m \u001b[39mfor\u001b[39;00m exp \u001b[39min\u001b[39;00m results:\n",
      "File \u001b[1;32mc:\\Users\\praskulkarni\\AppData\\Local\\miniconda3\\Lib\\site-packages\\joblib\\parallel.py:1952\u001b[0m, in \u001b[0;36mParallel.__call__\u001b[1;34m(self, iterable)\u001b[0m\n\u001b[0;32m   1946\u001b[0m \u001b[39m# The first item from the output is blank, but it makes the interpreter\u001b[39;00m\n\u001b[0;32m   1947\u001b[0m \u001b[39m# progress until it enters the Try/Except block of the generator and\u001b[39;00m\n\u001b[0;32m   1948\u001b[0m \u001b[39m# reach the first `yield` statement. This starts the aynchronous\u001b[39;00m\n\u001b[0;32m   1949\u001b[0m \u001b[39m# dispatch of the tasks to the workers.\u001b[39;00m\n\u001b[0;32m   1950\u001b[0m \u001b[39mnext\u001b[39m(output)\n\u001b[1;32m-> 1952\u001b[0m \u001b[39mreturn\u001b[39;00m output \u001b[39mif\u001b[39;00m \u001b[39mself\u001b[39m\u001b[39m.\u001b[39mreturn_generator \u001b[39melse\u001b[39;00m \u001b[39mlist\u001b[39m(output)\n",
      "File \u001b[1;32mc:\\Users\\praskulkarni\\AppData\\Local\\miniconda3\\Lib\\site-packages\\joblib\\parallel.py:1595\u001b[0m, in \u001b[0;36mParallel._get_outputs\u001b[1;34m(self, iterator, pre_dispatch)\u001b[0m\n\u001b[0;32m   1592\u001b[0m     \u001b[39myield\u001b[39;00m\n\u001b[0;32m   1594\u001b[0m     \u001b[39mwith\u001b[39;00m \u001b[39mself\u001b[39m\u001b[39m.\u001b[39m_backend\u001b[39m.\u001b[39mretrieval_context():\n\u001b[1;32m-> 1595\u001b[0m         \u001b[39myield from\u001b[39;00m \u001b[39mself\u001b[39m\u001b[39m.\u001b[39m_retrieve()\n\u001b[0;32m   1597\u001b[0m \u001b[39mexcept\u001b[39;00m \u001b[39mGeneratorExit\u001b[39;00m:\n\u001b[0;32m   1598\u001b[0m     \u001b[39m# The generator has been garbage collected before being fully\u001b[39;00m\n\u001b[0;32m   1599\u001b[0m     \u001b[39m# consumed. This aborts the remaining tasks if possible and warn\u001b[39;00m\n\u001b[0;32m   1600\u001b[0m     \u001b[39m# the user if necessary.\u001b[39;00m\n\u001b[0;32m   1601\u001b[0m     \u001b[39mself\u001b[39m\u001b[39m.\u001b[39m_exception \u001b[39m=\u001b[39m \u001b[39mTrue\u001b[39;00m\n",
      "File \u001b[1;32mc:\\Users\\praskulkarni\\AppData\\Local\\miniconda3\\Lib\\site-packages\\joblib\\parallel.py:1699\u001b[0m, in \u001b[0;36mParallel._retrieve\u001b[1;34m(self)\u001b[0m\n\u001b[0;32m   1692\u001b[0m \u001b[39mwhile\u001b[39;00m \u001b[39mself\u001b[39m\u001b[39m.\u001b[39m_wait_retrieval():\n\u001b[0;32m   1693\u001b[0m \n\u001b[0;32m   1694\u001b[0m     \u001b[39m# If the callback thread of a worker has signaled that its task\u001b[39;00m\n\u001b[0;32m   1695\u001b[0m     \u001b[39m# triggered an exception, or if the retrieval loop has raised an\u001b[39;00m\n\u001b[0;32m   1696\u001b[0m     \u001b[39m# exception (e.g. `GeneratorExit`), exit the loop and surface the\u001b[39;00m\n\u001b[0;32m   1697\u001b[0m     \u001b[39m# worker traceback.\u001b[39;00m\n\u001b[0;32m   1698\u001b[0m     \u001b[39mif\u001b[39;00m \u001b[39mself\u001b[39m\u001b[39m.\u001b[39m_aborting:\n\u001b[1;32m-> 1699\u001b[0m         \u001b[39mself\u001b[39;49m\u001b[39m.\u001b[39;49m_raise_error_fast()\n\u001b[0;32m   1700\u001b[0m         \u001b[39mbreak\u001b[39;00m\n\u001b[0;32m   1702\u001b[0m     \u001b[39m# If the next job is not ready for retrieval yet, we just wait for\u001b[39;00m\n\u001b[0;32m   1703\u001b[0m     \u001b[39m# async callbacks to progress.\u001b[39;00m\n",
      "File \u001b[1;32mc:\\Users\\praskulkarni\\AppData\\Local\\miniconda3\\Lib\\site-packages\\joblib\\parallel.py:1734\u001b[0m, in \u001b[0;36mParallel._raise_error_fast\u001b[1;34m(self)\u001b[0m\n\u001b[0;32m   1730\u001b[0m \u001b[39m# If this error job exists, immediatly raise the error by\u001b[39;00m\n\u001b[0;32m   1731\u001b[0m \u001b[39m# calling get_result. This job might not exists if abort has been\u001b[39;00m\n\u001b[0;32m   1732\u001b[0m \u001b[39m# called directly or if the generator is gc'ed.\u001b[39;00m\n\u001b[0;32m   1733\u001b[0m \u001b[39mif\u001b[39;00m error_job \u001b[39mis\u001b[39;00m \u001b[39mnot\u001b[39;00m \u001b[39mNone\u001b[39;00m:\n\u001b[1;32m-> 1734\u001b[0m     error_job\u001b[39m.\u001b[39;49mget_result(\u001b[39mself\u001b[39;49m\u001b[39m.\u001b[39;49mtimeout)\n",
      "File \u001b[1;32mc:\\Users\\praskulkarni\\AppData\\Local\\miniconda3\\Lib\\site-packages\\joblib\\parallel.py:736\u001b[0m, in \u001b[0;36mBatchCompletionCallBack.get_result\u001b[1;34m(self, timeout)\u001b[0m\n\u001b[0;32m    730\u001b[0m backend \u001b[39m=\u001b[39m \u001b[39mself\u001b[39m\u001b[39m.\u001b[39mparallel\u001b[39m.\u001b[39m_backend\n\u001b[0;32m    732\u001b[0m \u001b[39mif\u001b[39;00m backend\u001b[39m.\u001b[39msupports_retrieve_callback:\n\u001b[0;32m    733\u001b[0m     \u001b[39m# We assume that the result has already been retrieved by the\u001b[39;00m\n\u001b[0;32m    734\u001b[0m     \u001b[39m# callback thread, and is stored internally. It's just waiting to\u001b[39;00m\n\u001b[0;32m    735\u001b[0m     \u001b[39m# be returned.\u001b[39;00m\n\u001b[1;32m--> 736\u001b[0m     \u001b[39mreturn\u001b[39;00m \u001b[39mself\u001b[39;49m\u001b[39m.\u001b[39;49m_return_or_raise()\n\u001b[0;32m    738\u001b[0m \u001b[39m# For other backends, the main thread needs to run the retrieval step.\u001b[39;00m\n\u001b[0;32m    739\u001b[0m \u001b[39mtry\u001b[39;00m:\n",
      "File \u001b[1;32mc:\\Users\\praskulkarni\\AppData\\Local\\miniconda3\\Lib\\site-packages\\joblib\\parallel.py:754\u001b[0m, in \u001b[0;36mBatchCompletionCallBack._return_or_raise\u001b[1;34m(self)\u001b[0m\n\u001b[0;32m    752\u001b[0m \u001b[39mtry\u001b[39;00m:\n\u001b[0;32m    753\u001b[0m     \u001b[39mif\u001b[39;00m \u001b[39mself\u001b[39m\u001b[39m.\u001b[39mstatus \u001b[39m==\u001b[39m TASK_ERROR:\n\u001b[1;32m--> 754\u001b[0m         \u001b[39mraise\u001b[39;00m \u001b[39mself\u001b[39m\u001b[39m.\u001b[39m_result\n\u001b[0;32m    755\u001b[0m     \u001b[39mreturn\u001b[39;00m \u001b[39mself\u001b[39m\u001b[39m.\u001b[39m_result\n\u001b[0;32m    756\u001b[0m \u001b[39mfinally\u001b[39;00m:\n",
      "\u001b[1;31mUserConfigValidationException\u001b[0m: No counterfactuals found for any of the query points! Kindly check your configuration."
     ]
    }
   ],
   "source": [
    "from joblib import Parallel, delayed\n",
    "\n",
    "# Define a function to generate a single counterfactual example\n",
    "def generate_cf(test_instance):\n",
    "   \n",
    "    return Dice(d, m, method=\"genetic\").generate_counterfactuals(test_instance, total_CFs=1, desired_class=\"opposite\",\n",
    "                                                                    features_to_vary=[\"trestbps\", \"chol\", \"thalach\"],\n",
    "                                                                    permitted_range={\"trestbps\": [80,120],\n",
    "                                                                                    \"chol\": [100, 200],\n",
    "                                                                                    \"thalach\": [70, 220 - test_instance['age'].values[0]]},\n",
    "                                                                    maxiterations=100)\n",
    "\n",
    "# Generate counterfactual examples in parallel using joblib\n",
    "num_cores = 8  # Set the number of CPU cores to use\n",
    "results = Parallel(n_jobs=num_cores)(delayed(generate_cf)(test_instance) for i in range(5))\n",
    "\n",
    "# Print the explanations\n",
    "for exp in results:\n",
    "    print(exp.visualize_as_dataframe())"
   ]
  },
  {
   "cell_type": "code",
   "execution_count": null,
   "metadata": {},
   "outputs": [],
   "source": [
    "from joblib import Parallel, delayed\n",
    "import pandas as pd\n",
    "# Generate counterfactual examples in parallel using joblib\n",
    "num_cores = 8  # Set the number of CPU cores to use\n",
    "# Define a function to generate a single counterfactual example\n",
    "def generate_cf(test_instance):\n",
    "    try:\n",
    "        print(\"finding counterfactuals with permitted range...\")\n",
    "        return Dice(d, m, method=\"genetic\").generate_counterfactuals(test_instance, total_CFs=1, desired_class=\"opposite\",\n",
    "                                                                     features_to_vary=[\"trestbps\", \"chol\", \"thalach\"],\n",
    "                                                                     permitted_range={\"trestbps\": [80, test_instance['trestbps'].values[0]-1],\n",
    "                                                                                      \"chol\": [100, test_instance['chol'].values[0]-1],\n",
    "                                                                                      \"thalach\": [70, 220 - test_instance['age'].values[0]]},\n",
    "                                                                     proximity_weight=10,diversity_weight=2, sparsity_weight = 2,posthoc_sparsity_algorithm=\"binary\",posthoc_sparsity_param =0.1,\n",
    "                                                                     maxiterations=100)\n",
    "    except Exception as e:\n",
    "        print(\"No counterfactuals found with permitted range. Generating counterfactuals without permitted range...\")\n",
    "        return Dice(d, m, method=\"genetic\").generate_counterfactuals(test_instance, total_CFs=1 , desired_class=\"opposite\",\n",
    "                                                                     features_to_vary=[\"trestbps\", \"chol\", \"thalach\"],proximity_weight=10,diversity_weight=2, sparsity_weight = 2,posthoc_sparsity_algorithm=\"binary\",posthoc_sparsity_param =0.1,\n",
    "                                                                     maxiterations=10)\n",
    "\n",
    "\n",
    "results = Parallel(n_jobs=num_cores)(delayed(generate_cf)(test_instance) for i in range(20))\n",
    "\n",
    "# Merge the explanations into one dataframe\n",
    "df = pd.concat([exp.cf_examples_list[0].final_cfs_df for exp in results]).drop_duplicates()\n",
    "\n",
    "# Print the merged dataframe\n"
   ]
  },
  {
   "cell_type": "code",
   "execution_count": 21,
   "metadata": {},
   "outputs": [
    {
     "name": "stderr",
     "output_type": "stream",
     "text": [
      "  0%|          | 0/1 [41:27<?, ?it/s]\n"
     ]
    },
    {
     "ename": "KeyboardInterrupt",
     "evalue": "",
     "output_type": "error",
     "traceback": [
      "\u001b[1;31m---------------------------------------------------------------------------\u001b[0m",
      "\u001b[1;31mKeyboardInterrupt\u001b[0m                         Traceback (most recent call last)",
      "Cell \u001b[1;32mIn[21], line 3\u001b[0m\n\u001b[0;32m      1\u001b[0m \u001b[39m# Create a DICE explainer object and generate an explanation\u001b[39;00m\n\u001b[1;32m----> 3\u001b[0m exp \u001b[39m=\u001b[39m Dice(d, m,method\u001b[39m=\u001b[39;49m\u001b[39m'\u001b[39;49m\u001b[39mgenetic\u001b[39;49m\u001b[39m'\u001b[39;49m)\u001b[39m.\u001b[39;49mgenerate_counterfactuals(test_instance, total_CFs\u001b[39m=\u001b[39;49m\u001b[39m20\u001b[39;49m, desired_class\u001b[39m=\u001b[39;49m\u001b[39m\"\u001b[39;49m\u001b[39mopposite\u001b[39;49m\u001b[39m\"\u001b[39;49m,\n\u001b[0;32m      4\u001b[0m                                                             features_to_vary\u001b[39m=\u001b[39;49m[\u001b[39m\"\u001b[39;49m\u001b[39mtrestbps\u001b[39;49m\u001b[39m\"\u001b[39;49m, \u001b[39m\"\u001b[39;49m\u001b[39mchol\u001b[39;49m\u001b[39m\"\u001b[39;49m, \u001b[39m\"\u001b[39;49m\u001b[39mthalach\u001b[39;49m\u001b[39m\"\u001b[39;49m],permitted_range \u001b[39m=\u001b[39;49m {\u001b[39m\"\u001b[39;49m\u001b[39mtrestbps\u001b[39;49m\u001b[39m\"\u001b[39;49m: [\u001b[39m80\u001b[39;49m, \u001b[39m120\u001b[39;49m], \u001b[39m\"\u001b[39;49m\u001b[39mchol\u001b[39;49m\u001b[39m\"\u001b[39;49m: [\u001b[39m100\u001b[39;49m, \u001b[39m200\u001b[39;49m], \u001b[39m\"\u001b[39;49m\u001b[39mthalach\u001b[39;49m\u001b[39m\"\u001b[39;49m: [\u001b[39m70\u001b[39;49m,\u001b[39m220\u001b[39;49m\u001b[39m-\u001b[39;49m test_instance[\u001b[39m'\u001b[39;49m\u001b[39mage\u001b[39;49m\u001b[39m'\u001b[39;49m]\u001b[39m.\u001b[39;49mvalues[\u001b[39m0\u001b[39;49m]]}\n\u001b[0;32m      5\u001b[0m                                                            )\n\u001b[0;32m      7\u001b[0m \u001b[39m# Print the explanation\u001b[39;00m\n\u001b[0;32m      8\u001b[0m \u001b[39mprint\u001b[39m(exp\u001b[39m.\u001b[39mvisualize_as_dataframe())\n",
      "File \u001b[1;32mc:\\Users\\praskulkarni\\AppData\\Local\\Programs\\Python\\Python311\\Lib\\site-packages\\dice_ml\\explainer_interfaces\\explainer_base.py:161\u001b[0m, in \u001b[0;36mExplainerBase.generate_counterfactuals\u001b[1;34m(self, query_instances, total_CFs, desired_class, desired_range, permitted_range, features_to_vary, stopping_threshold, posthoc_sparsity_param, proximity_weight, sparsity_weight, diversity_weight, categorical_penalty, posthoc_sparsity_algorithm, verbose, **kwargs)\u001b[0m\n\u001b[0;32m    159\u001b[0m \u001b[39mfor\u001b[39;00m query_instance \u001b[39min\u001b[39;00m tqdm(query_instances_list):\n\u001b[0;32m    160\u001b[0m     \u001b[39mself\u001b[39m\u001b[39m.\u001b[39mdata_interface\u001b[39m.\u001b[39mset_continuous_feature_indexes(query_instance)\n\u001b[1;32m--> 161\u001b[0m     res \u001b[39m=\u001b[39m \u001b[39mself\u001b[39;49m\u001b[39m.\u001b[39;49m_generate_counterfactuals(\n\u001b[0;32m    162\u001b[0m         query_instance, total_CFs,\n\u001b[0;32m    163\u001b[0m         desired_class\u001b[39m=\u001b[39;49mdesired_class,\n\u001b[0;32m    164\u001b[0m         desired_range\u001b[39m=\u001b[39;49mdesired_range,\n\u001b[0;32m    165\u001b[0m         permitted_range\u001b[39m=\u001b[39;49mpermitted_range,\n\u001b[0;32m    166\u001b[0m         features_to_vary\u001b[39m=\u001b[39;49mfeatures_to_vary,\n\u001b[0;32m    167\u001b[0m         stopping_threshold\u001b[39m=\u001b[39;49mstopping_threshold,\n\u001b[0;32m    168\u001b[0m         posthoc_sparsity_param\u001b[39m=\u001b[39;49mposthoc_sparsity_param,\n\u001b[0;32m    169\u001b[0m         posthoc_sparsity_algorithm\u001b[39m=\u001b[39;49mposthoc_sparsity_algorithm,\n\u001b[0;32m    170\u001b[0m         verbose\u001b[39m=\u001b[39;49mverbose,\n\u001b[0;32m    171\u001b[0m         \u001b[39m*\u001b[39;49m\u001b[39m*\u001b[39;49mkwargs)\n\u001b[0;32m    172\u001b[0m     cf_examples_arr\u001b[39m.\u001b[39mappend(res)\n\u001b[0;32m    173\u001b[0m \u001b[39mself\u001b[39m\u001b[39m.\u001b[39m_check_any_counterfactuals_computed(cf_examples_arr\u001b[39m=\u001b[39mcf_examples_arr)\n",
      "File \u001b[1;32mc:\\Users\\praskulkarni\\AppData\\Local\\Programs\\Python\\Python311\\Lib\\site-packages\\dice_ml\\explainer_interfaces\\dice_genetic.py:288\u001b[0m, in \u001b[0;36mDiceGenetic._generate_counterfactuals\u001b[1;34m(self, query_instance, total_CFs, initialization, desired_range, desired_class, proximity_weight, sparsity_weight, diversity_weight, categorical_penalty, algorithm, features_to_vary, permitted_range, yloss_type, diversity_loss_type, feature_weights, stopping_threshold, posthoc_sparsity_param, posthoc_sparsity_algorithm, maxiterations, thresh, verbose)\u001b[0m\n\u001b[0;32m    285\u001b[0m     \u001b[39mif\u001b[39;00m col \u001b[39mnot\u001b[39;00m \u001b[39min\u001b[39;00m query_instance_df_dummies\u001b[39m.\u001b[39mcolumns:\n\u001b[0;32m    286\u001b[0m         query_instance_df_dummies[col] \u001b[39m=\u001b[39m \u001b[39m0\u001b[39m\n\u001b[1;32m--> 288\u001b[0m \u001b[39mself\u001b[39;49m\u001b[39m.\u001b[39;49mdo_param_initializations(total_CFs, initialization, desired_range, desired_class, query_instance,\n\u001b[0;32m    289\u001b[0m                               query_instance_df_dummies, algorithm, features_to_vary, permitted_range,\n\u001b[0;32m    290\u001b[0m                               yloss_type, diversity_loss_type, feature_weights, proximity_weight,\n\u001b[0;32m    291\u001b[0m                               sparsity_weight, diversity_weight, categorical_penalty, verbose)\n\u001b[0;32m    293\u001b[0m query_instance_df \u001b[39m=\u001b[39m \u001b[39mself\u001b[39m\u001b[39m.\u001b[39mfind_counterfactuals(query_instance, desired_range, desired_class, features_to_vary,\n\u001b[0;32m    294\u001b[0m                                               maxiterations, thresh, verbose)\n\u001b[0;32m    296\u001b[0m \u001b[39mreturn\u001b[39;00m exp\u001b[39m.\u001b[39mCounterfactualExamples(data_interface\u001b[39m=\u001b[39m\u001b[39mself\u001b[39m\u001b[39m.\u001b[39mdata_interface,\n\u001b[0;32m    297\u001b[0m                                   test_instance_df\u001b[39m=\u001b[39mquery_instance_df,\n\u001b[0;32m    298\u001b[0m                                   final_cfs_df\u001b[39m=\u001b[39m\u001b[39mself\u001b[39m\u001b[39m.\u001b[39mfinal_cfs_df,\n\u001b[1;32m   (...)\u001b[0m\n\u001b[0;32m    302\u001b[0m                                   desired_class\u001b[39m=\u001b[39mdesired_class,\n\u001b[0;32m    303\u001b[0m                                   model_type\u001b[39m=\u001b[39m\u001b[39mself\u001b[39m\u001b[39m.\u001b[39mmodel\u001b[39m.\u001b[39mmodel_type)\n",
      "File \u001b[1;32mc:\\Users\\praskulkarni\\AppData\\Local\\Programs\\Python\\Python311\\Lib\\site-packages\\dice_ml\\explainer_interfaces\\dice_genetic.py:194\u001b[0m, in \u001b[0;36mDiceGenetic.do_param_initializations\u001b[1;34m(self, total_CFs, initialization, desired_range, desired_class, query_instance, query_instance_df_dummies, algorithm, features_to_vary, permitted_range, yloss_type, diversity_loss_type, feature_weights, proximity_weight, sparsity_weight, diversity_weight, categorical_penalty, verbose)\u001b[0m\n\u001b[0;32m    192\u001b[0m \u001b[39mself\u001b[39m\u001b[39m.\u001b[39mfeature_range \u001b[39m=\u001b[39m \u001b[39mself\u001b[39m\u001b[39m.\u001b[39mget_valid_feature_range(normalized\u001b[39m=\u001b[39m\u001b[39mFalse\u001b[39;00m)\n\u001b[0;32m    193\u001b[0m \u001b[39mif\u001b[39;00m \u001b[39mlen\u001b[39m(\u001b[39mself\u001b[39m\u001b[39m.\u001b[39mcfs) \u001b[39m!=\u001b[39m total_CFs:\n\u001b[1;32m--> 194\u001b[0m     \u001b[39mself\u001b[39;49m\u001b[39m.\u001b[39;49mdo_cf_initializations(\n\u001b[0;32m    195\u001b[0m         total_CFs, initialization, algorithm, features_to_vary, desired_range, desired_class,\n\u001b[0;32m    196\u001b[0m         query_instance, query_instance_df_dummies, verbose)\n\u001b[0;32m    197\u001b[0m \u001b[39melse\u001b[39;00m:\n\u001b[0;32m    198\u001b[0m     \u001b[39mself\u001b[39m\u001b[39m.\u001b[39mtotal_CFs \u001b[39m=\u001b[39m total_CFs\n",
      "File \u001b[1;32mc:\\Users\\praskulkarni\\AppData\\Local\\Programs\\Python\\Python311\\Lib\\site-packages\\dice_ml\\explainer_interfaces\\dice_genetic.py:180\u001b[0m, in \u001b[0;36mDiceGenetic.do_cf_initializations\u001b[1;34m(self, total_CFs, initialization, algorithm, features_to_vary, desired_range, desired_class, query_instance, query_instance_df_dummies, verbose)\u001b[0m\n\u001b[0;32m    178\u001b[0m         indices \u001b[39m=\u001b[39m \u001b[39mself\u001b[39m\u001b[39m.\u001b[39mKD_tree\u001b[39m.\u001b[39mquery(query_instance_df_dummies, num_queries)[\u001b[39m1\u001b[39m][\u001b[39m0\u001b[39m]\n\u001b[0;32m    179\u001b[0m         KD_tree_output \u001b[39m=\u001b[39m \u001b[39mself\u001b[39m\u001b[39m.\u001b[39mdataset_with_predictions\u001b[39m.\u001b[39miloc[indices]\u001b[39m.\u001b[39mcopy()\n\u001b[1;32m--> 180\u001b[0m         \u001b[39mself\u001b[39;49m\u001b[39m.\u001b[39;49mdo_KD_init(features_to_vary, query_instance, KD_tree_output, desired_class, desired_range)\n\u001b[0;32m    182\u001b[0m \u001b[39mif\u001b[39;00m verbose:\n\u001b[0;32m    183\u001b[0m     \u001b[39mprint\u001b[39m(\u001b[39m\"\u001b[39m\u001b[39mInitialization complete! Generating counterfactuals...\u001b[39m\u001b[39m\"\u001b[39m)\n",
      "File \u001b[1;32mc:\\Users\\praskulkarni\\AppData\\Local\\Programs\\Python\\Python311\\Lib\\site-packages\\dice_ml\\explainer_interfaces\\dice_genetic.py:140\u001b[0m, in \u001b[0;36mDiceGenetic.do_KD_init\u001b[1;34m(self, features_to_vary, query_instance, cfs, desired_class, desired_range)\u001b[0m\n\u001b[0;32m    137\u001b[0m uniques \u001b[39m=\u001b[39m np\u001b[39m.\u001b[39munique(new_array, axis\u001b[39m=\u001b[39m\u001b[39m0\u001b[39m)\n\u001b[0;32m    139\u001b[0m \u001b[39mif\u001b[39;00m \u001b[39mlen\u001b[39m(uniques) \u001b[39m!=\u001b[39m \u001b[39mself\u001b[39m\u001b[39m.\u001b[39mpopulation_size:\n\u001b[1;32m--> 140\u001b[0m     remaining_cfs \u001b[39m=\u001b[39m \u001b[39mself\u001b[39;49m\u001b[39m.\u001b[39;49mdo_random_init(\n\u001b[0;32m    141\u001b[0m         \u001b[39mself\u001b[39;49m\u001b[39m.\u001b[39;49mpopulation_size \u001b[39m-\u001b[39;49m \u001b[39mlen\u001b[39;49m(uniques), features_to_vary, query_instance, desired_class, desired_range)\n\u001b[0;32m    142\u001b[0m     \u001b[39mself\u001b[39m\u001b[39m.\u001b[39mcfs \u001b[39m=\u001b[39m np\u001b[39m.\u001b[39mconcatenate([uniques, remaining_cfs])\n",
      "File \u001b[1;32mc:\\Users\\praskulkarni\\AppData\\Local\\Programs\\Python\\Python311\\Lib\\site-packages\\dice_ml\\explainer_interfaces\\dice_genetic.py:98\u001b[0m, in \u001b[0;36mDiceGenetic.do_random_init\u001b[1;34m(self, num_inits, features_to_vary, query_instance, desired_class, desired_range)\u001b[0m\n\u001b[0;32m     96\u001b[0m     \u001b[39melse\u001b[39;00m:\n\u001b[0;32m     97\u001b[0m         one_init[jx] \u001b[39m=\u001b[39m query_instance[jx]\n\u001b[1;32m---> 98\u001b[0m \u001b[39mif\u001b[39;00m \u001b[39mself\u001b[39m\u001b[39m.\u001b[39mis_cf_valid(\u001b[39mself\u001b[39;49m\u001b[39m.\u001b[39;49mpredict_fn_scores(one_init)):\n\u001b[0;32m     99\u001b[0m     remaining_cfs[kx] \u001b[39m=\u001b[39m one_init\n\u001b[0;32m    100\u001b[0m     kx \u001b[39m+\u001b[39m\u001b[39m=\u001b[39m \u001b[39m1\u001b[39m\n",
      "File \u001b[1;32mc:\\Users\\praskulkarni\\AppData\\Local\\Programs\\Python\\Python311\\Lib\\site-packages\\dice_ml\\explainer_interfaces\\dice_genetic.py:308\u001b[0m, in \u001b[0;36mDiceGenetic.predict_fn_scores\u001b[1;34m(self, input_instance)\u001b[0m\n\u001b[0;32m    306\u001b[0m \u001b[39m\u001b[39m\u001b[39m\"\"\"Returns prediction scores.\"\"\"\u001b[39;00m\n\u001b[0;32m    307\u001b[0m input_instance \u001b[39m=\u001b[39m \u001b[39mself\u001b[39m\u001b[39m.\u001b[39mlabel_decode(input_instance)\n\u001b[1;32m--> 308\u001b[0m out \u001b[39m=\u001b[39m \u001b[39mself\u001b[39;49m\u001b[39m.\u001b[39;49mmodel\u001b[39m.\u001b[39;49mget_output(input_instance)\n\u001b[0;32m    309\u001b[0m \u001b[39mif\u001b[39;00m \u001b[39mself\u001b[39m\u001b[39m.\u001b[39mmodel\u001b[39m.\u001b[39mmodel_type \u001b[39m==\u001b[39m ModelTypes\u001b[39m.\u001b[39mClassifier \u001b[39mand\u001b[39;00m out\u001b[39m.\u001b[39mshape[\u001b[39m1\u001b[39m] \u001b[39m==\u001b[39m \u001b[39m1\u001b[39m:\n\u001b[0;32m    310\u001b[0m     \u001b[39m# DL models return only 1 for binary classification\u001b[39;00m\n\u001b[0;32m    311\u001b[0m     out \u001b[39m=\u001b[39m np\u001b[39m.\u001b[39mhstack((\u001b[39m1\u001b[39m\u001b[39m-\u001b[39mout, out))\n",
      "File \u001b[1;32mc:\\Users\\praskulkarni\\AppData\\Local\\Programs\\Python\\Python311\\Lib\\site-packages\\dice_ml\\model_interfaces\\base_model.py:54\u001b[0m, in \u001b[0;36mBaseModel.get_output\u001b[1;34m(self, input_instance, model_score)\u001b[0m\n\u001b[0;32m     52\u001b[0m \u001b[39mif\u001b[39;00m model_score:\n\u001b[0;32m     53\u001b[0m     \u001b[39mif\u001b[39;00m \u001b[39mself\u001b[39m\u001b[39m.\u001b[39mmodel_type \u001b[39m==\u001b[39m ModelTypes\u001b[39m.\u001b[39mClassifier:\n\u001b[1;32m---> 54\u001b[0m         \u001b[39mreturn\u001b[39;00m \u001b[39mself\u001b[39;49m\u001b[39m.\u001b[39;49mmodel\u001b[39m.\u001b[39;49mpredict_proba(input_instance)\n\u001b[0;32m     55\u001b[0m     \u001b[39melse\u001b[39;00m:\n\u001b[0;32m     56\u001b[0m         \u001b[39mreturn\u001b[39;00m \u001b[39mself\u001b[39m\u001b[39m.\u001b[39mmodel\u001b[39m.\u001b[39mpredict(input_instance)\n",
      "File \u001b[1;32mc:\\Users\\praskulkarni\\AppData\\Local\\Programs\\Python\\Python311\\Lib\\site-packages\\sklearn\\pipeline.py:547\u001b[0m, in \u001b[0;36mPipeline.predict_proba\u001b[1;34m(self, X, **predict_proba_params)\u001b[0m\n\u001b[0;32m    545\u001b[0m \u001b[39mfor\u001b[39;00m _, name, transform \u001b[39min\u001b[39;00m \u001b[39mself\u001b[39m\u001b[39m.\u001b[39m_iter(with_final\u001b[39m=\u001b[39m\u001b[39mFalse\u001b[39;00m):\n\u001b[0;32m    546\u001b[0m     Xt \u001b[39m=\u001b[39m transform\u001b[39m.\u001b[39mtransform(Xt)\n\u001b[1;32m--> 547\u001b[0m \u001b[39mreturn\u001b[39;00m \u001b[39mself\u001b[39;49m\u001b[39m.\u001b[39;49msteps[\u001b[39m-\u001b[39;49m\u001b[39m1\u001b[39;49m][\u001b[39m1\u001b[39;49m]\u001b[39m.\u001b[39;49mpredict_proba(Xt, \u001b[39m*\u001b[39;49m\u001b[39m*\u001b[39;49mpredict_proba_params)\n",
      "File \u001b[1;32mc:\\Users\\praskulkarni\\AppData\\Local\\Programs\\Python\\Python311\\Lib\\site-packages\\xgboost\\sklearn.py:1606\u001b[0m, in \u001b[0;36mXGBClassifier.predict_proba\u001b[1;34m(self, X, ntree_limit, validate_features, base_margin, iteration_range)\u001b[0m\n\u001b[0;32m   1604\u001b[0m     class_prob \u001b[39m=\u001b[39m softmax(raw_predt, axis\u001b[39m=\u001b[39m\u001b[39m1\u001b[39m)\n\u001b[0;32m   1605\u001b[0m     \u001b[39mreturn\u001b[39;00m class_prob\n\u001b[1;32m-> 1606\u001b[0m class_probs \u001b[39m=\u001b[39m \u001b[39msuper\u001b[39;49m()\u001b[39m.\u001b[39;49mpredict(\n\u001b[0;32m   1607\u001b[0m     X\u001b[39m=\u001b[39;49mX,\n\u001b[0;32m   1608\u001b[0m     ntree_limit\u001b[39m=\u001b[39;49mntree_limit,\n\u001b[0;32m   1609\u001b[0m     validate_features\u001b[39m=\u001b[39;49mvalidate_features,\n\u001b[0;32m   1610\u001b[0m     base_margin\u001b[39m=\u001b[39;49mbase_margin,\n\u001b[0;32m   1611\u001b[0m     iteration_range\u001b[39m=\u001b[39;49miteration_range,\n\u001b[0;32m   1612\u001b[0m )\n\u001b[0;32m   1613\u001b[0m \u001b[39m# If model is loaded from a raw booster there's no `n_classes_`\u001b[39;00m\n\u001b[0;32m   1614\u001b[0m \u001b[39mreturn\u001b[39;00m _cls_predict_proba(\n\u001b[0;32m   1615\u001b[0m     \u001b[39mgetattr\u001b[39m(\u001b[39mself\u001b[39m, \u001b[39m\"\u001b[39m\u001b[39mn_classes_\u001b[39m\u001b[39m\"\u001b[39m, \u001b[39m0\u001b[39m), class_probs, np\u001b[39m.\u001b[39mvstack\n\u001b[0;32m   1616\u001b[0m )\n",
      "File \u001b[1;32mc:\\Users\\praskulkarni\\AppData\\Local\\Programs\\Python\\Python311\\Lib\\site-packages\\xgboost\\sklearn.py:1107\u001b[0m, in \u001b[0;36mXGBModel.predict\u001b[1;34m(self, X, output_margin, ntree_limit, validate_features, base_margin, iteration_range)\u001b[0m\n\u001b[0;32m   1065\u001b[0m \u001b[39mdef\u001b[39;00m \u001b[39mpredict\u001b[39m(\n\u001b[0;32m   1066\u001b[0m     \u001b[39mself\u001b[39m,\n\u001b[0;32m   1067\u001b[0m     X: ArrayLike,\n\u001b[1;32m   (...)\u001b[0m\n\u001b[0;32m   1072\u001b[0m     iteration_range: Optional[Tuple[\u001b[39mint\u001b[39m, \u001b[39mint\u001b[39m]] \u001b[39m=\u001b[39m \u001b[39mNone\u001b[39;00m,\n\u001b[0;32m   1073\u001b[0m ) \u001b[39m-\u001b[39m\u001b[39m>\u001b[39m np\u001b[39m.\u001b[39mndarray:\n\u001b[0;32m   1074\u001b[0m \u001b[39m    \u001b[39m\u001b[39m\"\"\"Predict with `X`.  If the model is trained with early stopping, then `best_iteration`\u001b[39;00m\n\u001b[0;32m   1075\u001b[0m \u001b[39m    is used automatically.  For tree models, when data is on GPU, like cupy array or\u001b[39;00m\n\u001b[0;32m   1076\u001b[0m \u001b[39m    cuDF dataframe and `predictor` is not specified, the prediction is run on GPU\u001b[39;00m\n\u001b[1;32m   (...)\u001b[0m\n\u001b[0;32m   1105\u001b[0m \n\u001b[0;32m   1106\u001b[0m \u001b[39m    \"\"\"\u001b[39;00m\n\u001b[1;32m-> 1107\u001b[0m     \u001b[39mwith\u001b[39;49;00m config_context(verbosity\u001b[39m=\u001b[39;49m\u001b[39mself\u001b[39;49m\u001b[39m.\u001b[39;49mverbosity):\n\u001b[0;32m   1108\u001b[0m         iteration_range \u001b[39m=\u001b[39;49m _convert_ntree_limit(\n\u001b[0;32m   1109\u001b[0m             \u001b[39mself\u001b[39;49m\u001b[39m.\u001b[39;49mget_booster(), ntree_limit, iteration_range\n\u001b[0;32m   1110\u001b[0m         )\n\u001b[0;32m   1111\u001b[0m         iteration_range \u001b[39m=\u001b[39;49m \u001b[39mself\u001b[39;49m\u001b[39m.\u001b[39;49m_get_iteration_range(iteration_range)\n",
      "File \u001b[1;32mc:\\Users\\praskulkarni\\AppData\\Local\\Programs\\Python\\Python311\\Lib\\contextlib.py:137\u001b[0m, in \u001b[0;36m_GeneratorContextManager.__enter__\u001b[1;34m(self)\u001b[0m\n\u001b[0;32m    135\u001b[0m \u001b[39mdel\u001b[39;00m \u001b[39mself\u001b[39m\u001b[39m.\u001b[39margs, \u001b[39mself\u001b[39m\u001b[39m.\u001b[39mkwds, \u001b[39mself\u001b[39m\u001b[39m.\u001b[39mfunc\n\u001b[0;32m    136\u001b[0m \u001b[39mtry\u001b[39;00m:\n\u001b[1;32m--> 137\u001b[0m     \u001b[39mreturn\u001b[39;00m \u001b[39mnext\u001b[39m(\u001b[39mself\u001b[39m\u001b[39m.\u001b[39mgen)\n\u001b[0;32m    138\u001b[0m \u001b[39mexcept\u001b[39;00m \u001b[39mStopIteration\u001b[39;00m:\n\u001b[0;32m    139\u001b[0m     \u001b[39mraise\u001b[39;00m \u001b[39mRuntimeError\u001b[39;00m(\u001b[39m\"\u001b[39m\u001b[39mgenerator didn\u001b[39m\u001b[39m'\u001b[39m\u001b[39mt yield\u001b[39m\u001b[39m\"\u001b[39m) \u001b[39mfrom\u001b[39;00m \u001b[39mNone\u001b[39;00m\n",
      "File \u001b[1;32mc:\\Users\\praskulkarni\\AppData\\Local\\Programs\\Python\\Python311\\Lib\\site-packages\\xgboost\\config.py:180\u001b[0m, in \u001b[0;36mconfig_context\u001b[1;34m(**new_config)\u001b[0m\n\u001b[0;32m    155\u001b[0m \u001b[39m@contextmanager\u001b[39m\n\u001b[0;32m    156\u001b[0m \u001b[39m@config_doc\u001b[39m(\n\u001b[0;32m    157\u001b[0m     header\u001b[39m=\u001b[39m\u001b[39m\"\"\"\u001b[39m\n\u001b[1;32m   (...)\u001b[0m\n\u001b[0;32m    178\u001b[0m )\n\u001b[0;32m    179\u001b[0m \u001b[39mdef\u001b[39;00m \u001b[39mconfig_context\u001b[39m(\u001b[39m*\u001b[39m\u001b[39m*\u001b[39mnew_config: Any) \u001b[39m-\u001b[39m\u001b[39m>\u001b[39m Iterator[\u001b[39mNone\u001b[39;00m]:\n\u001b[1;32m--> 180\u001b[0m     old_config \u001b[39m=\u001b[39m get_config()\u001b[39m.\u001b[39mcopy()\n\u001b[0;32m    181\u001b[0m     set_config(\u001b[39m*\u001b[39m\u001b[39m*\u001b[39mnew_config)\n\u001b[0;32m    183\u001b[0m     \u001b[39mtry\u001b[39;00m:\n",
      "File \u001b[1;32mc:\\Users\\praskulkarni\\AppData\\Local\\Programs\\Python\\Python311\\Lib\\site-packages\\xgboost\\config.py:108\u001b[0m, in \u001b[0;36mconfig_doc.<locals>.config_doc_decorator.<locals>.wrap\u001b[1;34m(*args, **kwargs)\u001b[0m\n\u001b[0;32m    106\u001b[0m \u001b[39m@wraps\u001b[39m(func)\n\u001b[0;32m    107\u001b[0m \u001b[39mdef\u001b[39;00m \u001b[39mwrap\u001b[39m(\u001b[39m*\u001b[39margs: Any, \u001b[39m*\u001b[39m\u001b[39m*\u001b[39mkwargs: Any) \u001b[39m-\u001b[39m\u001b[39m>\u001b[39m Any:\n\u001b[1;32m--> 108\u001b[0m     \u001b[39mreturn\u001b[39;00m func(\u001b[39m*\u001b[39;49margs, \u001b[39m*\u001b[39;49m\u001b[39m*\u001b[39;49mkwargs)\n",
      "File \u001b[1;32mc:\\Users\\praskulkarni\\AppData\\Local\\Programs\\Python\\Python311\\Lib\\site-packages\\xgboost\\config.py:148\u001b[0m, in \u001b[0;36mget_config\u001b[1;34m()\u001b[0m\n\u001b[0;32m    135\u001b[0m \u001b[39m@config_doc\u001b[39m(\n\u001b[0;32m    136\u001b[0m     header\u001b[39m=\u001b[39m\u001b[39m\"\"\"\u001b[39m\n\u001b[0;32m    137\u001b[0m \u001b[39m    Get current values of the global configuration.\u001b[39m\n\u001b[1;32m   (...)\u001b[0m\n\u001b[0;32m    145\u001b[0m )\n\u001b[0;32m    146\u001b[0m \u001b[39mdef\u001b[39;00m \u001b[39mget_config\u001b[39m() \u001b[39m-\u001b[39m\u001b[39m>\u001b[39m Dict[\u001b[39mstr\u001b[39m, Any]:\n\u001b[0;32m    147\u001b[0m     config_str \u001b[39m=\u001b[39m ctypes\u001b[39m.\u001b[39mc_char_p()\n\u001b[1;32m--> 148\u001b[0m     _check_call(_LIB\u001b[39m.\u001b[39;49mXGBGetGlobalConfig(ctypes\u001b[39m.\u001b[39;49mbyref(config_str)))\n\u001b[0;32m    149\u001b[0m     value \u001b[39m=\u001b[39m config_str\u001b[39m.\u001b[39mvalue\n\u001b[0;32m    150\u001b[0m     \u001b[39massert\u001b[39;00m value\n",
      "\u001b[1;31mKeyboardInterrupt\u001b[0m: "
     ]
    }
   ],
   "source": [
    "# Create a DICE explainer object and generate an explanation\n",
    "\n",
    "exp = Dice(d, m,method='genetic').generate_counterfactuals(test_instance, total_CFs=20, desired_class=\"opposite\",\n",
    "                                                            features_to_vary=[\"trestbps\", \"chol\", \"thalach\"],permitted_range = {\"trestbps\": [80, 120], \"chol\": [100, 200], \"thalach\": [70,220- test_instance['age'].values[0]]}\n",
    "                                                           )\n",
    " \n",
    "# Print the explanation\n",
    "print(exp.visualize_as_dataframe())\n"
   ]
  },
  {
   "cell_type": "code",
   "execution_count": 21,
   "metadata": {},
   "outputs": [
    {
     "name": "stderr",
     "output_type": "stream",
     "text": [
      "100%|██████████| 1/1 [00:00<00:00,  2.68it/s]\n"
     ]
    },
    {
     "name": "stdout",
     "output_type": "stream",
     "text": [
      "Counterfactuals for instance 0:\n"
     ]
    },
    {
     "name": "stderr",
     "output_type": "stream",
     "text": [
      "100%|██████████| 1/1 [00:00<00:00,  3.09it/s]\n"
     ]
    },
    {
     "name": "stdout",
     "output_type": "stream",
     "text": [
      "Counterfactuals for instance 1:\n"
     ]
    },
    {
     "name": "stderr",
     "output_type": "stream",
     "text": [
      "100%|██████████| 1/1 [00:02<00:00,  2.25s/it]\n",
      "100%|██████████| 1/1 [00:32<00:00, 32.02s/it]\n"
     ]
    },
    {
     "name": "stdout",
     "output_type": "stream",
     "text": [
      "Counterfactuals for instance 2:\n"
     ]
    },
    {
     "name": "stderr",
     "output_type": "stream",
     "text": [
      "100%|██████████| 1/1 [00:00<00:00,  1.19it/s]\n"
     ]
    },
    {
     "name": "stdout",
     "output_type": "stream",
     "text": [
      "Counterfactuals for instance 3:\n"
     ]
    },
    {
     "name": "stderr",
     "output_type": "stream",
     "text": [
      "100%|██████████| 1/1 [00:00<00:00,  1.16it/s]\n"
     ]
    },
    {
     "name": "stdout",
     "output_type": "stream",
     "text": [
      "Counterfactuals for instance 4:\n"
     ]
    },
    {
     "name": "stderr",
     "output_type": "stream",
     "text": [
      "100%|██████████| 1/1 [00:00<00:00,  1.34it/s]\n"
     ]
    },
    {
     "name": "stdout",
     "output_type": "stream",
     "text": [
      "Counterfactuals for instance 5:\n"
     ]
    },
    {
     "name": "stderr",
     "output_type": "stream",
     "text": [
      "100%|██████████| 1/1 [00:05<00:00,  5.87s/it]\n",
      "100%|██████████| 1/1 [05:34<00:00, 334.30s/it]\n"
     ]
    },
    {
     "name": "stdout",
     "output_type": "stream",
     "text": [
      "Counterfactuals for instance 6:\n"
     ]
    },
    {
     "name": "stderr",
     "output_type": "stream",
     "text": [
      "100%|██████████| 1/1 [00:00<00:00,  1.95it/s]\n"
     ]
    },
    {
     "name": "stdout",
     "output_type": "stream",
     "text": [
      "Counterfactuals for instance 7:\n"
     ]
    },
    {
     "name": "stderr",
     "output_type": "stream",
     "text": [
      "  0%|          | 0/1 [1:53:43<?, ?it/s]\n"
     ]
    },
    {
     "ename": "KeyboardInterrupt",
     "evalue": "",
     "output_type": "error",
     "traceback": [
      "\u001b[1;31m---------------------------------------------------------------------------\u001b[0m",
      "\u001b[1;31mKeyboardInterrupt\u001b[0m                         Traceback (most recent call last)",
      "Cell \u001b[1;32mIn[21], line 13\u001b[0m\n\u001b[0;32m     11\u001b[0m test_instance \u001b[39m=\u001b[39m X_high_risk\u001b[39m.\u001b[39miloc[[i]]\n\u001b[0;32m     12\u001b[0m \u001b[39mtry\u001b[39;00m:\n\u001b[1;32m---> 13\u001b[0m     exp \u001b[39m=\u001b[39m dice\u001b[39m.\u001b[39;49mgenerate_counterfactuals(test_instance, total_CFs\u001b[39m=\u001b[39;49m\u001b[39m5\u001b[39;49m, desired_class\u001b[39m=\u001b[39;49m\u001b[39m\"\u001b[39;49m\u001b[39mopposite\u001b[39;49m\u001b[39m\"\u001b[39;49m,\n\u001b[0;32m     14\u001b[0m                                         features_to_vary\u001b[39m=\u001b[39;49m[\u001b[39m\"\u001b[39;49m\u001b[39mtrestbps\u001b[39;49m\u001b[39m\"\u001b[39;49m, \u001b[39m\"\u001b[39;49m\u001b[39mchol\u001b[39;49m\u001b[39m\"\u001b[39;49m, \u001b[39m\"\u001b[39;49m\u001b[39mthalach\u001b[39;49m\u001b[39m\"\u001b[39;49m], \n\u001b[0;32m     15\u001b[0m                                         permitted_range\u001b[39m=\u001b[39;49m{\u001b[39m\"\u001b[39;49m\u001b[39mtrestbps\u001b[39;49m\u001b[39m\"\u001b[39;49m: [\u001b[39m80\u001b[39;49m, \u001b[39m130\u001b[39;49m],\n\u001b[0;32m     16\u001b[0m                                                         \u001b[39m\"\u001b[39;49m\u001b[39mchol\u001b[39;49m\u001b[39m\"\u001b[39;49m: [\u001b[39m100\u001b[39;49m,\u001b[39m200\u001b[39;49m],\n\u001b[0;32m     17\u001b[0m                                                         \u001b[39m\"\u001b[39;49m\u001b[39mthalach\u001b[39;49m\u001b[39m\"\u001b[39;49m: [\u001b[39m70\u001b[39;49m, \u001b[39m220\u001b[39;49m \u001b[39m-\u001b[39;49m test_instance[\u001b[39m'\u001b[39;49m\u001b[39mage\u001b[39;49m\u001b[39m'\u001b[39;49m]\u001b[39m.\u001b[39;49mvalues[\u001b[39m0\u001b[39;49m]]},\n\u001b[0;32m     18\u001b[0m                                         maxiterations\u001b[39m=\u001b[39;49m\u001b[39m100\u001b[39;49m)\n\u001b[0;32m     19\u001b[0m \u001b[39mexcept\u001b[39;00m \u001b[39mException\u001b[39;00m \u001b[39mas\u001b[39;00m e:\n\u001b[0;32m     20\u001b[0m     exp \u001b[39m=\u001b[39m  Dice(d, m, method\u001b[39m=\u001b[39m\u001b[39m\"\u001b[39m\u001b[39mgenetic\u001b[39m\u001b[39m\"\u001b[39m)\u001b[39m.\u001b[39mgenerate_counterfactuals(test_instance, total_CFs\u001b[39m=\u001b[39m\u001b[39m5\u001b[39m, desired_class\u001b[39m=\u001b[39m\u001b[39m\"\u001b[39m\u001b[39mopposite\u001b[39m\u001b[39m\"\u001b[39m,\n\u001b[0;32m     21\u001b[0m                                                                  features_to_vary\u001b[39m=\u001b[39m[\u001b[39m\"\u001b[39m\u001b[39mtrestbps\u001b[39m\u001b[39m\"\u001b[39m, \u001b[39m\"\u001b[39m\u001b[39mchol\u001b[39m\u001b[39m\"\u001b[39m, \u001b[39m\"\u001b[39m\u001b[39mthalach\u001b[39m\u001b[39m\"\u001b[39m],\n\u001b[0;32m     22\u001b[0m                                                                  maxiterations\u001b[39m=\u001b[39m\u001b[39m100\u001b[39m)\n",
      "File \u001b[1;32mc:\\Users\\praskulkarni\\AppData\\Local\\Programs\\Python\\Python311\\Lib\\site-packages\\dice_ml\\explainer_interfaces\\explainer_base.py:161\u001b[0m, in \u001b[0;36mExplainerBase.generate_counterfactuals\u001b[1;34m(self, query_instances, total_CFs, desired_class, desired_range, permitted_range, features_to_vary, stopping_threshold, posthoc_sparsity_param, proximity_weight, sparsity_weight, diversity_weight, categorical_penalty, posthoc_sparsity_algorithm, verbose, **kwargs)\u001b[0m\n\u001b[0;32m    159\u001b[0m \u001b[39mfor\u001b[39;00m query_instance \u001b[39min\u001b[39;00m tqdm(query_instances_list):\n\u001b[0;32m    160\u001b[0m     \u001b[39mself\u001b[39m\u001b[39m.\u001b[39mdata_interface\u001b[39m.\u001b[39mset_continuous_feature_indexes(query_instance)\n\u001b[1;32m--> 161\u001b[0m     res \u001b[39m=\u001b[39m \u001b[39mself\u001b[39;49m\u001b[39m.\u001b[39;49m_generate_counterfactuals(\n\u001b[0;32m    162\u001b[0m         query_instance, total_CFs,\n\u001b[0;32m    163\u001b[0m         desired_class\u001b[39m=\u001b[39;49mdesired_class,\n\u001b[0;32m    164\u001b[0m         desired_range\u001b[39m=\u001b[39;49mdesired_range,\n\u001b[0;32m    165\u001b[0m         permitted_range\u001b[39m=\u001b[39;49mpermitted_range,\n\u001b[0;32m    166\u001b[0m         features_to_vary\u001b[39m=\u001b[39;49mfeatures_to_vary,\n\u001b[0;32m    167\u001b[0m         stopping_threshold\u001b[39m=\u001b[39;49mstopping_threshold,\n\u001b[0;32m    168\u001b[0m         posthoc_sparsity_param\u001b[39m=\u001b[39;49mposthoc_sparsity_param,\n\u001b[0;32m    169\u001b[0m         posthoc_sparsity_algorithm\u001b[39m=\u001b[39;49mposthoc_sparsity_algorithm,\n\u001b[0;32m    170\u001b[0m         verbose\u001b[39m=\u001b[39;49mverbose,\n\u001b[0;32m    171\u001b[0m         \u001b[39m*\u001b[39;49m\u001b[39m*\u001b[39;49mkwargs)\n\u001b[0;32m    172\u001b[0m     cf_examples_arr\u001b[39m.\u001b[39mappend(res)\n\u001b[0;32m    173\u001b[0m \u001b[39mself\u001b[39m\u001b[39m.\u001b[39m_check_any_counterfactuals_computed(cf_examples_arr\u001b[39m=\u001b[39mcf_examples_arr)\n",
      "File \u001b[1;32mc:\\Users\\praskulkarni\\AppData\\Local\\Programs\\Python\\Python311\\Lib\\site-packages\\dice_ml\\explainer_interfaces\\dice_genetic.py:288\u001b[0m, in \u001b[0;36mDiceGenetic._generate_counterfactuals\u001b[1;34m(self, query_instance, total_CFs, initialization, desired_range, desired_class, proximity_weight, sparsity_weight, diversity_weight, categorical_penalty, algorithm, features_to_vary, permitted_range, yloss_type, diversity_loss_type, feature_weights, stopping_threshold, posthoc_sparsity_param, posthoc_sparsity_algorithm, maxiterations, thresh, verbose)\u001b[0m\n\u001b[0;32m    285\u001b[0m     \u001b[39mif\u001b[39;00m col \u001b[39mnot\u001b[39;00m \u001b[39min\u001b[39;00m query_instance_df_dummies\u001b[39m.\u001b[39mcolumns:\n\u001b[0;32m    286\u001b[0m         query_instance_df_dummies[col] \u001b[39m=\u001b[39m \u001b[39m0\u001b[39m\n\u001b[1;32m--> 288\u001b[0m \u001b[39mself\u001b[39;49m\u001b[39m.\u001b[39;49mdo_param_initializations(total_CFs, initialization, desired_range, desired_class, query_instance,\n\u001b[0;32m    289\u001b[0m                               query_instance_df_dummies, algorithm, features_to_vary, permitted_range,\n\u001b[0;32m    290\u001b[0m                               yloss_type, diversity_loss_type, feature_weights, proximity_weight,\n\u001b[0;32m    291\u001b[0m                               sparsity_weight, diversity_weight, categorical_penalty, verbose)\n\u001b[0;32m    293\u001b[0m query_instance_df \u001b[39m=\u001b[39m \u001b[39mself\u001b[39m\u001b[39m.\u001b[39mfind_counterfactuals(query_instance, desired_range, desired_class, features_to_vary,\n\u001b[0;32m    294\u001b[0m                                               maxiterations, thresh, verbose)\n\u001b[0;32m    296\u001b[0m \u001b[39mreturn\u001b[39;00m exp\u001b[39m.\u001b[39mCounterfactualExamples(data_interface\u001b[39m=\u001b[39m\u001b[39mself\u001b[39m\u001b[39m.\u001b[39mdata_interface,\n\u001b[0;32m    297\u001b[0m                                   test_instance_df\u001b[39m=\u001b[39mquery_instance_df,\n\u001b[0;32m    298\u001b[0m                                   final_cfs_df\u001b[39m=\u001b[39m\u001b[39mself\u001b[39m\u001b[39m.\u001b[39mfinal_cfs_df,\n\u001b[1;32m   (...)\u001b[0m\n\u001b[0;32m    302\u001b[0m                                   desired_class\u001b[39m=\u001b[39mdesired_class,\n\u001b[0;32m    303\u001b[0m                                   model_type\u001b[39m=\u001b[39m\u001b[39mself\u001b[39m\u001b[39m.\u001b[39mmodel\u001b[39m.\u001b[39mmodel_type)\n",
      "File \u001b[1;32mc:\\Users\\praskulkarni\\AppData\\Local\\Programs\\Python\\Python311\\Lib\\site-packages\\dice_ml\\explainer_interfaces\\dice_genetic.py:194\u001b[0m, in \u001b[0;36mDiceGenetic.do_param_initializations\u001b[1;34m(self, total_CFs, initialization, desired_range, desired_class, query_instance, query_instance_df_dummies, algorithm, features_to_vary, permitted_range, yloss_type, diversity_loss_type, feature_weights, proximity_weight, sparsity_weight, diversity_weight, categorical_penalty, verbose)\u001b[0m\n\u001b[0;32m    192\u001b[0m \u001b[39mself\u001b[39m\u001b[39m.\u001b[39mfeature_range \u001b[39m=\u001b[39m \u001b[39mself\u001b[39m\u001b[39m.\u001b[39mget_valid_feature_range(normalized\u001b[39m=\u001b[39m\u001b[39mFalse\u001b[39;00m)\n\u001b[0;32m    193\u001b[0m \u001b[39mif\u001b[39;00m \u001b[39mlen\u001b[39m(\u001b[39mself\u001b[39m\u001b[39m.\u001b[39mcfs) \u001b[39m!=\u001b[39m total_CFs:\n\u001b[1;32m--> 194\u001b[0m     \u001b[39mself\u001b[39;49m\u001b[39m.\u001b[39;49mdo_cf_initializations(\n\u001b[0;32m    195\u001b[0m         total_CFs, initialization, algorithm, features_to_vary, desired_range, desired_class,\n\u001b[0;32m    196\u001b[0m         query_instance, query_instance_df_dummies, verbose)\n\u001b[0;32m    197\u001b[0m \u001b[39melse\u001b[39;00m:\n\u001b[0;32m    198\u001b[0m     \u001b[39mself\u001b[39m\u001b[39m.\u001b[39mtotal_CFs \u001b[39m=\u001b[39m total_CFs\n",
      "File \u001b[1;32mc:\\Users\\praskulkarni\\AppData\\Local\\Programs\\Python\\Python311\\Lib\\site-packages\\dice_ml\\explainer_interfaces\\dice_genetic.py:180\u001b[0m, in \u001b[0;36mDiceGenetic.do_cf_initializations\u001b[1;34m(self, total_CFs, initialization, algorithm, features_to_vary, desired_range, desired_class, query_instance, query_instance_df_dummies, verbose)\u001b[0m\n\u001b[0;32m    178\u001b[0m         indices \u001b[39m=\u001b[39m \u001b[39mself\u001b[39m\u001b[39m.\u001b[39mKD_tree\u001b[39m.\u001b[39mquery(query_instance_df_dummies, num_queries)[\u001b[39m1\u001b[39m][\u001b[39m0\u001b[39m]\n\u001b[0;32m    179\u001b[0m         KD_tree_output \u001b[39m=\u001b[39m \u001b[39mself\u001b[39m\u001b[39m.\u001b[39mdataset_with_predictions\u001b[39m.\u001b[39miloc[indices]\u001b[39m.\u001b[39mcopy()\n\u001b[1;32m--> 180\u001b[0m         \u001b[39mself\u001b[39;49m\u001b[39m.\u001b[39;49mdo_KD_init(features_to_vary, query_instance, KD_tree_output, desired_class, desired_range)\n\u001b[0;32m    182\u001b[0m \u001b[39mif\u001b[39;00m verbose:\n\u001b[0;32m    183\u001b[0m     \u001b[39mprint\u001b[39m(\u001b[39m\"\u001b[39m\u001b[39mInitialization complete! Generating counterfactuals...\u001b[39m\u001b[39m\"\u001b[39m)\n",
      "File \u001b[1;32mc:\\Users\\praskulkarni\\AppData\\Local\\Programs\\Python\\Python311\\Lib\\site-packages\\dice_ml\\explainer_interfaces\\dice_genetic.py:140\u001b[0m, in \u001b[0;36mDiceGenetic.do_KD_init\u001b[1;34m(self, features_to_vary, query_instance, cfs, desired_class, desired_range)\u001b[0m\n\u001b[0;32m    137\u001b[0m uniques \u001b[39m=\u001b[39m np\u001b[39m.\u001b[39munique(new_array, axis\u001b[39m=\u001b[39m\u001b[39m0\u001b[39m)\n\u001b[0;32m    139\u001b[0m \u001b[39mif\u001b[39;00m \u001b[39mlen\u001b[39m(uniques) \u001b[39m!=\u001b[39m \u001b[39mself\u001b[39m\u001b[39m.\u001b[39mpopulation_size:\n\u001b[1;32m--> 140\u001b[0m     remaining_cfs \u001b[39m=\u001b[39m \u001b[39mself\u001b[39;49m\u001b[39m.\u001b[39;49mdo_random_init(\n\u001b[0;32m    141\u001b[0m         \u001b[39mself\u001b[39;49m\u001b[39m.\u001b[39;49mpopulation_size \u001b[39m-\u001b[39;49m \u001b[39mlen\u001b[39;49m(uniques), features_to_vary, query_instance, desired_class, desired_range)\n\u001b[0;32m    142\u001b[0m     \u001b[39mself\u001b[39m\u001b[39m.\u001b[39mcfs \u001b[39m=\u001b[39m np\u001b[39m.\u001b[39mconcatenate([uniques, remaining_cfs])\n",
      "File \u001b[1;32mc:\\Users\\praskulkarni\\AppData\\Local\\Programs\\Python\\Python311\\Lib\\site-packages\\dice_ml\\explainer_interfaces\\dice_genetic.py:98\u001b[0m, in \u001b[0;36mDiceGenetic.do_random_init\u001b[1;34m(self, num_inits, features_to_vary, query_instance, desired_class, desired_range)\u001b[0m\n\u001b[0;32m     96\u001b[0m     \u001b[39melse\u001b[39;00m:\n\u001b[0;32m     97\u001b[0m         one_init[jx] \u001b[39m=\u001b[39m query_instance[jx]\n\u001b[1;32m---> 98\u001b[0m \u001b[39mif\u001b[39;00m \u001b[39mself\u001b[39m\u001b[39m.\u001b[39mis_cf_valid(\u001b[39mself\u001b[39;49m\u001b[39m.\u001b[39;49mpredict_fn_scores(one_init)):\n\u001b[0;32m     99\u001b[0m     remaining_cfs[kx] \u001b[39m=\u001b[39m one_init\n\u001b[0;32m    100\u001b[0m     kx \u001b[39m+\u001b[39m\u001b[39m=\u001b[39m \u001b[39m1\u001b[39m\n",
      "File \u001b[1;32mc:\\Users\\praskulkarni\\AppData\\Local\\Programs\\Python\\Python311\\Lib\\site-packages\\dice_ml\\explainer_interfaces\\dice_genetic.py:307\u001b[0m, in \u001b[0;36mDiceGenetic.predict_fn_scores\u001b[1;34m(self, input_instance)\u001b[0m\n\u001b[0;32m    305\u001b[0m \u001b[39mdef\u001b[39;00m \u001b[39mpredict_fn_scores\u001b[39m(\u001b[39mself\u001b[39m, input_instance):\n\u001b[0;32m    306\u001b[0m \u001b[39m    \u001b[39m\u001b[39m\"\"\"Returns prediction scores.\"\"\"\u001b[39;00m\n\u001b[1;32m--> 307\u001b[0m     input_instance \u001b[39m=\u001b[39m \u001b[39mself\u001b[39;49m\u001b[39m.\u001b[39;49mlabel_decode(input_instance)\n\u001b[0;32m    308\u001b[0m     out \u001b[39m=\u001b[39m \u001b[39mself\u001b[39m\u001b[39m.\u001b[39mmodel\u001b[39m.\u001b[39mget_output(input_instance)\n\u001b[0;32m    309\u001b[0m     \u001b[39mif\u001b[39;00m \u001b[39mself\u001b[39m\u001b[39m.\u001b[39mmodel\u001b[39m.\u001b[39mmodel_type \u001b[39m==\u001b[39m ModelTypes\u001b[39m.\u001b[39mClassifier \u001b[39mand\u001b[39;00m out\u001b[39m.\u001b[39mshape[\u001b[39m1\u001b[39m] \u001b[39m==\u001b[39m \u001b[39m1\u001b[39m:\n\u001b[0;32m    310\u001b[0m         \u001b[39m# DL models return only 1 for binary classification\u001b[39;00m\n",
      "File \u001b[1;32mc:\\Users\\praskulkarni\\AppData\\Local\\Programs\\Python\\Python311\\Lib\\site-packages\\dice_ml\\explainer_interfaces\\dice_genetic.py:555\u001b[0m, in \u001b[0;36mDiceGenetic.label_decode\u001b[1;34m(self, labelled_input)\u001b[0m\n\u001b[0;32m    553\u001b[0m \u001b[39mif\u001b[39;00m \u001b[39mself\u001b[39m\u001b[39m.\u001b[39mdata_interface\u001b[39m.\u001b[39mfeature_names[i] \u001b[39min\u001b[39;00m \u001b[39mself\u001b[39m\u001b[39m.\u001b[39mdata_interface\u001b[39m.\u001b[39mcategorical_feature_names:\n\u001b[0;32m    554\u001b[0m     enc \u001b[39m=\u001b[39m \u001b[39mself\u001b[39m\u001b[39m.\u001b[39mlabelencoder[\u001b[39mself\u001b[39m\u001b[39m.\u001b[39mdata_interface\u001b[39m.\u001b[39mfeature_names[i]]\n\u001b[1;32m--> 555\u001b[0m     val \u001b[39m=\u001b[39m enc\u001b[39m.\u001b[39;49minverse_transform(np\u001b[39m.\u001b[39;49marray([labelled_input[j][i]], dtype\u001b[39m=\u001b[39;49mnp\u001b[39m.\u001b[39;49mint32))\n\u001b[0;32m    556\u001b[0m     temp[\u001b[39mself\u001b[39m\u001b[39m.\u001b[39mdata_interface\u001b[39m.\u001b[39mfeature_names[i]] \u001b[39m=\u001b[39m val[\u001b[39m0\u001b[39m]\n\u001b[0;32m    557\u001b[0m \u001b[39melse\u001b[39;00m:\n",
      "File \u001b[1;32mc:\\Users\\praskulkarni\\AppData\\Local\\Programs\\Python\\Python311\\Lib\\site-packages\\sklearn\\preprocessing\\_label.py:160\u001b[0m, in \u001b[0;36mLabelEncoder.inverse_transform\u001b[1;34m(self, y)\u001b[0m\n\u001b[0;32m    157\u001b[0m \u001b[39mif\u001b[39;00m _num_samples(y) \u001b[39m==\u001b[39m \u001b[39m0\u001b[39m:\n\u001b[0;32m    158\u001b[0m     \u001b[39mreturn\u001b[39;00m np\u001b[39m.\u001b[39marray([])\n\u001b[1;32m--> 160\u001b[0m diff \u001b[39m=\u001b[39m np\u001b[39m.\u001b[39msetdiff1d(y, np\u001b[39m.\u001b[39marange(\u001b[39mlen\u001b[39m(\u001b[39mself\u001b[39m\u001b[39m.\u001b[39mclasses_)))\n\u001b[0;32m    161\u001b[0m \u001b[39mif\u001b[39;00m \u001b[39mlen\u001b[39m(diff):\n\u001b[0;32m    162\u001b[0m     \u001b[39mraise\u001b[39;00m \u001b[39mValueError\u001b[39;00m(\u001b[39m\"\u001b[39m\u001b[39my contains previously unseen labels: \u001b[39m\u001b[39m%s\u001b[39;00m\u001b[39m\"\u001b[39m \u001b[39m%\u001b[39m \u001b[39mstr\u001b[39m(diff))\n",
      "\u001b[1;31mKeyboardInterrupt\u001b[0m: "
     ]
    }
   ],
   "source": [
    "# Load the dataset and create a machine learning model\n",
    "# ...\n",
    "\n",
    "# Create a Dice explainer object with the Genetic method\n",
    "dice = Dice(d, m, method='genetic')\n",
    "\n",
    "exps_ = []\n",
    "\n",
    "# Iterate over each instance of X_high_risk and generate counterfactuals\n",
    "for i in range(len(X_high_risk)):\n",
    "    test_instance = X_high_risk.iloc[[i]]\n",
    "    try:\n",
    "        exp = dice.generate_counterfactuals(test_instance, total_CFs=5, desired_class=\"opposite\",\n",
    "                                            features_to_vary=[\"trestbps\", \"chol\", \"thalach\"], \n",
    "                                            permitted_range={\"trestbps\": [80, 130],\n",
    "                                                            \"chol\": [100,200],\n",
    "                                                            \"thalach\": [70, 220 - test_instance['age'].values[0]]},\n",
    "                                            maxiterations=100)\n",
    "    except Exception as e:\n",
    "        exp =  Dice(d, m, method=\"genetic\").generate_counterfactuals(test_instance, total_CFs=5, desired_class=\"opposite\",\n",
    "                                                                     features_to_vary=[\"trestbps\", \"chol\", \"thalach\"],\n",
    "                                                                     maxiterations=100)\n",
    "        \n",
    "    # Print the explanation\n",
    "    print(f\"Counterfactuals for instance {i}:\")\n",
    "    #print(exp.visualize_as_dataframe())\n",
    "    exps_.append(exp)"
   ]
  },
  {
   "cell_type": "code",
   "execution_count": 51,
   "metadata": {},
   "outputs": [
    {
     "data": {
      "text/plain": [
       "<dice_ml.counterfactual_explanations.CounterfactualExplanations at 0x1effcf74fd0>"
      ]
     },
     "execution_count": 51,
     "metadata": {},
     "output_type": "execute_result"
    }
   ],
   "source": [
    "exp_dice"
   ]
  },
  {
   "cell_type": "code",
   "execution_count": 24,
   "metadata": {},
   "outputs": [],
   "source": [
    "\n",
    "exp_dfs = exp_dice.cf_examples_list[0].final_cfs_df"
   ]
  },
  {
   "cell_type": "code",
   "execution_count": 25,
   "metadata": {},
   "outputs": [],
   "source": [
    "exp_dfs.drop(['target'], axis=1, inplace=True)"
   ]
  },
  {
   "cell_type": "code",
   "execution_count": 26,
   "metadata": {},
   "outputs": [
    {
     "data": {
      "text/plain": [
       "array([1, 0, 0, 0, 0, 0, 0, 0, 0, 0, 0, 0, 0, 0, 0, 0, 0, 0, 0, 0])"
      ]
     },
     "execution_count": 26,
     "metadata": {},
     "output_type": "execute_result"
    }
   ],
   "source": [
    "xgb_pipeline.predict(exp_dfs)"
   ]
  },
  {
   "cell_type": "code",
   "execution_count": 27,
   "metadata": {},
   "outputs": [
    {
     "name": "stderr",
     "output_type": "stream",
     "text": [
      "C:\\Users\\praskulkarni\\AppData\\Local\\Temp\\ipykernel_20456\\99395437.py:1: SettingWithCopyWarning: \n",
      "A value is trying to be set on a copy of a slice from a DataFrame.\n",
      "Try using .loc[row_indexer,col_indexer] = value instead\n",
      "\n",
      "See the caveats in the documentation: https://pandas.pydata.org/pandas-docs/stable/user_guide/indexing.html#returning-a-view-versus-a-copy\n",
      "  test_instance['target'] = 1\n"
     ]
    }
   ],
   "source": [
    "test_instance['target'] = 1"
   ]
  },
  {
   "cell_type": "code",
   "execution_count": 28,
   "metadata": {},
   "outputs": [],
   "source": [
    "chol_test = test_instance['chol'].values[0]\n",
    "tres_test = test_instance['trestbps'].values[0]\n",
    "thalach_test = test_instance['thalach'].values[0]"
   ]
  },
  {
   "cell_type": "code",
   "execution_count": 29,
   "metadata": {},
   "outputs": [],
   "source": [
    "feasible_counterfactuals = exp_dfs[((exp_dfs['thalach'] > thalach_test) & (exp_dfs['thalach']< 220 - exp_dfs['age'])) & (exp_dfs['chol'] < chol_test) & (exp_dfs['trestbps'] < tres_test)]"
   ]
  },
  {
   "cell_type": "markdown",
   "metadata": {},
   "source": [
    "For subjects with cholestestoral in range … and have target=0, their target would be 1 if cholesterol were greater than …\n",
    "For subjects with cholesterol in range … and thalac in range … and target = 0, their target would be 1 if cholesterol were in range …. thalac were in range …\n",
    "Monotonicity\n",
    "Shape of the Curve between variables \n",
    "Cholestrol can either increase the chance or it has no effect\n",
    "(Constrained XgBoost, Normalizing flows,Linear Models)"
   ]
  },
  {
   "cell_type": "markdown",
   "metadata": {},
   "source": []
  },
  {
   "cell_type": "code",
   "execution_count": 30,
   "metadata": {},
   "outputs": [],
   "source": [
    "exp_dfs['target']=0"
   ]
  },
  {
   "cell_type": "code",
   "execution_count": 31,
   "metadata": {},
   "outputs": [],
   "source": [
    "fact_and_counterfactual = pd.concat([test_instance,exp_dfs])"
   ]
  },
  {
   "cell_type": "code",
   "execution_count": 32,
   "metadata": {},
   "outputs": [
    {
     "data": {
      "text/html": [
       "<div>\n",
       "<style scoped>\n",
       "    .dataframe tbody tr th:only-of-type {\n",
       "        vertical-align: middle;\n",
       "    }\n",
       "\n",
       "    .dataframe tbody tr th {\n",
       "        vertical-align: top;\n",
       "    }\n",
       "\n",
       "    .dataframe thead th {\n",
       "        text-align: right;\n",
       "    }\n",
       "</style>\n",
       "<table border=\"1\" class=\"dataframe\">\n",
       "  <thead>\n",
       "    <tr style=\"text-align: right;\">\n",
       "      <th></th>\n",
       "      <th>age</th>\n",
       "      <th>sex</th>\n",
       "      <th>cp</th>\n",
       "      <th>trestbps</th>\n",
       "      <th>chol</th>\n",
       "      <th>fbs</th>\n",
       "      <th>restecg</th>\n",
       "      <th>thalach</th>\n",
       "      <th>exang</th>\n",
       "      <th>oldpeak</th>\n",
       "      <th>slope</th>\n",
       "      <th>target</th>\n",
       "    </tr>\n",
       "  </thead>\n",
       "  <tbody>\n",
       "    <tr>\n",
       "      <th>0</th>\n",
       "      <td>59.0</td>\n",
       "      <td>1</td>\n",
       "      <td>1</td>\n",
       "      <td>160.0</td>\n",
       "      <td>273.0</td>\n",
       "      <td>0</td>\n",
       "      <td>2</td>\n",
       "      <td>125.0</td>\n",
       "      <td>0</td>\n",
       "      <td>0.0</td>\n",
       "      <td>1</td>\n",
       "      <td>1</td>\n",
       "    </tr>\n",
       "    <tr>\n",
       "      <th>0</th>\n",
       "      <td>59.0</td>\n",
       "      <td>1</td>\n",
       "      <td>1</td>\n",
       "      <td>106.0</td>\n",
       "      <td>176.0</td>\n",
       "      <td>0</td>\n",
       "      <td>2</td>\n",
       "      <td>125.0</td>\n",
       "      <td>0</td>\n",
       "      <td>0.0</td>\n",
       "      <td>1</td>\n",
       "      <td>0</td>\n",
       "    </tr>\n",
       "    <tr>\n",
       "      <th>0</th>\n",
       "      <td>59.0</td>\n",
       "      <td>1</td>\n",
       "      <td>1</td>\n",
       "      <td>105.0</td>\n",
       "      <td>176.0</td>\n",
       "      <td>0</td>\n",
       "      <td>2</td>\n",
       "      <td>125.0</td>\n",
       "      <td>0</td>\n",
       "      <td>0.0</td>\n",
       "      <td>1</td>\n",
       "      <td>0</td>\n",
       "    </tr>\n",
       "    <tr>\n",
       "      <th>0</th>\n",
       "      <td>59.0</td>\n",
       "      <td>1</td>\n",
       "      <td>1</td>\n",
       "      <td>105.0</td>\n",
       "      <td>173.0</td>\n",
       "      <td>0</td>\n",
       "      <td>2</td>\n",
       "      <td>125.0</td>\n",
       "      <td>0</td>\n",
       "      <td>0.0</td>\n",
       "      <td>1</td>\n",
       "      <td>0</td>\n",
       "    </tr>\n",
       "    <tr>\n",
       "      <th>0</th>\n",
       "      <td>59.0</td>\n",
       "      <td>1</td>\n",
       "      <td>1</td>\n",
       "      <td>103.0</td>\n",
       "      <td>180.0</td>\n",
       "      <td>0</td>\n",
       "      <td>2</td>\n",
       "      <td>125.0</td>\n",
       "      <td>0</td>\n",
       "      <td>0.0</td>\n",
       "      <td>1</td>\n",
       "      <td>0</td>\n",
       "    </tr>\n",
       "    <tr>\n",
       "      <th>0</th>\n",
       "      <td>59.0</td>\n",
       "      <td>1</td>\n",
       "      <td>1</td>\n",
       "      <td>102.0</td>\n",
       "      <td>185.0</td>\n",
       "      <td>0</td>\n",
       "      <td>2</td>\n",
       "      <td>125.0</td>\n",
       "      <td>0</td>\n",
       "      <td>0.0</td>\n",
       "      <td>1</td>\n",
       "      <td>0</td>\n",
       "    </tr>\n",
       "    <tr>\n",
       "      <th>0</th>\n",
       "      <td>59.0</td>\n",
       "      <td>1</td>\n",
       "      <td>1</td>\n",
       "      <td>100.0</td>\n",
       "      <td>182.0</td>\n",
       "      <td>0</td>\n",
       "      <td>2</td>\n",
       "      <td>125.0</td>\n",
       "      <td>0</td>\n",
       "      <td>0.0</td>\n",
       "      <td>1</td>\n",
       "      <td>0</td>\n",
       "    </tr>\n",
       "    <tr>\n",
       "      <th>0</th>\n",
       "      <td>59.0</td>\n",
       "      <td>1</td>\n",
       "      <td>1</td>\n",
       "      <td>100.0</td>\n",
       "      <td>182.0</td>\n",
       "      <td>0</td>\n",
       "      <td>2</td>\n",
       "      <td>125.0</td>\n",
       "      <td>0</td>\n",
       "      <td>0.0</td>\n",
       "      <td>1</td>\n",
       "      <td>0</td>\n",
       "    </tr>\n",
       "    <tr>\n",
       "      <th>0</th>\n",
       "      <td>59.0</td>\n",
       "      <td>1</td>\n",
       "      <td>1</td>\n",
       "      <td>100.0</td>\n",
       "      <td>178.0</td>\n",
       "      <td>0</td>\n",
       "      <td>2</td>\n",
       "      <td>125.0</td>\n",
       "      <td>0</td>\n",
       "      <td>0.0</td>\n",
       "      <td>1</td>\n",
       "      <td>0</td>\n",
       "    </tr>\n",
       "    <tr>\n",
       "      <th>0</th>\n",
       "      <td>59.0</td>\n",
       "      <td>1</td>\n",
       "      <td>1</td>\n",
       "      <td>100.0</td>\n",
       "      <td>175.0</td>\n",
       "      <td>0</td>\n",
       "      <td>2</td>\n",
       "      <td>125.0</td>\n",
       "      <td>0</td>\n",
       "      <td>0.0</td>\n",
       "      <td>1</td>\n",
       "      <td>0</td>\n",
       "    </tr>\n",
       "    <tr>\n",
       "      <th>0</th>\n",
       "      <td>59.0</td>\n",
       "      <td>1</td>\n",
       "      <td>1</td>\n",
       "      <td>100.0</td>\n",
       "      <td>174.0</td>\n",
       "      <td>0</td>\n",
       "      <td>2</td>\n",
       "      <td>125.0</td>\n",
       "      <td>0</td>\n",
       "      <td>0.0</td>\n",
       "      <td>1</td>\n",
       "      <td>0</td>\n",
       "    </tr>\n",
       "    <tr>\n",
       "      <th>0</th>\n",
       "      <td>59.0</td>\n",
       "      <td>1</td>\n",
       "      <td>1</td>\n",
       "      <td>98.0</td>\n",
       "      <td>173.0</td>\n",
       "      <td>0</td>\n",
       "      <td>2</td>\n",
       "      <td>125.0</td>\n",
       "      <td>0</td>\n",
       "      <td>0.0</td>\n",
       "      <td>1</td>\n",
       "      <td>0</td>\n",
       "    </tr>\n",
       "    <tr>\n",
       "      <th>0</th>\n",
       "      <td>59.0</td>\n",
       "      <td>1</td>\n",
       "      <td>1</td>\n",
       "      <td>96.0</td>\n",
       "      <td>182.0</td>\n",
       "      <td>0</td>\n",
       "      <td>2</td>\n",
       "      <td>125.0</td>\n",
       "      <td>0</td>\n",
       "      <td>0.0</td>\n",
       "      <td>1</td>\n",
       "      <td>0</td>\n",
       "    </tr>\n",
       "    <tr>\n",
       "      <th>0</th>\n",
       "      <td>59.0</td>\n",
       "      <td>1</td>\n",
       "      <td>1</td>\n",
       "      <td>95.0</td>\n",
       "      <td>185.0</td>\n",
       "      <td>0</td>\n",
       "      <td>2</td>\n",
       "      <td>125.0</td>\n",
       "      <td>0</td>\n",
       "      <td>0.0</td>\n",
       "      <td>1</td>\n",
       "      <td>0</td>\n",
       "    </tr>\n",
       "    <tr>\n",
       "      <th>0</th>\n",
       "      <td>59.0</td>\n",
       "      <td>1</td>\n",
       "      <td>1</td>\n",
       "      <td>95.0</td>\n",
       "      <td>177.0</td>\n",
       "      <td>0</td>\n",
       "      <td>2</td>\n",
       "      <td>125.0</td>\n",
       "      <td>0</td>\n",
       "      <td>0.0</td>\n",
       "      <td>1</td>\n",
       "      <td>0</td>\n",
       "    </tr>\n",
       "    <tr>\n",
       "      <th>0</th>\n",
       "      <td>59.0</td>\n",
       "      <td>1</td>\n",
       "      <td>1</td>\n",
       "      <td>93.0</td>\n",
       "      <td>185.0</td>\n",
       "      <td>0</td>\n",
       "      <td>2</td>\n",
       "      <td>125.0</td>\n",
       "      <td>0</td>\n",
       "      <td>0.0</td>\n",
       "      <td>1</td>\n",
       "      <td>0</td>\n",
       "    </tr>\n",
       "    <tr>\n",
       "      <th>0</th>\n",
       "      <td>59.0</td>\n",
       "      <td>1</td>\n",
       "      <td>1</td>\n",
       "      <td>93.0</td>\n",
       "      <td>176.0</td>\n",
       "      <td>0</td>\n",
       "      <td>2</td>\n",
       "      <td>125.0</td>\n",
       "      <td>0</td>\n",
       "      <td>0.0</td>\n",
       "      <td>1</td>\n",
       "      <td>0</td>\n",
       "    </tr>\n",
       "    <tr>\n",
       "      <th>0</th>\n",
       "      <td>59.0</td>\n",
       "      <td>1</td>\n",
       "      <td>1</td>\n",
       "      <td>91.0</td>\n",
       "      <td>173.0</td>\n",
       "      <td>0</td>\n",
       "      <td>2</td>\n",
       "      <td>125.0</td>\n",
       "      <td>0</td>\n",
       "      <td>0.0</td>\n",
       "      <td>1</td>\n",
       "      <td>0</td>\n",
       "    </tr>\n",
       "    <tr>\n",
       "      <th>0</th>\n",
       "      <td>59.0</td>\n",
       "      <td>1</td>\n",
       "      <td>1</td>\n",
       "      <td>90.0</td>\n",
       "      <td>185.0</td>\n",
       "      <td>0</td>\n",
       "      <td>2</td>\n",
       "      <td>125.0</td>\n",
       "      <td>0</td>\n",
       "      <td>0.0</td>\n",
       "      <td>1</td>\n",
       "      <td>0</td>\n",
       "    </tr>\n",
       "    <tr>\n",
       "      <th>0</th>\n",
       "      <td>59.0</td>\n",
       "      <td>1</td>\n",
       "      <td>1</td>\n",
       "      <td>90.0</td>\n",
       "      <td>182.0</td>\n",
       "      <td>0</td>\n",
       "      <td>2</td>\n",
       "      <td>125.0</td>\n",
       "      <td>0</td>\n",
       "      <td>0.0</td>\n",
       "      <td>1</td>\n",
       "      <td>0</td>\n",
       "    </tr>\n",
       "    <tr>\n",
       "      <th>0</th>\n",
       "      <td>59.0</td>\n",
       "      <td>1</td>\n",
       "      <td>1</td>\n",
       "      <td>88.0</td>\n",
       "      <td>176.0</td>\n",
       "      <td>0</td>\n",
       "      <td>2</td>\n",
       "      <td>125.0</td>\n",
       "      <td>0</td>\n",
       "      <td>0.0</td>\n",
       "      <td>1</td>\n",
       "      <td>0</td>\n",
       "    </tr>\n",
       "  </tbody>\n",
       "</table>\n",
       "</div>"
      ],
      "text/plain": [
       "    age sex cp  trestbps   chol fbs restecg  thalach exang  oldpeak slope  \\\n",
       "0  59.0   1  1     160.0  273.0   0       2    125.0     0      0.0     1   \n",
       "0  59.0   1  1     106.0  176.0   0       2    125.0     0      0.0     1   \n",
       "0  59.0   1  1     105.0  176.0   0       2    125.0     0      0.0     1   \n",
       "0  59.0   1  1     105.0  173.0   0       2    125.0     0      0.0     1   \n",
       "0  59.0   1  1     103.0  180.0   0       2    125.0     0      0.0     1   \n",
       "0  59.0   1  1     102.0  185.0   0       2    125.0     0      0.0     1   \n",
       "0  59.0   1  1     100.0  182.0   0       2    125.0     0      0.0     1   \n",
       "0  59.0   1  1     100.0  182.0   0       2    125.0     0      0.0     1   \n",
       "0  59.0   1  1     100.0  178.0   0       2    125.0     0      0.0     1   \n",
       "0  59.0   1  1     100.0  175.0   0       2    125.0     0      0.0     1   \n",
       "0  59.0   1  1     100.0  174.0   0       2    125.0     0      0.0     1   \n",
       "0  59.0   1  1      98.0  173.0   0       2    125.0     0      0.0     1   \n",
       "0  59.0   1  1      96.0  182.0   0       2    125.0     0      0.0     1   \n",
       "0  59.0   1  1      95.0  185.0   0       2    125.0     0      0.0     1   \n",
       "0  59.0   1  1      95.0  177.0   0       2    125.0     0      0.0     1   \n",
       "0  59.0   1  1      93.0  185.0   0       2    125.0     0      0.0     1   \n",
       "0  59.0   1  1      93.0  176.0   0       2    125.0     0      0.0     1   \n",
       "0  59.0   1  1      91.0  173.0   0       2    125.0     0      0.0     1   \n",
       "0  59.0   1  1      90.0  185.0   0       2    125.0     0      0.0     1   \n",
       "0  59.0   1  1      90.0  182.0   0       2    125.0     0      0.0     1   \n",
       "0  59.0   1  1      88.0  176.0   0       2    125.0     0      0.0     1   \n",
       "\n",
       "   target  \n",
       "0       1  \n",
       "0       0  \n",
       "0       0  \n",
       "0       0  \n",
       "0       0  \n",
       "0       0  \n",
       "0       0  \n",
       "0       0  \n",
       "0       0  \n",
       "0       0  \n",
       "0       0  \n",
       "0       0  \n",
       "0       0  \n",
       "0       0  \n",
       "0       0  \n",
       "0       0  \n",
       "0       0  \n",
       "0       0  \n",
       "0       0  \n",
       "0       0  \n",
       "0       0  "
      ]
     },
     "execution_count": 32,
     "metadata": {},
     "output_type": "execute_result"
    }
   ],
   "source": [
    "fact_and_counterfactual"
   ]
  },
  {
   "cell_type": "code",
   "execution_count": null,
   "metadata": {},
   "outputs": [],
   "source": []
  },
  {
   "cell_type": "code",
   "execution_count": null,
   "metadata": {},
   "outputs": [],
   "source": []
  },
  {
   "cell_type": "code",
   "execution_count": null,
   "metadata": {},
   "outputs": [],
   "source": []
  }
 ],
 "metadata": {
  "kernelspec": {
   "display_name": "Python 3",
   "language": "python",
   "name": "python3"
  },
  "language_info": {
   "codemirror_mode": {
    "name": "ipython",
    "version": 3
   },
   "file_extension": ".py",
   "mimetype": "text/x-python",
   "name": "python",
   "nbconvert_exporter": "python",
   "pygments_lexer": "ipython3",
   "version": "3.11.6"
  },
  "orig_nbformat": 4
 },
 "nbformat": 4,
 "nbformat_minor": 2
}
